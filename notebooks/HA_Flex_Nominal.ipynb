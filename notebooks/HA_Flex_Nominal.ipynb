{
 "cells": [
  {
   "cell_type": "markdown",
   "metadata": {},
   "source": [
    "# Example 1: HA model with flexible prices and nominal bonds\n",
    "\n",
    "In this notebook we \n",
    "\n",
    "- 1. solve a modified version of the one-asset HANK model from Auclert, Bardóczy, Rognlie, Straub (2021): \"Using the Sequence-Space Jacobian to Solve and Estimate Heterogeneous-Agent Models\" ([link to paper](https://www.bencebardoczy.com/publication/sequence-jacobian/sequence-jacobian.pdf)) For model details please see their paper\n",
    "\n",
    "     Modifications:\n",
    "      \n",
    "         - Flexible Prices\n",
    "    \n",
    "         - Endowment Economy\n",
    "\n",
    "         - Government Bonds are Nominal\n",
    "    \n",
    "- 2. Using the Jacobian from step 1 to compute the winding number to check determinacy following Hagedorn (2023) \"Local Determinacy in Incomplete-Markets Models\"\n",
    "\n",
    "For more examples and information on the Local Determimnacy toolkit, please visit our [GitHub page](https://github.com/shade-econ/sequence-jacobian)."
   ]
  },
  {
   "cell_type": "code",
   "execution_count": 2,
   "metadata": {},
   "outputs": [],
   "source": [
    "import numpy as np\n",
    "import matplotlib.pyplot as plt\n",
    "import local_determinacy as ld\n",
    "\n",
    "from sequence_jacobian import simple, create_model  # functions\n",
    "from sequence_jacobian import hetblocks, grids      # modules\n"
   ]
  },
  {
   "cell_type": "markdown",
   "metadata": {},
   "source": [
    "## 2 The Model\n",
    "\n",
    "We follow Auclert, Bardóczy, Rognlie, Straub (2021) and define\n",
    "\n",
    "- Inputs for the heterogeneous household block \n",
    "\n",
    "- Other model (non-household) parts (steady state)\n",
    "\n",
    "- Compute and Calibrate the Steady state\n",
    "\n",
    "- Other model (non-household) parts (transition)"
   ]
  },
  {
   "cell_type": "markdown",
   "metadata": {},
   "source": [
    "### 2.1 Hetinputs\n",
    "\n",
    "We use the hetBlock`hh_sim` (standard incomplete markets model) from the SSJ toolkit located in `sequence_jacobian/hetblocks`.\n"
   ]
  },
  {
   "cell_type": "code",
   "execution_count": 2,
   "metadata": {},
   "outputs": [],
   "source": [
    "hh = hetblocks.hh_sim.hh\n",
    "\n",
    "def make_grids(rho_e, sd_e, n_e, min_a, max_a, n_a):\n",
    "            e_grid, pi_e , Pi = grids.markov_rouwenhorst(rho_e, sd_e, n_e)\n",
    "            a_grid = grids.asset_grid(min_a, max_a, n_a)\n",
    "            return e_grid, pi_e, Pi, a_grid\n",
    "\n",
    "def income(w, Tax, pi_e, e_grid):\n",
    "            tax_rule = e_grid\n",
    "            tax = Tax / np.sum(pi_e * tax_rule) * tax_rule\n",
    "            y =  w * e_grid - tax \n",
    "            return y\n",
    "\n",
    "hh1 = hh.add_hetinputs([make_grids, income])\n"
   ]
  },
  {
   "cell_type": "markdown",
   "metadata": {},
   "source": [
    "### 2.2 Model Blocks \n",
    "\n",
    "We substitute lagged values to simplify the comuputation of the winding number.\n",
    "Lagged Inflation P(-1) -> PL\n",
    "\n",
    "$\\underline{\\text{Monetary policy rule}}$ for nominal interest rate $i_{t+1}$\n",
    "$$\n",
    "\\frac{1+i_{t+1}}{1+r^*} = 1 +\\phi  \\frac{P(-1)-P_{ss}}{P_{ss}} = 1 +\\phi  \\frac{PL-P_{ss}}{P_{ss}},\n",
    "$$\n",
    "where $PL$ is the lagged price level, $P_{ss}$ is the steady-state price level and $r^*$ is the steady-state interest rate.\n",
    "\n",
    "\n",
    "\n",
    "$\\underline{\\text{Fiscal policy rule}}$ for nominal debt \n",
    "$$\n",
    "\\frac{B_{t+1}}{B_{ss}} = 1+ \\phi^B \\frac{P(-1)-P_{ss}}{P_{ss}}   = 1 +\\phi^B  \\frac{PL-P_{ss}}{P_{ss}},\n",
    "$$"
   ]
  },
  {
   "cell_type": "code",
   "execution_count": 3,
   "metadata": {},
   "outputs": [],
   "source": [
    "@simple\n",
    "def monetary(PL, rstar, rscale, phi,Pss):\n",
    "            rN = (1 + rstar + rscale* phi * (PL-Pss)/Pss) -1 \n",
    "            return rN\n",
    "\n",
    "@simple\n",
    "def monetaryReal(pi, Realshock, rN, Div, B, F):\n",
    "        r = (1 + rN) / (1 + pi) - 1 + Realshock + (Div-F)/B\n",
    "        return r\n",
    "\n",
    "@simple\n",
    "def fiscal(rN, B, PL):\n",
    "        Tax = (1+rN) * B/PL(+1) - B(+1)/PL(+1) \n",
    "        return Tax\n",
    "\n",
    "@simple\n",
    "def debt(PL, phiB,  Pss, Bss):\n",
    "        B = Bss*(1+phiB * (PL-Pss)/Pss) \n",
    "        return B\n",
    "\n",
    "\n",
    "@simple\n",
    "def inflation(PL):\n",
    "        pi =  PL(+1)/PL-1\n",
    "        return pi\n",
    "\n",
    "\n",
    "@simple\n",
    "def dividend(w, mu):\n",
    "        Div = 1 - w \n",
    "        F = (1-1/mu)\n",
    "        return Div, F \n",
    "\n",
    "\n",
    "@simple \n",
    "def mkt_clearing(A, B,PL,Bss):\n",
    "        asset_mkt = (A - B(+1)/PL(+1))/Bss\n",
    "        bonds = B/PL/Bss\n",
    "        return asset_mkt, bonds\n",
    "\n",
    "\n",
    "@simple\n",
    "def nkpc_ss(mu):\n",
    "        w = 1/mu\n",
    "        return w"
   ]
  },
  {
   "cell_type": "markdown",
   "metadata": {},
   "source": [
    "### 2.3 Steady State and Calibration\n",
    "\n"
   ]
  },
  {
   "cell_type": "code",
   "execution_count": 4,
   "metadata": {},
   "outputs": [],
   "source": [
    "blocks_ss = [hh1,monetary, monetaryReal, fiscal, debt, inflation, dividend,  mkt_clearing, nkpc_ss]\n",
    "\n",
    "ha_ss = create_model(blocks_ss, name=\"One-Asset Simple HANK SS\")\n",
    "\n",
    "\n",
    "calibration = {'eis': 1.0, 'rho_e': 0.945, 'frisch': 0.5, 'taxrate': 0.0, 'sd_e': 0.7, 'n_e': 13,\n",
    "               'min_a': 0.0, 'max_a': 1000, 'n_a': 200, 'PL': 1.0, 'Pss': 1.0, 'Bss': 4,\n",
    "               'mu': 1.1, 'rstar': 0.0125, 'rscale': 1.0125 , 'Realshock': 0.0 , 'phi': 0.0, 'phiB': 0.0, 'B': 4}\n",
    "\n",
    "unknowns_ss = {'beta': 0.986}\n",
    "targets_ss = {'asset_mkt': 0}\n",
    "\n",
    "ss0 = ha_ss.solve_steady_state(calibration, unknowns_ss, targets_ss, solver=\"hybr\")\n"
   ]
  },
  {
   "cell_type": "markdown",
   "metadata": {},
   "source": [
    "### 2.4 Transition\n",
    "\n",
    "- No further blocks need to be added: All steady-state blocks are valid in transition since prices are flexible. "
   ]
  },
  {
   "cell_type": "code",
   "execution_count": 5,
   "metadata": {},
   "outputs": [],
   "source": [
    "blocks = [hh1,monetary, monetaryReal, fiscal, debt, inflation, dividend,  mkt_clearing, nkpc_ss]\n",
    "\n",
    "ha = create_model(blocks, name=\"One-Asset Simple Flex NoHANK\")\n",
    "\n",
    "ss = ha.steady_state(ss0)"
   ]
  },
  {
   "cell_type": "markdown",
   "metadata": {},
   "source": [
    "### 3 Obtain Jacobian and Compute Winding Number \n",
    "\n",
    "\n",
    "-  Linearizing the asset market clearing condition, $A(P_{t-1},P_t, P_{t+1}, \\ldots, P_{t+k}, \\ldots) - B = 0$ with respect to  $x_{t+k} = P_{t+k-1}$ delivers infinite number of leads. There are no lags since we use $PL = P(-1)$.\n",
    "\t\t\t$$\n",
    "\t\t\\sum_{k=0}^{\\infty} A_k E_t x_{t+k} = 0,  \n",
    "\t\t\t$$\t\n",
    "\n",
    "-  The SSJ package delivers the derivatives of the asset market clearing condition, $A(P_{t-1}, P_t, P_{t+1}, \\ldots, P_{t+k}, \\ldots) - B = 0$,\n",
    "\t\t\t$$\n",
    "\t\tA_k = \\frac{\\partial (A(\\ldots) - B)}{\\partial x_{t+k}} =  \\frac{\\partial (A(\\ldots) - B)}{\\partial \\pi_{t-1+k}}, \\text{\\hspace{0.2cm} for \\hspace{0.1cm}} k=0,1,2,\\ldots\n",
    "\t\t\t$$\t\n",
    "\twhere $x_{t+k} = P_{t+k-1} \\hspace{0.1cm}$ for $ k=0,1,2,\\ldots$\n",
    "-  Onatski (06) defines the complex function\n",
    "\t\t\t$$\n",
    "\t\t\t{\\color{red} \\Theta(\\lambda)} = det \\sum_{k=0}^{\\infty} A_k e^{-i k \\lambda},\n",
    "\t\t\t$$\n",
    "- ${\\color{red} \\text{Winding number}}$ is defined as  the number of times the graph of $\\Theta(\\lambda)$ rotates around zero counter-clockwise when $\\lambda$ goes form $0$ to $2 \\pi$.\n",
    "\n",
    "- Ontaski (2006) shows\n",
    "\t\n",
    "\t- ${\\color{red} \\text{Determinacy}}$  (=unique bounded solution) if the ${\\color{green} \\text{winding number }}$  of $\\Theta(\\lambda)$ is equal to ${\\color{green} \\text{zero}}$.\n",
    "\n",
    "\t- ${\\color{red} \\text{ Multiple Solutions}}$    if winding number is ${\\color{green} \\text{less than zero}}$.\n",
    "\n",
    "\t- ${\\color{red} \\text{ No Solution}}$ if winding number is ${\\color{green} \\text{larger than zero}}$.\n",
    "\n",
    "\t\t \n",
    "\t\t "
   ]
  },
  {
   "cell_type": "markdown",
   "metadata": {},
   "source": [
    "### 4 Algorithm: Specification Details\n",
    "\n",
    "- The ${\\color{blue} \\text{unknown}}$  variable is lagged price level: ${\\color{red} \\text{PL}}$ \n",
    "\n",
    "- The price level is ${\\color{blue} \\text{not predetermined}}$:   ${\\color{red} \\text{predetermined=[0]}}$ \n",
    "\n",
    "- The price level is a ${\\color{blue} \\text{lagged}}$ variable (policy rule): ${\\color{red} \\text{lags=[1]}}$ \n",
    "\n",
    "- The equilibrium condition (${\\color{blue} \\text{targets}}$) is the asset market clearing condition: ${\\color{red} \\text{asset\\_mkt}}$ "
   ]
  },
  {
   "cell_type": "code",
   "execution_count": 6,
   "metadata": {},
   "outputs": [
    {
     "name": "stdout",
     "output_type": "stream",
     "text": [
      "-1.0\n",
      "Winding number: 0\n",
      "The economy is DETERMINATE\n"
     ]
    },
    {
     "data": {
      "image/png": "[encoded data removed]",
      "text/plain": [
       "<Figure size 640x480 with 1 Axes>"
      ]
     },
     "metadata": {},
     "output_type": "display_data"
    }
   ],
   "source": [
    "T = 300\n",
    "\n",
    "exogenous = ['Realshock']\n",
    "unknowns = ['PL']\n",
    "targets = ['asset_mkt','bonds']\n",
    "\n",
    "H_U = ha.jacobian(ss, unknowns, targets, T=T)\n",
    "H_Z = ha.jacobian(ss, exogenous, targets, T=T)\n",
    "\n",
    "targets = ['asset_mkt']\n",
    "\n",
    "onatski, dU = ld.onatski(targets = targets, endogenous = unknowns,  predetermined=[0], lags=[1] , T =T, ss0=ss0, H_U = H_U,  exogenous = 'Realshock', H_Z = H_Z)\n",
    "\n",
    "windingNumber = ld.onatskiWindingNumber(onatski)\n",
    "print(ld.checkSolutions(windingNumber))\n",
    "\n",
    "ld.plot(onatski)\n"
   ]
  }
 ],
 "metadata": {
  "kernelspec": {
   "display_name": "Python 3",
   "language": "python",
   "name": "python3"
  },
  "language_info": {
   "codemirror_mode": {
    "name": "ipython",
    "version": 3
   },
   "file_extension": ".py",
   "mimetype": "text/x-python",
   "name": "python",
   "nbconvert_exporter": "python",
   "pygments_lexer": "ipython3",
   "version": "3.12.3"
  }
 },
 "nbformat": 4,
 "nbformat_minor": 2
}
