{
 "cells": [
  {
   "cell_type": "markdown",
   "metadata": {},
   "source": [
    "# Example 4: HA model with sticky prices and real bonds\n",
    "\n",
    "In this notebook we \n",
    "\n",
    "- 1. solve a modified version of the one-asset HANK model from Auclert, Bardóczy, Rognlie, Straub (2021): \"Using the Sequence-Space Jacobian to Solve and Estimate Heterogeneous-Agent Models\" ([link to paper](https://www.bencebardoczy.com/publication/sequence-jacobian/sequence-jacobian.pdf)) For model details please see their paper\n",
    "\n",
    "      Modifications:\n",
    "      \n",
    "          - All households work same amount of hours\n",
    "    \n",
    "- 2. Using the Jacobian from step 1 to compute the winding number to check determinacy following Hagedorn (2023) \"Local Determinacy in Incomplete-Markets Models\"\n",
    "\n",
    "For more examples and information on the Local Determimnacy toolkit, please visit our [GitHub page](https://github.com/shade-econ/sequence-jacobian)."
   ]
  },
  {
   "cell_type": "code",
   "execution_count": 10,
   "metadata": {},
   "outputs": [],
   "source": [
    "import numpy as np\n",
    "import matplotlib.pyplot as plt\n",
    "import local_determinacy as ld\n",
    "\n",
    "from sequence_jacobian import simple, create_model  # functions\n",
    "from sequence_jacobian import hetblocks, grids      # modules\n",
    "\n"
   ]
  },
  {
   "cell_type": "markdown",
   "metadata": {},
   "source": [
    "## 2 The Model\n",
    "\n",
    "We follow Auclert, Bardóczy, Rognlie, Straub (2021) and define\n",
    "\n",
    "- Inputs for the heterogeneous household block \n",
    "\n",
    "- Other model (non-household) parts (steady state)\n",
    "\n",
    "- Compute and Calibrate the Steady state\n",
    "\n",
    "- Other model (non-household) parts (transition)"
   ]
  },
  {
   "cell_type": "markdown",
   "metadata": {},
   "source": [
    "### 2.1 Hetinputs\n",
    "\n",
    "We use the hetBlock`hh_sim` (standard incomplete markets model) from the SSJ toolkit located in `sequence_jacobian/hetblocks`."
   ]
  },
  {
   "cell_type": "code",
   "execution_count": 11,
   "metadata": {},
   "outputs": [],
   "source": [
    "hh = hetblocks.hh_sim.hh\n",
    "\n",
    "def make_grids(rho_e, sd_e, n_e, min_a, max_a, n_a):\n",
    "            e_grid, pi_e , Pi = grids.markov_rouwenhorst(rho_e, sd_e, n_e)\n",
    "            a_grid = grids.asset_grid(min_a, max_a, n_a)\n",
    "            return e_grid, pi_e, Pi, a_grid\n",
    "\n",
    "def income(w, Tax, Y, pi_e, e_grid):\n",
    "            tax_rule,  Y_rule = e_grid, e_grid\n",
    "            yy = Y / np.sum(pi_e * Y_rule) * Y_rule\n",
    "            tax = Tax / np.sum(pi_e * tax_rule) * tax_rule\n",
    "            #tax = Tax  \n",
    "            y = w * yy - tax\n",
    "            return y\n",
    "\n",
    "hh1 = hh.add_hetinputs([make_grids, income])\n"
   ]
  },
  {
   "cell_type": "markdown",
   "metadata": {},
   "source": [
    "### 2.2 Model Blocks \n",
    "\n",
    "We substitute lagged values to simplify the comuputation of the winding number.\n",
    "Lagged Inflation pi(-1) -> piL\n",
    "\n",
    "$\\underline{\\text{Monetary policy rule}}$ for nominal interest rate $i_{t+1}$\n",
    "$$\n",
    "\\frac{1+i_{t+1}}{1+r^*} = 1 +\\phi  \\frac{\\pi(-1)-\\pi_{ss}}{1+\\pi_{ss}} = 1 +\\phi  \\frac{piL-\\pi_{ss}}{1+\\pi_{ss}},\n",
    "$$\n",
    "where $piL$ is the lagged inflation level, $\\pi_{ss}$ is the steady-state inflation rate and $r^*$ is the steady-state interest rate."
   ]
  },
  {
   "cell_type": "code",
   "execution_count": 12,
   "metadata": {},
   "outputs": [],
   "source": [
    "@simple\n",
    "def monetary(piL, rstar, rscale, phi):\n",
    "        rN = (1 + rstar + rscale* phi * piL) -1 \n",
    "        return rN\n",
    "\n",
    "@simple\n",
    "def monetaryReal(piL, rN, F, B, Y, w,  Realshock):\n",
    "        r = (1 + rN) / (1 + piL(+1)) - 1  + (Y*(1-w)-F)/B +  Realshock\n",
    "        return r\n",
    "\n",
    "\n",
    "@simple\n",
    "def fiscal(rN, B, piL):\n",
    "        Tax = ((1 + rN) / (1 + piL(+1)) - 1 ) * B \n",
    "        return Tax\n",
    "\n",
    "\n",
    "@simple\n",
    "def wageinf(piL,w):\n",
    "        wpi =  (1+piL(+1))*w/w(-1)-1\n",
    "        return wpi\n",
    "\n",
    "@simple\n",
    "def nkpc_ss(Y, mu, muw, vphi, frisch, eis, Yss):\n",
    "        F = (1-1/mu)*Yss\n",
    "        LL = Y\n",
    "        Cons = Y - F \n",
    "        uc = Cons ** (-1 / eis)\n",
    "        w = muw* (vphi * LL ** (1 + 1 / frisch))/(uc)\n",
    "        return w, F\n",
    "\n",
    "@simple \n",
    "def mkt_clearing_A(A, B,Bss,Y,C,F):\n",
    "        asset_mkt = (A -B)/Bss\n",
    "        goods_mkt = Y - F- C\n",
    "        goods = C\n",
    "        assets = A\n",
    "        return asset_mkt, goods_mkt, goods, assets\n",
    "\n",
    "@simple \n",
    "def mkt_clearing_L(mu, w):\n",
    "        labor_mkt = w - (1/mu)\n",
    "        return  labor_mkt\n",
    "\n"
   ]
  },
  {
   "cell_type": "markdown",
   "metadata": {},
   "source": [
    "### 2.3 Steady State and Calibration"
   ]
  },
  {
   "cell_type": "code",
   "execution_count": 13,
   "metadata": {},
   "outputs": [],
   "source": [
    "blocks_ss = [hh1, monetary, monetaryReal, fiscal,  nkpc_ss, mkt_clearing_A,mkt_clearing_L, wageinf]\n",
    "\n",
    "hank_ss = create_model(blocks_ss, name=\"One-Asset Simple HANK SS\")\n",
    "\n",
    "calibration= {'eis': 1, 'rho_e': 0.945, 'frisch': 0.5, 'sd_e': 0.7, 'n_e': 13,\n",
    "               'min_a': 0.0, 'max_a': 1000, 'n_a': 200, 'piL': 0.0, 'piL': 0.0,  'Y': 1, 'Yss': 1, 'w' : 0.0909909, 'wpi': 0.0,\n",
    "               'mu': 1.1,  'muw': 1.1, 'kappaw': 0.03, 'lambdaw': 0.03, 'kappa': 0.03, 'rstar': 0.0125, 'Realshock': 0.0, 'rscale': 1.0125 , 'phi': 1.5, 'B': 4, 'Bss': 4}\n",
    "\n",
    "\n",
    "phistart = calibration['muw']**(-1)*calibration['mu'] ** (1/calibration['eis']-1)/(calibration['Y'] ** ( (1 + 1 / calibration['frisch'])+1/calibration['eis']))\n",
    "       \n",
    "unknowns_ss = {'beta': 0.976, 'vphi': phistart}  \n",
    "        \n",
    "targets_ss = {'asset_mkt': 0, 'labor_mkt': 0}\n",
    "\n",
    "ss0 = hank_ss.solve_steady_state(calibration, unknowns_ss, targets_ss, solver=\"hybr\")\n"
   ]
  },
  {
   "cell_type": "markdown",
   "metadata": {},
   "source": [
    "### 2.4 Transition\n",
    "\n",
    "The Phillips curves for prices and wages have to be added for transitions since prices and wages are rigid.  All steady-state blocks are valid in transition. The New Keynesian Phillips curve is solved for wage $w$ as a function of inflation. The wage Phillips curve is solved for output $Y$ as a function of wage inflation.\n",
    "The full model can therefore be written as a function of inflation."
   ]
  },
  {
   "cell_type": "code",
   "execution_count": 14,
   "metadata": {},
   "outputs": [],
   "source": [
    "@simple\n",
    "def nkpc(piL, beta, kappa):\n",
    "       w = ss0[\"w\"] * (1+ (1+ss0[\"piL\"] )*( (1 + piL(+1)).apply(np.log) - beta*(1 + piL(+2)).apply(np.log) )/kappa) \n",
    "       return w\n",
    "\n",
    "@simple\n",
    "def nkpc_wage(beta, kappaw,wpi,w,lambdaw):\n",
    "       Y = ss0[\"Y\"] * (1+ (1+ss0[\"wpi\"] )*( (1 + wpi).apply(np.log) - beta*(1 + wpi(+1)).apply(np.log) +lambdaw * ((w/ss0['w'])-1) )/kappaw)\n",
    "       return Y\n",
    "\n",
    "blocks = [hh1,monetary, monetaryReal, fiscal, mkt_clearing_A, nkpc, nkpc_wage,  wageinf]\n",
    "hank = create_model(blocks, name=\"One-Asset Simple HANK\")\n",
    "\n",
    "ss = hank.steady_state(ss0)\n"
   ]
  },
  {
   "cell_type": "markdown",
   "metadata": {},
   "source": [
    "### 3 Obtain Jacobian and Compute Winding Number \n",
    "\n",
    "\n",
    "-  Linearizing the asset market clearing condition, $A(\\pi_{t-1},\\pi_t, \\pi_{t+1}, \\ldots, \\pi_{t+k}, \\ldots) - B = 0$ with respect to  $x_{t+k} = \\pi_{t+k-1}$ delivers infinite number of leads. There are no lags since we use $piL = pi(-1)$.\n",
    "\t\t\t$$\n",
    "\t\t\\sum_{k=0}^{\\infty} A_k E_t x_{t+k} = 0,  \n",
    "\t\t\t$$\t\n",
    "\n",
    "-  The SSJ package delivers the derivatives of the asset market clearing condition, $A(\\pi_{t-1},\\pi_t, \\pi_{t+1}, \\ldots, \\pi_{t+k}, \\ldots) - B = 0$,\n",
    "\t\t\t$$\n",
    "\t\tA_k = \\frac{\\partial (A(\\ldots) - B)}{\\partial x_{t+k}} =  \\frac{\\partial (A(\\ldots) - B)}{\\partial \\pi_{t-1+k}}, \\text{\\hspace{0.2cm} for \\hspace{0.1cm}} k=0,1,2,\\ldots\n",
    "\t\t\t$$\t\n",
    "\twhere $x_{t+k} = \\pi_{t+k-1} \\hspace{0.1cm}$ for $ k=0,1,2,\\ldots$\n",
    "-  Onatski (06) defines the complex function\n",
    "\t\t\t$$\n",
    "\t\t\t{\\color{red} \\Theta(\\lambda)} = det \\sum_{k=0}^{\\infty} A_k e^{-i k \\lambda},\n",
    "\t\t\t$$\n",
    "- ${\\color{red} \\text{Winding number}}$ is defined as  the number of times the graph of $\\Theta(\\lambda)$ rotates around zero counter-clockwise when $\\lambda$ goes form $0$ to $2 \\pi$.\n",
    "\n",
    "- Ontaski (2006) shows\n",
    "\t\n",
    "\t- ${\\color{red} \\text{Determinacy}}$  (=unique bounded solution) if the ${\\color{green} \\text{winding number }}$  of $\\Theta(\\lambda)$ is equal to ${\\color{green} \\text{zero}}$.\n",
    "\n",
    "\t- ${\\color{red} \\text{ Multiple Solutions}}$    if winding number is ${\\color{green} \\text{less than zero}}$.\n",
    "\n",
    "\t- ${\\color{red} \\text{ No Solution}}$ if winding number is ${\\color{green} \\text{larger than zero}}$.\n",
    "\n",
    "\t\t \n",
    "\t\t "
   ]
  },
  {
   "cell_type": "markdown",
   "metadata": {},
   "source": [
    "### 4 Algorithm: Specification Details\n",
    "\n",
    "- The ${\\color{blue} \\text{unknown}}$  variable is lagged inflation: ${\\color{red} \\text{piL}}$ \n",
    "\n",
    "- Inflation is ${\\color{blue} \\text{not predetermined}}$:   ${\\color{red} \\text{predetermined=[0]}}$ \n",
    "\n",
    "- Inflation is a ${\\color{blue} \\text{lagged}}$ variable (policy rule): ${\\color{red} \\text{lags=[1]}}$ \n",
    "\n",
    "- The equilibrium condition (${\\color{blue} \\text{targets}}$) is the asset market clearing condition: ${\\color{red} \\text{asset\\_mkt}}$ "
   ]
  },
  {
   "cell_type": "code",
   "execution_count": 15,
   "metadata": {},
   "outputs": [
    {
     "name": "stdout",
     "output_type": "stream",
     "text": [
      "Winding number: 0\n",
      "The economy is DETERMINATE\n"
     ]
    },
    {
     "data": {
      "image/png": "[encoded data removed]",
      "text/plain": [
       "<Figure size 640x480 with 1 Axes>"
      ]
     },
     "metadata": {},
     "output_type": "display_data"
    }
   ],
   "source": [
    "T = 300\n",
    "\n",
    "exogenous = ['Realshock']\n",
    "unknowns = ['piL']\n",
    "targets = ['asset_mkt','bonds']\n",
    "\n",
    "H_U = hank.jacobian(ss, unknowns, targets, T=T)\n",
    "H_Z = hank.jacobian(ss, exogenous, targets, T=T)\n",
    "\n",
    "targets = ['asset_mkt']\n",
    "\n",
    "onatski, dU = ld.onatski(targets = targets, endogenous = unknowns,  predetermined=[0], lags=[1] , T =T, ss0=ss0, H_U = H_U,  exogenous = 'Realshock', H_Z = H_Z)\n",
    "\n",
    "\n",
    "windingNumber = ld.onatskiWindingNumber(onatski)\n",
    "print(ld.checkSolutions(windingNumber))\n",
    "\n",
    "ld.plot(onatski)\n",
    "\n",
    "\n"
   ]
  }
 ],
 "metadata": {
  "kernelspec": {
   "display_name": "Python 3",
   "language": "python",
   "name": "python3"
  },
  "language_info": {
   "codemirror_mode": {
    "name": "ipython",
    "version": 3
   },
   "file_extension": ".py",
   "mimetype": "text/x-python",
   "name": "python",
   "nbconvert_exporter": "python",
   "pygments_lexer": "ipython3",
   "version": "3.11.5"
  }
 },
 "nbformat": 4,
 "nbformat_minor": 2
}
