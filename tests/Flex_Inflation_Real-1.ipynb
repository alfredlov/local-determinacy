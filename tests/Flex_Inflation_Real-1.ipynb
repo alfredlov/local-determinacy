{
 "cells": [
  {
   "cell_type": "code",
   "execution_count": 1,
   "metadata": {},
   "outputs": [],
   "source": [
    "import numpy as np\n",
    "import matplotlib.pyplot as plt\n",
    "\n",
    "from sequence_jacobian import simple, solved, combine, create_model  # functions\n",
    "from sequence_jacobian import hetblocks, grids      # modules\n",
    "\n",
    "\n"
   ]
  },
  {
   "cell_type": "code",
   "execution_count": 2,
   "metadata": {},
   "outputs": [
    {
     "ename": "SyntaxError",
     "evalue": "invalid syntax (3420479256.py, line 2)",
     "output_type": "error",
     "traceback": [
      "\u001b[0;36m  Cell \u001b[0;32mIn[2], line 2\u001b[0;36m\u001b[0m\n\u001b[0;31m    import ..src\u001b[0m\n\u001b[0m           ^\u001b[0m\n\u001b[0;31mSyntaxError\u001b[0m\u001b[0;31m:\u001b[0m invalid syntax\n"
     ]
    }
   ],
   "source": [
    "#import importlib\n",
    "import functions.py\n",
    "\n",
    "calibration = {'eis': 1, 'rho_e': 0.945, 'sd_e': 0.7, 'n_e': 13,\n",
    "               'min_a': 0.0, 'max_a': 1000, 'n_a': 200, 'piL': 0.0, 'pi': 0.0, 'w': 1.0,  'G': 0.0,\n",
    "               'mu': 1, 'rstar': 0.0125, 'rN': 0.0125, 'rscale': 1.0125 , 'rshock': 0.0, 'Realshock': 0.0, 'taushock': 0.0 , 'phi': 0.0, 'B': 4}\n",
    "\n",
    "model = Model(calibration)\n",
    "model.calibrate()\n",
    "model.onatski()\n",
    "print(\"Winding number: \" + str(model.onatskiWindingNumber()))\n",
    "model.onatskiPlot()\n",
    "\n",
    "\"\"\" for loopi in [1, 2, 3, 4]:\n",
    "    if loopi==1:\n",
    "         print(loopi)\n",
    "         \n",
    "      #   Compute_Flex_Inflation_Real.calibration = calibration\n",
    "       #  import Compute_Flex_Inflation_Real\n",
    "         if __name__ == \"__main__\":\n",
    "            my_instance = Compute(calibrationV = calibrationT)\n",
    "            my_instance.execute_commands()\n",
    "    elif loopi==2:\n",
    "         print(loopi)\n",
    "         #calibrationPY.calibration['rho_e'] =  0.9878    \n",
    "         calibrationT = {'eis': 1, 'rho_e': 0.9878, 'sd_e': 0.7, 'n_e': 13,\n",
    "               'min_a': 0.0, 'max_a': 1000, 'n_a': 200, 'pi': 0.0, 'piL': 0.0 ,'w': 1.0,  'G': 0.0,\n",
    "               'mu': 1, 'rstar': 0.0125, 'rN': 0.0125, 'rscale': 1.0125 , 'rshock': 0.0, 'Realshock': 0.0, 'taushock': 0.0 , 'phi': 0.0, 'B': 4}\n",
    "         #Compute_Flex_Inflation_Real.calibration = calibration\n",
    "         if __name__ == \"__main__\":\n",
    "            my_instance = Compute(calibrationV = calibrationT)\n",
    "            my_instance.execute_commands()\n",
    "    elif loopi==3:\n",
    "         print(loopi)\n",
    "         calibrationT = {'eis': 1, 'rho_e': 0.945, 'sd_e': 0.7, 'n_e': 13,\n",
    "               'min_a': 0.0, 'max_a': 1000, 'n_a': 200, 'pi': 0.0, 'piL': 0.0, 'w': 1.0,  'G': 0.0,\n",
    "               'mu': 1, 'rstar': 0.0125, 'rN': 0.0125, 'rscale': 1.0125 , 'rshock': 0.0, 'Realshock': 0.0, 'taushock': 0.0 , 'phi': 1.5, 'B': 4}\n",
    "         if __name__ == \"__main__\":\n",
    "            my_instance = Compute(calibrationV = calibrationT)\n",
    "            my_instance.execute_commands()\n",
    "    elif loopi==4:\n",
    "         print(loopi)\n",
    "         calibrationT = {'eis': 1, 'rho_e': 0.9878, 'sd_e': 0.7, 'n_e': 13,\n",
    "               'min_a': 0.0, 'max_a': 1000, 'n_a': 200, 'pi': 0.0, 'piL': 0.0, 'w': 1.0,  'G': 0.0,\n",
    "               'mu': 1, 'rstar': 0.0125, 'rN': 0.0125, 'rscale': 1.0125 , 'rshock': 0.0, 'Realshock': 0.0, 'taushock': 0.0 , 'phi': 1.5, 'B': 4}\n",
    "         if __name__ == \"__main__\":\n",
    "            my_instance = Compute(calibrationV = calibrationT)\n",
    "            my_instance.execute_commands() \"\"\"\n",
    "\n",
    "#import Check_Inflation_Real\n",
    "\n",
    "#Compute_Flex_Inflation_Real()"
   ]
  }
 ],
 "metadata": {
  "kernelspec": {
   "display_name": "Python 3",
   "language": "python",
   "name": "python3"
  },
  "language_info": {
   "codemirror_mode": {
    "name": "ipython",
    "version": 3
   },
   "file_extension": ".py",
   "mimetype": "text/x-python",
   "name": "python",
   "nbconvert_exporter": "python",
   "pygments_lexer": "ipython3",
   "version": "3.11.7"
  }
 },
 "nbformat": 4,
 "nbformat_minor": 2
}
