{
 "cells": [
  {
   "cell_type": "markdown",
   "metadata": {},
   "source": [
    "# Tutorial 3: A one-asset HANK model\n",
    "\n",
    "In this notebook we solve the one-asset HANK model from Auclert, Bardóczy, Rognlie, Straub (2021): \"Using the Sequence-Space Jacobian to Solve and Estimate Heterogeneous-Agent Models\" ([link to paper](https://www.bencebardoczy.com/publication/sequence-jacobian/sequence-jacobian.pdf)).\n",
    "\n",
    "New concepts:\n",
    "- **Hetinputs and hetoutputs**: adapt off-the-shelf HA blocks to new macro models.\n",
    "- **Calibration DAG**: exploit analytical part of internal calibration \n",
    "\n",
    "For more examples and information on the SSJ toolkit, please visit our [GitHub page](https://github.com/shade-econ/sequence-jacobian)."
   ]
  },
  {
   "cell_type": "code",
   "execution_count": 1,
   "metadata": {},
   "outputs": [],
   "source": [
    "import numpy as np\n",
    "import matplotlib.pyplot as plt\n",
    "\n",
    "from sequence_jacobian import simple, create_model  # functions\n",
    "from sequence_jacobian import hetblocks, grids      # modules\n",
    "\n",
    "import functions"
   ]
  },
  {
   "cell_type": "markdown",
   "metadata": {},
   "source": [
    "## 1 Model description\n",
    "\n",
    "The model is a HA version of the textbook New Keynesian model. Technology is linear in labor, prices are sticky á la Rotemberg, and monetary policy follows a Taylor rule. The model can be summarized in sequence form as\n",
    "\n",
    "$$\n",
    "\\textbf{F}_t(\\textbf{X}, Z) \\equiv \n",
    "\\begin{pmatrix}\n",
    "Y_t - Z_t L_t\n",
    "\\\\\n",
    "Y_t \\left[1 - \\frac{\\mu}{\\mu-1}\\frac{1}{2\\kappa} \\log(1 + \\pi_t)^2\\right] - w_t L_t - d_t\n",
    "\\\\\n",
    "r_t B - \\tau_t\n",
    "\\\\\n",
    "r^*_t + \\phi \\pi_t - i_t\n",
    "\\\\\n",
    "1 + r_t - \\frac{1+i_{t-1}}{1+\\pi_t}\n",
    "\\\\\n",
    "\\kappa \\left(\\frac{w_t}{Z_t} - \\frac{1}{\\mu} \\right)  + \\frac{1}{1+r_{t+1}} \\frac{Y_{t+1}}{Y_t} \\log(1+\\pi_{t+1}) - \\log(1+\\pi_t)\n",
    "\\\\\n",
    "\\mathcal{A}_t(\\{r_s, w_s, \\tau_s, d_s\\})  - B\n",
    "\\\\\n",
    "\\mathcal{N}_t(\\{r_s, w_s, \\tau_s, d_s\\}) - L_t\n",
    "\\end{pmatrix}\n",
    "= \\begin{pmatrix} 0 \\\\ 0 \\\\ 0 \\\\ 0 \\\\ 0 \\\\ 0 \\\\ 0 \\\\ 0\\end{pmatrix},\n",
    "\\qquad t = 0, 1, \\dots\n",
    "$$\n",
    "\n",
    "where the endogenous variables are $\\textbf{X} = (Y, L, r, w, d, \\pi, \\tau, i)$ and the exogenous variables are $\\textbf{Z}=(r^*, Z)$. \n",
    "\n",
    "The asset demand and labor supply functions $\\{\\mathcal{A}, \\mathcal{L}\\}$ follow from the household block with Bellman equation\n",
    "\n",
    "$$\n",
    "\\begin{align} \\tag{HH}\n",
    "V_t(e, a_{-}) = \\max_{c, n, a} &\\left\\{\\frac{c^{1-\\sigma}}{1-\\sigma} - \\varphi \\frac{n^{1+\\nu}}{1+\\nu} + \\beta \\mathbb{E}_t\\left[V_{t+1}(e', a)|e \\right] \\right\\}\n",
    "\\\\\n",
    "c + a &= (1 + r_t)a_{-} + w_t e n - \\tau_t \\bar{\\tau}(e) + d_t \\bar{d}(e)\n",
    "\\\\\n",
    "a &\\geq 0\n",
    "\\end{align}\n",
    "$$\n",
    "\n",
    "where $\\bar\\tau(e)$ and $\\bar d(e)$ are skill-specific incidence rules for taxes and dividends. \n",
    "\n",
    "We can think of the model as a directed acyclical graph (DAG) with **3 endogenous inputs** and write it as an implicit function\n",
    "\n",
    "$$\n",
    "H(\\pi, Y, w; \\epsilon, Z) = 0.\n",
    "$$"
   ]
  },
  {
   "cell_type": "markdown",
   "metadata": {},
   "source": [
    "## 2 Embed HA block\n",
    "\n",
    "As we have seen in the Krusell-Smith notebook, the main task in setting up HA blocks is to write a backward iteration function that represents the Bellman equation. This has to be a single step of an iterative solution method such as value function iteration. For the standard income fluctuation problem with endogenous labor supply we're dealing with here, the endogenous gridpoint method of [Carroll (2006)](https://www.sciencedirect.com/science/article/pii/S0165176505003368) is the best practice.\n",
    "\n",
    "Solving the endogenous-labor problem via EGM is standard but somewhat tedious and so the details are left to ``sequence_jacobian/hetblocks/hh_labor.py``. Instead we will focus on how to adapt this off-the-shelf HetBlock to our specific macro enviroment."
   ]
  },
  {
   "cell_type": "code",
   "execution_count": 2,
   "metadata": {},
   "outputs": [
    {
     "name": "stdout",
     "output_type": "stream",
     "text": [
      "<HetBlock 'hh'>\n",
      "Inputs: ['a_grid', 'we', 'T', 'r', 'beta', 'eis', 'frisch', 'vphi', 'Pi']\n",
      "Macro outputs: ['A', 'C', 'N']\n",
      "Micro outputs: ['D', 'Dbeg', 'Pi', 'Va', 'a', 'c', 'n']\n"
     ]
    }
   ],
   "source": [
    "hh = hetblocks.hh_labor.hh\n",
    "\n",
    "print(hh)\n",
    "print(f'Inputs: {hh.inputs}')\n",
    "print(f'Macro outputs: {hh.outputs}')\n",
    "print(f'Micro outputs: {hh.internals}')"
   ]
  },
  {
   "cell_type": "markdown",
   "metadata": {},
   "source": [
    "The HetBlock `hh` corresponds to the general problem:\n",
    "\n",
    "$$\n",
    "\\begin{align} \\tag{HH-general}\n",
    "V_t(e, a_{-}) = \\max_{c, n, a} &\\left\\{\\frac{c^{1-\\sigma}}{1-\\sigma} - \\varphi \\frac{n^{1+\\nu}}{1+\\nu} + \\beta \\mathbb{E}_t\\left[V_{t+1}(e', a)|e\\right] \\right\\}\n",
    "\\\\\n",
    "c + a &= (1 + r_t)a_{-} + w_t(e) n + T_t(e)\n",
    "\\\\\n",
    "a &\\geq 0\n",
    "\\end{align}\n",
    "$$\n",
    "\n",
    "That is, households take as given the sequence of interest rates $r_t$, and skill-specific wages $w_t(e)$ and  transfers $T_t(e).$ In the context of this particular HANK model, transfers equal dividends minus taxes. But it's easy to imagine many other cases. Rather than writing a specific backward iteration function for each of them, we can just supply a function that specifies how the $\\{w_t(e), T_t(e)\\}$ are determined in this particular case. We refer such functions as **hetinput**. \n",
    "\n",
    "In addition, we need to report effective labor supply $ne = n\\cdot e$ to resolve labor market clearing. We can do so by attaching a **hetoutput** function to the core HetBlock. "
   ]
  },
  {
   "cell_type": "markdown",
   "metadata": {},
   "source": [
    "### 2.1 Hetinputs\n",
    "\n",
    "Let's start with the hetinputs. These functions will be evaluated before the core HetBlock (i.e. the backward iteration)."
   ]
  },
  {
   "cell_type": "code",
   "execution_count": 3,
   "metadata": {},
   "outputs": [],
   "source": [
    "def make_grid(rho_e, sd_e, nE, amin, amax, nA):\n",
    "    e_grid, pi_e, Pi = grids.markov_rouwenhorst(rho=rho_e, sigma=sd_e, N=nE)\n",
    "    a_grid = grids.agrid(amin=amin, amax=amax, n=nA)\n",
    "    return e_grid, pi_e, Pi, a_grid\n",
    "\n",
    "\n",
    "def transfers(pi_e, Div, Tax, e_grid):\n",
    "    # hardwired incidence rules are proportional to skill; scale does not matter \n",
    "    tax_rule, div_rule = e_grid, e_grid\n",
    "    div = Div / np.sum(pi_e * div_rule) * div_rule\n",
    "    tax = Tax / np.sum(pi_e * tax_rule) * tax_rule\n",
    "    T = div - tax\n",
    "    return T\n",
    "\n",
    "def wages(w, e_grid):\n",
    "    we = w * e_grid\n",
    "    return we"
   ]
  },
  {
   "cell_type": "markdown",
   "metadata": {},
   "source": [
    "- The second hetinput `transfers` takes inputs (`e_grid` and `pi_e`) that are produced by the first hetinput `make_grid`. Such *acylic* dependence between hetinputs is allowed. The block processes the inputs and outputs of the hetinput functions and puts them in a correct order of evaluation.\n",
    "- Scalar-valued inputs of hetinputs may be time-varying. For example, aggregate dividends and taxes (`Div` and `Tax`) are determined endogenously in the HANK model and passed on to Bellman equation through the hetinput `transfers`. Thus, we can compute Jacobians with respect to them."
   ]
  },
  {
   "cell_type": "markdown",
   "metadata": {},
   "source": [
    "Let's attach these hetinputs to the household block using (the aptly-named) ``HetBlock.add_hetinput`` method.\n"
   ]
  },
  {
   "cell_type": "code",
   "execution_count": 4,
   "metadata": {},
   "outputs": [
    {
     "name": "stdout",
     "output_type": "stream",
     "text": [
      "<HetBlock 'hh' with hetinput 'make_grid_transfers'>\n",
      "Inputs: ['r', 'beta', 'eis', 'frisch', 'vphi', 'rho_e', 'sd_e', 'nE', 'amin', 'amax', 'nA', 'Div', 'Tax', 'w']\n"
     ]
    }
   ],
   "source": [
    "hh1 = hh.add_hetinputs([make_grid, transfers, wages])\n",
    "\n",
    "print(hh1)\n",
    "print(f'Inputs: {hh1.inputs}')"
   ]
  },
  {
   "cell_type": "markdown",
   "metadata": {},
   "source": [
    "Note that `hh1` has only scalar-valued inputs."
   ]
  },
  {
   "cell_type": "markdown",
   "metadata": {},
   "source": [
    "### 2.2 Hetoutputs\n",
    "\n",
    "Hetoutput functions are analogous to hetinputs. They are called after the backward iteration has converged. Thus, they may take multidimensional outputs of the backward iteration function as well as of the hetinputs as inputs."
   ]
  },
  {
   "cell_type": "code",
   "execution_count": 5,
   "metadata": {},
   "outputs": [],
   "source": [
    "def labor_supply(n, e_grid):\n",
    "    ne = e_grid[:, np.newaxis] * n\n",
    "    return ne"
   ]
  },
  {
   "cell_type": "markdown",
   "metadata": {},
   "source": [
    "Let's attach this hetoutput to the household block using ``HetBlock.add_hetoutput`` method."
   ]
  },
  {
   "cell_type": "code",
   "execution_count": 6,
   "metadata": {},
   "outputs": [
    {
     "name": "stdout",
     "output_type": "stream",
     "text": [
      "<HetBlock 'hh' with hetinput 'make_grid_transfers' and with hetoutput `labor_supply'>\n",
      "Outputs: ['A', 'C', 'N', 'NE']\n"
     ]
    }
   ],
   "source": [
    "hh_ext = hh1.add_hetoutputs([labor_supply])\n",
    "\n",
    "print(hh_ext)\n",
    "print(f'Outputs: {hh_ext.outputs}')"
   ]
  },
  {
   "cell_type": "markdown",
   "metadata": {},
   "source": [
    "- The signature of HetBlock `hh_ext` now references both hetinputs and hetoutputs.\n",
    "- Aggregate outputs now include effective labor supply `NE`. "
   ]
  },
  {
   "cell_type": "markdown",
   "metadata": {},
   "source": [
    "### 2.3 Taking stock\n",
    "\n",
    "The SSJ toolkit comes with 3 generic HetBlocks, located in `sequence_jacobian/hetblocks`.\n",
    "- `hh_sim`: standard incomplete markets model\n",
    "- `hh_labor`: standard incomplete markets model with frictionless labor supply\n",
    "- `hh_twoasset`: two-asset model with convex portfolio adjustment cost\n",
    "\n",
    "By using hetinputs and hetoutputs, these core blocks may be embedded in different macro environments. This is the simplest way of using the SSJ toolkit, which may suffice for many applications.\n",
    "\n",
    "If you wish to solve a model that's not just a variation on these off-the-shelf HetBlocks, there's two cases to consider. \n",
    "1. The model fits into the HetBlock paradigm. E.g., standard incomplete markets models with additional choices such as search intensity. All you need to do is write a new backward iteration function. Use it to instantiate a new HetBlock and get all the HetBlock methods for free. \n",
    "2. The model does not fit the HetBlock paradigm. E.g., models in which discrete endogenous states. In this case, we recommend that you \"bring your own Jacobian\". That is, solve the Jacobian of your block outside the SSJ toolkit. Once you turn them into an instance of `JacobianDict` (like we did in section 4 of the Krusell-Smith notebook), you can include them in models in lieu of an actual block. This is sufficient for using linear solution methods (`impulse_linear`, `jacobian` and their `solved_` versions) at the macro model level.  \n",
    "\n"
   ]
  },
  {
   "cell_type": "markdown",
   "metadata": {},
   "source": [
    "## 3 Calibrating the steady state\n",
    "Similarly to the RBC example, we calibrate the discount factor $\\beta$ and disutility of labor $\\varphi$ to hit a target for the interest rate and effective labor $L=1.$ Additionally we calibrate the wage $w$ such that the Phillips curve relation is satisfied in steady state for zero inflation $\\pi=0$.\n",
    "\n",
    "Note that the mapping from $\\beta$ to asset market clearing given $r$ and that from $\\varphi$ to average effective labor supply involve the household block. As such, we must rely on numerical root-finding. In contrast, the $w$ is easy to characterize analytically from the ss-version of NKPC:\n",
    "$$\n",
    "w = \\frac{Z}{\\mu} \\tag{ss wage}\n",
    "$$\n",
    "This situation is very common in HA-DSGE models. Although using a numerical root-finder on every unknown jointly is likely to succeed in simple models, exploiting analytical solutions becomes crucial in more complicated models.\n",
    "\n",
    "The simplest way of doing so is to work with two DAGs: one for calibration and one for transition dynamics. Typically, the two DAGs share some, but not all of their blocks. Furthermore, they may have different unknowns and targets. "
   ]
  },
  {
   "cell_type": "markdown",
   "metadata": {},
   "source": [
    "### 3.1 Blocks for SS-DAG\n",
    "\n",
    "We already implemented the household block. Let's define the rest as simple blocks."
   ]
  },
  {
   "cell_type": "code",
   "execution_count": 7,
   "metadata": {},
   "outputs": [],
   "source": [
    "@simple\n",
    "def firm(Y, w, Z, pi, mu, kappa):\n",
    "    L = Y / Z\n",
    "    Div = Y - w * L - mu/(mu-1)/(2*kappa) * (1+pi).apply(np.log)**2 * Y\n",
    "    return L, Div\n",
    "\n",
    "\n",
    "@simple\n",
    "def monetary(pi, rstar, phi):\n",
    "    r = (1 + rstar(-1) + phi * pi(-1)) / (1 + pi) - 1\n",
    "    return r\n",
    "\n",
    "\n",
    "@simple\n",
    "def fiscal(r, B):\n",
    "    Tax = r * B\n",
    "    return Tax\n",
    "\n",
    "\n",
    "@simple\n",
    "def mkt_clearing(A, NE, C, L, Y, B, pi, mu, kappa):\n",
    "    asset_mkt = A - B\n",
    "    labor_mkt = NE - L\n",
    "    goods_mkt = Y - C - mu/(mu-1)/(2*kappa) * (1+pi).apply(np.log)**2 * Y\n",
    "    return asset_mkt, labor_mkt, goods_mkt\n",
    "\n",
    "\n",
    "@simple\n",
    "def nkpc_ss(Z, mu):\n",
    "    w = Z / mu\n",
    "    return w"
   ]
  },
  {
   "cell_type": "markdown",
   "metadata": {},
   "source": [
    "- These blocks---with the exception of `nkpc_ss`--- are valid in transition as well as in steady state. \n",
    "- Notice that we wrap `np.log()` in an `.apply()` inside simple blocks. This is necessary for functions whose name includes a dot. The reason is that it would interfere with some internal processing that simple blocks do to handle leads, lags, and references to steady state.  "
   ]
  },
  {
   "cell_type": "code",
   "execution_count": 8,
   "metadata": {},
   "outputs": [
    {
     "name": "stdout",
     "output_type": "stream",
     "text": [
      "<Model 'One-Asset HANK SS'>\n",
      "Inputs: ['beta', 'eis', 'frisch', 'vphi', 'rho_e', 'sd_e', 'nE', 'amin', 'amax', 'nA', 'Y', 'Z', 'pi', 'mu', 'kappa', 'rstar', 'phi', 'B']\n"
     ]
    }
   ],
   "source": [
    "blocks_ss = [hh_ext, firm, monetary, fiscal, mkt_clearing, nkpc_ss]\n",
    "\n",
    "hank_ss = create_model(blocks_ss, name=\"One-Asset HANK SS\")\n",
    "\n",
    "print(hank_ss)\n",
    "print(f\"Inputs: {hank_ss.inputs}\")"
   ]
  },
  {
   "cell_type": "markdown",
   "metadata": {},
   "source": [
    "Print inputs so we don't have to remember everything."
   ]
  },
  {
   "cell_type": "code",
   "execution_count": 9,
   "metadata": {},
   "outputs": [],
   "source": [
    "calibration = {'eis': 0.5, 'frisch': 0.5, 'rho_e': 0.966, 'sd_e': 0.5, 'nE': 7,\n",
    "               'amin': 0.0, 'amax': 150, 'nA': 500, 'Y': 1.0, 'Z': 1.0, 'pi': 0,\n",
    "               'mu': 1.2, 'kappa': 0.1, 'rstar': 0.005, 'phi': 1.5, 'B': 5.6}\n",
    "\n",
    "unknowns_ss = {'beta': 0.986, 'vphi': 0.8}\n",
    "targets_ss = {'asset_mkt': 0, 'labor_mkt': 0}\n",
    "\n",
    "ss0 = hank_ss.solve_steady_state(calibration, unknowns_ss, targets_ss, solver=\"hybr\")"
   ]
  },
  {
   "cell_type": "markdown",
   "metadata": {},
   "source": [
    "Let's see the targets and Walras's law."
   ]
  },
  {
   "cell_type": "code",
   "execution_count": 10,
   "metadata": {},
   "outputs": [
    {
     "name": "stdout",
     "output_type": "stream",
     "text": [
      "Asset market clearing:  1.42e-14\n",
      "Labor market clearing:  1.33e-15\n",
      "Goods market clearing (untargeted): -5.26e-09\n"
     ]
    }
   ],
   "source": [
    "print(f\"Asset market clearing: {ss0['asset_mkt']: 0.2e}\")\n",
    "print(f\"Labor market clearing: {ss0['labor_mkt']: 0.2e}\")\n",
    "print(f\"Goods market clearing (untargeted): {ss0['goods_mkt']: 0.2e}\")"
   ]
  },
  {
   "cell_type": "markdown",
   "metadata": {},
   "source": [
    "Looks good. Let's also plot the labor supply policy as function of assets for each skill type. We see that poorer and more productive households choose to work more. "
   ]
  },
  {
   "cell_type": "code",
   "execution_count": 11,
   "metadata": {},
   "outputs": [
    {
     "data": {
      "image/png": "iVBORw0KGgoAAAANSUhEUgAAAjcAAAGwCAYAAABVdURTAAAAOXRFWHRTb2Z0d2FyZQBNYXRwbG90bGliIHZlcnNpb24zLjguMywgaHR0cHM6Ly9tYXRwbG90bGliLm9yZy/H5lhTAAAACXBIWXMAAA9hAAAPYQGoP6dpAAC8TElEQVR4nOzddXRU19rH8e9YJjJx94QECO7uVr3UlQq3blSo9/a+ldv21o2Wut16aUtLWwotUKy4Bfe4u0yS8fP+MSEQJASYZCLPZ60syDlnztlBMr/s/ey9VYqiKAghhBBCdBBqdzdACCGEEMKVJNwIIYQQokORcCOEEEKIDkXCjRBCCCE6FAk3QgghhOhQJNwIIYQQokORcCOEEEKIDkXr7ga0NofDQV5eHr6+vqhUKnc3RwghhBDNoCgK1dXVREVFoVY33TfT6cJNXl4esbGx7m6GEEIIIU5DdnY2MTExTV7T6cKNr68v4PzD8fPzc3NrhBBCCNEcVVVVxMbGNryPN6XThZtDQ1F+fn4SboQQQoh2pjklJVJQLIQQQogORcKNEEIIIToUCTdCCCGE6FAk3AghhBCiQ5FwI4QQQogORcKNEEIIIToUCTdCCCGE6FAk3AghhBCiQ5FwI4QQQogORcKNEEIIIToUCTdCCCGE6FAk3AghhBCiQ+l0G2e2FLPNTonRgloFkf5e7m6OEEII0WlJz42L7MitYtQLf3HVB2vd3RQhhBCiU5Nw4yLq+h3Y7Q7FvQ0RQgghOjkJNy6iqU83imQbIYQQwq0k3LiIWuUMNw5JN0IIIYRbSbhxEZUMSwkhhBBtgoQbFzk0LCXZRgghhHAvCTcucmhYSpFhKSGEEMKtJNy4SMNsKQk3QgghhFtJuHGRhoJiGZcSQggh3ErCjYscni3l5oYIIYQQnZyEGxc5XFAs6UYIIYRwJwk3LnJoKriEGyGEEMK9JNy4yOGaGzc3RAghhOjkJNy4iAxLCSGEEG2DhBsXUclUcCGEEKJNkHDjIocX8ZOF/IQQQgh3knDjIppDXTfIzuBCCCGEO7k13KxYsYKpU6cSFRWFSqXi559/bvZrV61ahVarpX///i3WvlOhPiLcyNCUEEII4T5uDTc1NTX069eP2bNnn9LrKioquP7665k0aVILtezUqY/4k5SiYiGEEMJ9tO58+Lnnnsu55557yq+7/fbbmTZtGhqN5pR6e1qSWoalhBBCiDah3dXcfPrpp6SlpfHkk08263qz2UxVVVWjj5bQaFhK9mAQQggh3KZdhZv9+/fz6KOP8uWXX6LVNq/T6fnnn8ff37/hIzY2tkXaJsNSQgghRNvQbsKN3W5n2rRpPP3003Tr1q3Zr3vssceorKxs+MjOzm6R9h3ZcyOrFAshhBDu49aam1NRXV3Nxo0b2bJlCzNmzADA4XCgKAparZY///yTiRMnHvM6vV6PXq9v8fY1CjfScyOEEEK4TbsJN35+fmzfvr3RsXfeeYe//vqLH374gcTERDe1zEl9ONtIuBFCCCHcyK3hxmg0cuDAgYbP09PTSU1NJSgoiLi4OB577DFyc3P5/PPPUavV9O7du9Hrw8LC8PT0POa4O6hUKlQq50wpWedGCCGEcB+3hpuNGzcyYcKEhs/vv/9+AKZPn85nn31Gfn4+WVlZ7mreKdOoVNgURaaCCyGEEG6kUjrZRkhVVVX4+/tTWVmJn5+fS+/d7d8LsNgcrHp0ItEBXi69txBCCNGZncr7d7uZLdUeeGicf5w2u0yXEkIIIdxFwo0L6TTOqmKrhBshhBDCbSTcuJC2vufGYutUI31CCCFEmyLhxoUODUtJz40QQgjhPhJuXOjQsJRNligWQggh3EbCjQvpZFhKCCGEcDsJNy6klWEpIYQQwu0k3LiQh8yWEkIIIdxOwo0L6aTnRgghhHA7CTcudDjcSM2NEEII4S4SblxIp5WeGyGEEMLd3LpxZodSnslVFR/RS6PCau/j7tYIIYQQnZb03LiKsZDzqr7jas0SLDIsJYQQQriNhBtXUWucv6gU2ThTCCGEcCMJN66ido7wabFLzY0QQgjhRhJuXEXl7LnRYJfZUkIIIYQbSbhxlfqeGw0OLDbpuRFCCCHcRcKNqzQMSzlkWEoIIYRwIwk3rqI+PCxlc8iwlBBCCOEuEm5cpSHcODBb7W5ujBBCCNF5SbhxlSNqbkxWGZYSQggh3EXCjavUhxudyo7JanNzY4QQQojOS8KNq6gP72Rhsljd2BAhhBCic5Nw4yqqw3+UFpv03AghhBDuIuHGVY7oubFaLW5siBBCCNG5SbhxlSPDjQxLCSGEEG4j4cZVjgw3Ngk3QgghhLtIuHGV+nVuAKxWCTdCCCGEu0i4cRWVCqV+80yb1NwIIYQQbiPhxoUUjd75G5vJvQ0RQgghOjEJN66k9XT+ajW7tx1CCCFEJybhxpV0znCjcZiwy+aZQgghhFtIuHGl+p4bTyyYZPNMIYQQwi0k3LiQqr7nRq+ySrgRQggh3ETCjQupdF6As+emTsKNEEII4RYSblypYVjKisnqcHNjhBBCiM5Jwo0r1YcbvdTcCCGEEG4j4caVDg1LqazUWiTcCCGEEO4g4caVtM5F/DyxYDTLFgxCCCGEO0i4cSWts+dGjxWjWXpuhBBCCHeQcONK9VPBPVVmasw2NzdGCCGE6Jwk3LiShwEAH0wYTRJuhBBCCHdwa7hZsWIFU6dOJSoqCpVKxc8//9zk9XPnzmXKlCmEhobi5+fHiBEj+OOPP1qnsc2hd4YbA3UYpedGCCGEcAu3hpuamhr69evH7Nmzm3X9ihUrmDJlCr///jubNm1iwoQJTJ06lS1btrRwS5tJ7weAQWWScCOEEEK4idadDz/33HM599xzm339G2+80ejz//73v8ybN49ff/2VAQMGHPc1ZrMZs/nwLt1VVVWn1dZm8TjccyM1N0IIIYR7tOuaG4fDQXV1NUFBQSe85vnnn8ff37/hIzY2tuUapPcFwEclw1JCCCGEu7TrcPPKK69gNBq54oorTnjNY489RmVlZcNHdnZ2yzVIam6EEEIIt3PrsNSZ+Prrr3n66aeZN28eYWFhJ7xOr9ej1+tbvD17yvbwxNbXCAsP5ZF8kwxLCSGEEG7SLsPNt99+y80338z333/P5MmT3d0cACx2C7urM6nS6TCoqqiWqeBCCCGEW7S7YalvvvmGG264gW+++Ybzzz/f3c1p4KHxAMCiAh/qqJHtF4QQQgi3cGvPjdFo5MCBAw2fp6enk5qaSlBQEHFxcTz22GPk5uby+eefA86hqOnTp/Pmm28ybNgwCgoKAPDy8sLf398tX8MhHupD4UaFh8qO1Wxya3uEEEKIzsqtPTcbN25kwIABDdO477//fgYMGMATTzwBQH5+PllZWQ3Xf/DBB9hsNu666y4iIyMbPu699163tP9IOrUOcIYbAMzVbmyNEEII0Xm5tedm/PjxKIpywvOfffZZo8+XLVvWsg06AzqNM9xY68ONt6Mas82OXqtxZ7OEEEKITqfd1dy0VYdqbmwqFQ4gAKMUFQshhBBuIOHGRQ7V3IBzaCpAZaSiVoqKhRBCiNYm4cZF9JrDa+mYVRCIkco6ixtbJIQQQnROEm5cRKfRNQQco1pNgKpaem6EEEIIN5Bw40J+Hs5dwavVagJlWEoIIYRwCwk3LuTr4dw4s1qtJhAjFXUSboQQQojWJuHGhYI1gQBU1Q9LVUq4EUIIIVpdu9xbqi1ymGzct/kKlnrFY1R9QihGKmuloFgIIYRobRJuXKRuZylBdb5cWjeZCl0MGj6XYSkhhBDCDWRYykV8BoWzfNhuatR1BFhT8LU+SnCx2d3NEkIIITodCTcuVJes5u7EFyjRZQJ+/DPXStXiTBTHibeYEEIIIYRrSbhxoRCvEPI9ivko4jl8NH+gBqoWZ1Hy6Q7sRqm/EUIIIVqDhBsXCvEKASBfryJQ9xZf6fJR6dSY91dQOGsLpgMV7m2gEEII0QlIuHGhUK9QAEo0zp3Ad9rTCLmjH9pQLxxVFko+3k7lwnQUu8OdzRRCCCE6NAk3LhTsFQxAuRpsQDAVmAL0hN09AJ8hEaBA9bIcit7diq20zr2NFUIIITooCTcuFOQZhEalQcHZexOqqqC0xozaQ0PgpV0JuiYFlacWa46Rwje3ULO50N1NFkIIITocCTcupFIgwicCgDytljBVBaU1hwuJvfuEEn7fQDwS/VAsdsrn7KPs2z04TDZ3NVkIIYTocCTcuIjVbOLnV56ld7ZzC4ZcnYZQVSUl1Y3XutEG6Am9pS9+U+JBDbWpxRS+sRnTwQo3tFoIIYToeCTcuMieVStI27SeiDXVxBV4kaPVEkYFJcZjF/JTqVX4TYoj9LZ+aII8sVeYKflwOxW/HkSx2t3QeiGEEKLjkHDjIolefsTVmFEB41JDKazxI0xVTnET69vo4/0Iv3cAPkOdQ1nGVXkUztqCJbu6lVothBBCdDwSblxEFxpCzwM5hFXXonGo8N4Vh95cS0m1qcnXqfVaAi/pSvANvVD7emArrqPo3VQq/8xAscmUcSGEEOJUSbhxEY/ERDSengxIL6DcYEJj0zA/pzvWgoPNer1X9yAiZg7Eq18oOKD6r2yK3knFWlDTwi0XQgghOhYJNy6i0mhQpfTBog+iNLCQCh8LRpuekHXfYSwva9Y91N46gq9OIWhaCmpvLda8Ggrf2uLcn0p6cYQQQohmkXDjIhnbSlgWeC17uk+jZ7GWP4cW4aUzozUZ+eHZf1NbVdnse3n3DSV85iA8ewSBXaFqcRaFb0ktjhBCCNEcEm5cJCjaBwcaygNT6FKaTK2XnaiUfShaDaU5Wfzw7L+pMzY/nGh8PQi+vidBV6eg9tFhK6yl6J1UKuan4bDIjCohhBDiRCTcuIhfsBc9htZvv+A7BZ9ahWyDgl+0Hi//AIoz05n73ycw1za/hkalUuHdL5Tw+wfhPSAMFDCuzJV1cYQQQogmSLhxoSEX90DtsFLpn8zQ9BTSPHTE6ssYc/e/8fT1o+Dgfn587glMNcZTuq/GR0fQld0J/mcvNP4e2MtMlHy4nfK5+3HUyerGQgghxJEk3LiQT4CeLj4FAHQtv4CDWg+iVSVY/MK57PFn8DT4kn9gL98/8zh11VWnfH+vlCDCZw7CZ3gkADXrCyh4bSO1W4tQFMWlX4sQQgjRXkm4cbGBU2LQWmtQa2LwLh9NqKqE4moz4YlJXPHEf/Hy86co/SBz/vMvaisrTvn+ak8tgRclE3prX7QhXjiqrZR9s5eST3ZgLZGdxoUQQggJNy4WPG44XbL/AGBo1lSKdGpKy0oBCI1P5MonX8AnMIiSrAy+e+pRjPXnTpW+iz/h9w107lGlVWHeX0HhG5uc08atMm1cCCFE5yXhxsXUPj50jbfiXZOP3m5gs/EKLEUHGs4Hx8Ry5ZPPYwgOoSwvh++efpSq4qLTepZKq8ZvUhwR9w1C3zUAbPXTxt/cjGl/uYu+IiGEEKJ9kXDTAvzGj6XrgR8BqKk4C0dObqPzgZHRXPXUC/iHhVNRkM83//cgJVkZp/08bYgXITf2dk4b9/XAVlJHycc7KP1mD/bqE+9tJYQQQnREEm5agO/EiQSX7yakOBUVWqzp4TgcjQt+/cMiuPKpFwmOicNYXsa3Tz1Czp6dp/3MQ9PGIx4YhGFkFKigbmsxBa9spHplLopdhqqEEEJ0DhJuWoAuMhJ1v1503z8HB3XYzYFsX5pzzHW+wSFc+fSLRHXrgbmmhh+f/T8Oblp3Rs9We2oJuCCJsLv6o4sxoJjtVM5Pk6EqIYQQnYaEmxYSMvUi9JZKggt+BmDtL2lUlR47m8nL4Mtl/36GLgOHYLNamPfKc+xYuuiMn+8R40vYnf0JvKQrah8ttiLnUFXJF7uwlTW9U7kQQgjRnkm4aSH+556LQwX996xCq9uHzWxn+Vd7j7sejU7vyQUPPE6vcZNRHA7+eO9N1vzwzRmvXaNSq/AZGkHEA4MxjIoCNZh2llLw2iYqF2XKNg5CCCE6JAk3LUQbHExZryhUKBiqvkStVZG1q4wdy3OPe71Gq+XsO+5lyIWXAbD6+69YOPs1bFbrGbdF7a0jYGoS4fcORJ/kDzYH1UuyKHx1E7XbimUBQCGEEB2KhJsW5HH+2QAk7C4hqp9zm4TVPx6gvOD4+0upVCrGTvsnU26ZgUqtZtfKpc4NN09jNePj0YX7EHJzH4Ku6YEmQI+90kzZ13sofn+b7DguhBCiw5Bw04K6XzIdoycEVakwFP1GTEogNquDxZ/uwt7E7KW+k8/hkkefwsPLm9w9O/n63w9Qlnf8Hp9TpVKp8O4TQvj9g/CbHAdaNZaMKopmp1L27R5sFVKPI4QQon2TcNOCAvzD2dJTB4B27TomTe+B3ltLUWY1G3/PaPK1Cf0GcvUzL+MXGtawFk72ru0ua5vaQ4Pf5HgiHhqM98AwAGpTiyl4ZROVCzNwmGRDTiGEEO2ThJsWlj0wBoCQg5V42o2Mm9YdgE2/Z5Czt+mp2SGx8Ux79lUik7tjMlbzw7P/x9ZFC1zaPq2/nqAruhM2oz8eifX1OMuyKXhlI8a1+Sh2qccRQgjRvrg13KxYsYKpU6cSFRWFSqXi559/Pulrli1bxsCBA9Hr9SQnJ/PZZ5+1eDvPRHDKCPZHgtoBFT/OpevgcFJGRqIo8OfHO6mpNDf5ep+AQC5/8r90HzEGh93G4o9ms+iDt7HbzrzQ+EgeMb6E3tqH4Ot6OjfkNFqp+PkAhW9upm5PmRQdCyGEaDfcGm5qamro168fs2fPbtb16enpnH/++UyYMIHU1FTuu+8+br75Zv74448WbunpG5R0Ln8OdP4xl371BYrVytiruhEU5UNdlYVFn+w8ZvXio+k89Jx/78OMmfZPUKnYtmQhc57+F8byMpe2VaVS4dUrmPCZAwmY2gW1txZbUS2ln+2k5MPtUnQshBCiXVApbeRHcpVKxU8//cRFF110wmseeeQR5s+fz44dOxqOXXXVVVRUVLBw4cJmPaeqqgp/f38qKyvx8/M702afVLXJytWf9uPxjxQCaiDq5Zfxn/oPygtqmPP8RmxmO4PPS2DYBV2adb/01E3Mn/US5poaDIFBXPDg40Qmd2+RtjtqrVQty8a4Kg/qh6e8egXjd3YCujDvFnmmEEIIcTyn8v7drmpu1qxZw+TJkxsdO/vss1mzZs0JX2M2m6mqqmr00Zp8PXUk2Lz5o773pux//0NRFAIjfJhwjTOUbFyQQeaO0mbdL7H/IK557rWGPam+e/IRti/9s0XarvbWEXBeFyIeHIz3oHDnflU7Syl8fRNlP+zDVtH0kJoQQgjhDqccbmpqjr9GS2soKCggPDy80bHw8HCqqqqoqzt2awOA559/Hn9//4aP2NjY1mhqI1H2GP4cqMKiBdOOHdRt2gRAt6ER9BobDfX1Nyda/+ZogZHRTHv2FZKHDMdus/Hne7NY+O4bWM0tM41bG+hJ0OXdCL9vIJ49g0GB2o2FFLyygYr5adhrXFv/I4QQQpyJUw434eHh3Hjjjfz9998t0R6Xe+yxx6isrGz4yM7ObvU2hOn7U+sFK3qrACj96OOGc2Ou6Epkkj+WOhu/v7sdc23zgoKHlzcX3P8vRl15HSqVmp3LFvP1vx+kLO/YDTpdRRfuQ8j1PQm9ox8eiX5gUzCuzKXgpQ1ULcnCYZbtHIQQQrjfKYebL7/8krKyMiZOnEi3bt144YUXyMvLa4m2HSMiIoLCwsJGxwoLC/Hz88PLy+u4r9Hr9fj5+TX6aG2asIH0MVv4dagaRa3CuGwZpl27nOe0as65rQ+GQD0VhbX8+fHJC4wPUanVDL/kSi7797N4+wdQkpXBl4/NZM/qFS355aCP9yP01r4E39ALXaQPitlO1aJMCl7eQPXfuShWCTlCCCHc55TDzUUXXcTPP/9Mbm4ut99+O19//TXx8fH84x//YO7cudhsLbf424gRI1iyZEmjY4sWLWLEiBEt9kxX8IruxbBaC/nBKvYPCAag5N33Gs57+3lw3h190erUZO0sY+1PB0/p/nG9+3Ldi7OI6dkbq6mO+W++xJJP3nXJvlQnolKp8OoeRNjdAwi6qjuaIE8cRiuVv6WR/9JGjKvzUKwnXoVZCCGEaCmnXVAcGhrK/fffz7Zt23jttddYvHgxl112GVFRUTzxxBPU1tae9B5Go5HU1FRSU1MB51Tv1NRUsrKyAOeQ0vXXX99w/e23305aWhoPP/wwe/bs4Z133mHOnDnMnDnzdL+MVhEb4k9sTSAAnwysApWK6kWLMO3d13BNaJwvE6f3AGDLoix2/X1qvWGGwCAu//dzDLv4CgBS/5jPt088THlBy/aqqdQqvPuHEXH/IAIuSUbjr8dRbaHil4MUvLLBuRCgTUKOEEKI1nPa4aawsJCXXnqJnj178uijj3LZZZexZMkSXn31VebOndvklO5DNm7cyIABAxgwYAAA999/PwMGDOCJJ54AID8/vyHoACQmJjJ//nwWLVpEv379ePXVV/noo484++yzT/fLaBUJIT5UmhKJtNlIC3FgGuP8ekvee7fRdV0HhzP4vAQAln29t9kzqA5RazSMvup6Ln70STwNvhSm7eeLR+5l5/IlLb4In0qrxjA0koiHBhNwURIaPw/slRYqfj5AwSsbqVlfgNLEflpCCCGEq5zyOjdz587l008/5Y8//qBnz57cfPPNXHvttQQEBDRcc/DgQXr06IHFYnF1e89Ya69zA+BwKPz7qUcwhMzhG39fbvScxDlP/gEqFYk//4Rn98Pr1CiKwpL/7Wbv2gK0eg2XPDCQ0DjfU35mVUkxC95+lZzdzjWBUkaNY/LNd6L39nHZ19UUxeqgZn0+VctycFQ7/x1ogjzxmxiL94BwVBpVq7RDCCFEx9Ci69zccMMNREVFsWrVKlJTU5kxY0ajYAMQFRXF448/fqq37rDUahWV/r0YX+ucrj6PVHzPOQcUhaJXX210rUqlYsK1Kc4dxM12fnt7K1Ulx5/m3hS/kFAuf+I552wqtZo9q5bz+cP3kLt3t0u+ppNR6dQYRkUT+fBg/P/RBbVBh73MRPkP+yl4bSM1GwpkuEoIIUSLOOWem9raWry92+/qtO7ouQG456v1PLfvPM5KCMeoVvNFn5fRX/8Q2GzEffYZPsOHNbreXGfjp1c2UZpbQ2CEN5c8OAhPg+60np23bw+/v/UylUWFqNRqRlx6NcMuvgK1RuOKL61ZHBY7NWvzqV6ejaPGWXSuCdDjOy4Gn8ERqHTtaj1JIYQQrczlPTdHru5rs9mOWfHXXav/ticJYQEcUOIZU997s8i+ncArnMW/Ra+8ckxNjN5Lyz9m9MMnQE95QS2/vr0Vi+n0ZqJFdUvhuhffosfo8SgOB6u//4rvnnq0xYuNj6T20OA7NoaIh4fif34ial8d9gozFfMOkv/SeqpX5Mg6OUIIIVyiWT03arUalarpGglFUVCpVNjtbfsNyl09N/NScyn94X7i/ZZzX3goYd5hLJjwLelnnYOjtpbo11/D79xzj3ldWV4NP726GVONlehuAfxjRj+0Hqff47Jr5VKWfPwOlro6tHo9Y6+5gf5TzkOlbt2eE8XqoGZjAdXLc7DXb+Og9tZiGB2NYWQUak9tq7ZHCCFE23Yq79/NCjfLly9v9sPHjRvX7GvdwV3hZkduJe/MfoXX9bMYHx+HUQWfnv0p8T+so+Ttt9HFxNBl/m+o9fpjXluUWcXPr2/BarIT3yeYc2/rg0Z7+mGkqriIhe++QfbObQDE9e7H2Xfci19I2Gnf83QpNge1W4qoXpaNrdS5fYTKU4NhZBSGUdFofE5vKE4IIUTH4vJw05G4K9zUmG1MePJb1nvexb9Dgpnn68OV3a/kX31mcvC887EVFhJ67z2E3HHHcV+ft7+cX2ZtxW51kDw4jCk39kKtPv0ZR4rDQeqf81nx1WfYLGY8vLyZMP0Weo2ffNJeupag2BXqthdTtTQbW6FzjSSVTo3P0AgMo6PRBnq2epuEEEK0HS0ebsrLy/n444/Zvds586Znz57ccMMNBAUFnV6LW5G7wg3AiOeX8F3dbeT4VHNbRBiB+kCWXLGE2gV/kvfAg6g8PUma/xu66Ojjvj5zRym/v7sNh10hZWQkE69NQXUGAQegPD+XBe+8Tv6+PQB0GTiEKbfejSHQPX+XikPBtKuUqqXZWHONzoNq8O4bimFsDB5RBre0SwghhHu16FTwFStWkJCQwKxZsygvL6e8vJxZs2aRmJjIihUtu6dRe5cUamCD0p2hdSaC1HrKzeWsy1+H33nn4T1kCIrJROGLL53w9fG9g5lyYy9UKtizOp+/vtjd7H2oTiQwMpqrnn6RMdP+iUarJW3zBv73wJ3sWLqoxRf+Ox6VWoVX7xDCZvQn5Kbe6JMDwAG1qcUUzdpC8Sc7MB2ocEvbhBBCtA+n3HPTp08fRowYwbvvvoumfiqx3W7nzjvvZPXq1Wzfvr1FGuoq7uy5+c+vu6hb+xHP6z7mucRefEs15yScw8vjXsa0dx/pl1wCdjuxH3+EYdSoE95n/8ZCFn2yC8Wh0H14BBOv73FGQ1SHlGRlsOCd1ylKd+5tFde7H1NuvZuA8IgzvveZsOQaqV6RQ922Yqj/16qLNuA7LgavXiGyIKAQQnQCLTos5eXlRWpqKt2PWFUXYO/evfTv35+6ulNfcK41uTPczNmYzYc//s4i/cPs8vblyvBAdGodf13+FwGeARQ891/Kv/gCXXwcXebNQ+154jqTIwNOt2HhTJre0yUBx2G3s/G3n1jz/dfYrBa0HnpGXXENA8+7sFXXxTkeW2kd1X/nUruxsGFTTk2QJ75jovEeFI76DGaRCSGEaNtadFhq4MCBDbU2R9q9ezf9+vU71dt1Kj0i/DigRFGJDz1rq0kxxGF1WJmfPh+A0HvuRhsWhjUzi5LZs5u8V9fB4Zx1Uy9UahX71hWy5LNdZzxEBc79qYZeeBnXv/I2sb36YrOYWf7lJ3z97wcpzkw/4/ufCW2wF4EXJhPxyBB8J8Wh9tZiLzNRMe8gBS+up3JRJvbqtrflhxBCiNZ1yj033333HQ8//DB33303w4cPB2Dt2rXMnj2bF154gR49ejRc27dvX9e21gXc2XNjstrp+cRC3tG+zjmaDXw9+HKeL11Ht8Bu/DD1B1QqFdV//UXOnXeBRkPCnO/w6tWryXse3FzEnx/txOFQSBoQypQbe6Fx0Wq/iqKw/a8/WfHlJ5hra1BrNAy54DKGX3IlWg8PlzzjTDgsdmo3FlK9Mgd7uXOtHDTOXcoNo6Kk+FgIITqQFh2WUp9ksTeVStWmF/RzZ7gBmPzacoaX/sSzuk+pTBzFRHUhFoeFb8//ll4hziCTM3Mm1QsWou/Rg8Q536HSNb3WS1pqMX98tAOHTSG2RyDn3NYHDxcugmcsK2XJJ+9xYMMaAALCI5l44+0k9h/ksmecCcWuULejmOq/87BmVzcc13fxxzA6Gs+UoDOeVSaEEMK9WjTcZGZmNvva+Pj4U7l1q3B3uJnx9WZ2bt/MUv0DoPHg4THXsyDzTy7rdhlPjngSAFtJCWnn/wN7ZSWhM2cSctutJ71v9u4yfn9vOzaznfBEP/4xox+eLl4Ab/+61fz16XsYy8sA6DpsJBOm34pvcIhLn3MmzFlVGP/OpW5HCdTvy6kN9sQwMgrvwRGo9VKXI4QQ7ZEs4tcEd4eb2UsP8PIfe9himEmgrYgNU1/ixh1v46X1YtFli/DX+wNQOW8eeY88ikqnI+GH7/E8qoD7eArSK/nt7a2Ya2wERflwwT398Qk4dsXjM2Gpq2X191+zecEvKA4HOr0nIy+fxoBzL0CjbTtbJtgqTBjX5FOzrgClfk8ulacGnyERGEZGyaKAQgjRzrRoQTE4Z0bNmDGDSZMmMWnSJGbMmMHevXtPq7GdTUqEL6BivcpZjzS4JJtugd2os9Xx84GfG67zu+ACDBMmoFit5D34EA6z+aT3jkj05+IHBuLj70FZXg0/vryJiqJal7bfw8ub8dffzHUvvElUtx5YzSaWf/kJXz56Lzl7drr0WWdCG+BJwLmJRP5rKAEXJqEN8UIx2TGuzKXgpQ2UfrUbc1qlrJcjhBAd0CmHmx9//JHevXuzadMm+vXrR79+/di8eTO9e/fmxx9/bIk2digpkc60ubAuBQBV+nKu6XENAN/s+Qa7w1mnpFKpiHz2GTTBwZj376f49Teadf/gKAOXPDQI/1AvqktN/PjSJgrSKl3+dYTGJ3LV0y9y9u334unrR0l2Jt89+QgL33mdmopylz/vdKk9NBhGRBF+/yCC/9nLuSigAnXbSyj+YBtFb27GuDZfdiQXQogO5JSHpZKSkrjmmmv4z3/+0+j4k08+yZdffsnBgwdd2kBXc/ewlKIoDHhmEdraEjZ6OveRMs3cweQFV1NpruTNCW8yMW5iw/XVy5aRc7vzurhPP8FnxIhmPae2ysJvb2+lOKsajU7NlBt6kjSwZTbGrKuuYuU3/2P7kj8A8PDyYvglVzHg3AvQnqQY2h2sBTUYV+dRu6WoYb0clV6Dz6BwfEZEogv1dnMLhRBCHK1Fa268vb3Ztm0bycnJjY7v37+ffv36UVvr2mEQV3N3uAG4/pP1rNhXzKawZwiu2g0XvsMbjmI+3vExwyKG8dHZHzW6Pv/pp6n45lu04eF0mfczmoCAZj3HYrKx6OOdZGwvBRWMvCSZ/pNjW2xjzLx9e1j62fsUHNwPQEBEJOOvv5kuA4e6ZTPOk3HU2ajZVEjN2nxsJYcXn9QnB2AYEYlnSrCsfiyEEG1Ei9bcjB8/npUrVx5z/O+//2bMmDGnertOqV+Ms2h4k36Y88C+BVyVchUalYZ1BevYVbqr0fXhDz+MR0ICtsJC8h59DMXhaNZzPDy1nHtHX/qMiwYFVv94gBXf7sNhb97rT1VUtxSmPfsq59w5E5+AQCoK8vn5pWeY+/yTlOZkt8gzz4TaS4vv6GjC7x9EyI298ewRBCowH6ig9IvdFLy8gaql2diNsjCgEEK0J6fcc/Pee+/xxBNPcMUVVzRaxO/777/n6aefJioqquHaCy64wLWtdYG20HOzaFcht3y+kfOD85ld8wB4GODhNB5d8yTz0+ZzVvxZvDr+1UavMe3aRcZVV6NYLIQ9+ADBN9/c7OcpisLWJdms+vEAKBDfJ5izburl0rVwjmapq2XtT3PYPP9n7DYbKrWaAWf/gxGXTcPT0HYX17OVmahZl0/NhgIctc5ZVmhUePcJwWdYJB4Jfm2yF0oIITo6ty7i13BjWcTvhIqqTAz97xI0Kgf7gx9AbSyEa+eyPziOS365BBUq5l00j0T/xEavK/9uDgVPPgkaDfGffYr3kCGn9NyDW4pY9Mku7FYHQVE+nHdHH/xbuL6kvCCP5V98wsGNawHw9PVjxCVX0u+s89Bo2149ziGK1UHttmKMa/Kw5hgbjmvDvPAZGon3gDA0Ll5HSAghxIm16LCUw+Fo1kdbDDZtRZifJxF+ntgVNSUR450H9y2ka2BXxseMR0Hh0x2fHvO6gCsux++CqWC3k3v/A9hKSk7puUkDwrj4/oF4108V//75jWTvLnPBV3RigRFRXPTQv7n08WcIjonDVF3F0v99yGf338neNX+32anYKp0an0HhhM8YQNhd/fEeHI5Kp8ZWVEflb2nkP7+Osm/3yHRyIYRog2QRPze59fON/LmrkPeHFHL29pngHwf3bWNryTau/f1atGotCy5ZQIRPRKPXOWpqSL/iSiwHD+I9fDhxH32I6hQXz6upMLPg/e0UplehUsGoy7rSd2JMiw+3OOx2dixdxKo5X1JbWQFAZHJ3xl53IzEpTe+h1RY4TDZqU4upWZePNb+m4bg2tL43Z6D05gghREtp0WGpo6eAH+2JJ544ldu1urYSbpwrFe/l4t4BvJ5xKdjq4NblENWfG/+4kQ0FG5iWMo3Hhj12zGvNBw6QfvkVKHV1BE2fTvhjj57y821WO8u/2suetQUApAyPYNw13dHqWn57Aoupjo2//sTGX+diNZsASBo8nDHTphMcHdvizz9TiqJgzTFSs76A2q1FKJb6Am2NCq8+IRiGRuCR6C+1OUII4UItGm4GDBjQ6HOr1Up6ejparZakpCQ2b9586i1uRW0l3Kw+UMK0j9YR6e/J6i6fodr9C4yeCZOfYm3+Wm758xZ0ah3zL55PpCHymNdX/fEnuffeC0Dkc88RcOklp9wGRVHY9lcOq37Yj6JAWIIf59zaG9+g1tmaoKainNXff8X2v/5EcThQqdX0nXQ2Iy6bhk9AYKu04Uw5TDZqt9b35uQd1ZszJMJZm+Pr/h3UhRCivWv1vaWqqqr45z//ycUXX8x11113prdrUW0l3NRabPR96k9sDoVNF1cTvOA2CEyAe1JRgJv+vIkNBRu4tOulPDXyqePeo/ittymZPRuVTkfc//6H98ABx73uZLJ3l/HHhzsw19rQ+2iZcmMv4nsFn/bXdqpKc7JZ+c1nHNy4DgCd3pOB513I4KkX4+nTdmdWHc2SU+3szUktRrHU15ypwbN7ED6DI/BMCUSlOa0dT4QQotNzy8aZ27dvZ+rUqWRkZLjidi2mrYQbgAtnr2JrdgVvXdqNqX+MaTQ0lVqUynULrkOj0jDvonnE+x27w7ricJB7731UL1qEJiSExO/noIs8tpenOapK6lj4wQ6Ks6pBBYPPS2DI+Ymo1a03tJKzawfLv/qEggP7AND7+DBk6qUMOHcqHp5erdaOM+UwO2tzajcWYsmubjiuNujwHhCGz+BwdOE+bmyhEEK0Py2+cebxVFZWUlnp+j2MOrIh8c6hlzU5Juh2lvPgzp8A6B/WnzHRY7Ardmanzj7u61VqNVEvPI++e3fsJSVk33UXdmPNca89Gb8QLy55aCC9xjoX/Ns4P4NfZ6VSV916C9jF9OzNtGdf5YIHHyckNh5zTQ1/f/s5H99zC5t/n4fN0j4W01PrtRiGRRJ2V3/CZw7EMDYatUGHw2jFuDKXwtc3Uzg71bmnVZ3N3c0VQogO55R7bmbNmtXoc0VRyM/P54svvmDcuHF8/fXXLm2gq7Wlnps/dhZw2xeb6BZu4M+zyuD7fzYMTaFSsbt0N1f8dgUqVHw/9Xu6B3U/7n0sOblkXHEF9rIyfMaMIfYd51DV6dq7roBlX+3BZnHgE6Dn7Jt7EZkccNr3Ox0Oh529q1eyes5XVBTmA2AIDmHEpVfTa9wkNKc4Q8zdFLsD095yajYWYtpTBo76/3ZaNV69g/EZHI6+SwCqVuwpE0KI9qRFh6USExsvLKdWqwkNDWXixIk89thj+Pr6nnqLW1FbCjelRjODnl0MwJZHRhL4Tk+w1sJNiyB2KAAPLn+QPzL+YFjkMD6c8uEJZ+DUbdtG5vXTUUwm/C+7lMhnnjmj2TqleUb++GAH5QW1qNQqhpyfwKBzE1p1mArAbrOxc/li1vz4LcZS57o+ARGRjLxsGt1HjUWtbvnZXa5mN1qo3VJEzcZCbIWH92LTBOjxHhCG98Aw2bxTCCGO4paam/aiLYUbgEmvLuNgcQ0fXT+YyXuegG3fwqAbYOobAORU53DhzxdicViYNWEWE+ImnPBe1X8tJWfGDHA4CLl7BqF33XVGbbOYbCz/ei/71hcCEJnsz5Qbe7XabKoj2SwWti1ewNqf5lBX5Rz+DIyMZvglV5IyahxqTfsLOQ1TyjcWULu1GMV0eOFLXYwBnwFhePULRWOQ2VZCCNGq4aaqqoq//vqL7t2706NHjzO5Vatoa+Hm0R+38e2GbG4b24XHUorg8wtA7w8P7gOdM0S8uflNPtr+EXG+cfx84c/oNCcecir/9lsKnnoaOP0p4kfbu66A5V/vxWq2o/fWMuHaFJIGhp3xfU+HxVTHlgW/svG3nzAZncW6ARGRDLv4SnqMHt/uhqsOUax26naVUbulCNO+Mji0t6lahWe3QLwHhuHVIwhVK6xDJIQQbVGLhpsrrriCsWPHMmPGDOrq6ujXrx8ZGRkoisK3337LpZdeekaNb2ltLdz8tCWHmd9tpU+0P7/eNRLe7AuV2XDZJ9Db+WdZY63h/LnnU2oq5cHBDzK91/Qm71n06muUfvghqNVEv/46fmefdcbtrCyu5c+Pd1GUUQVAz9FRjL68Kzq9e95sLXW1pP75Oxt/nUtdtbNN/mHhDL3oCnqNm9im9606GbvR4pxttaUIa+7hfa1Ueg1efULwGRiGR4K/1OcIITqVFp0ttWLFCsaMGQPATz/9hKIoVFRUMGvWLJ599tnTa3EnNiopBIAdeZWU19mg75XOE6nfNFzjo/Ph3oHOBfve3/o+Zaam94MKnXkf/pdeAg4HuQ8+iHHl32fcTv9Qby55aCADz4kHFez6O4/vn99AUWbVGd/7dHh4eTP0wsu4+e2PGXvtjXj7B1BZVMiiD97ik/tuY+uiBdhtVre07UxpDB74jo4m/O4BhN8/CN/xsWj89ShmO7UbCyn+YDsFL22g8o8MrEW1J7+hEEJ0Mqfcc+Pl5cW+ffuIjY3l+uuvJyoqihdeeIGsrCx69uyJ0Wg8+U3cqK313ACc9fpy9hUamT1tIOdH1cDbg0Clhvt3g69zbym7w87V869md9luLky6kGdHNx0kFbud3AcepHrhQlSensR99CHegwe7pL05e8pY/OkuaiotqNQqBp8bz6DzEtC4cYE6q9nEtsUL2fDLj9RUlAPgGxzKkAsuofeEKej0rV8n5EqKQ8GcXkntliLqtpegmI+oz4k24N0vFK++oWgD9G5spRBCtJwW7bmJjY1lzZo11NTUsHDhQs46yznkUV5ejqdn+34DcZfRyaEA/H2gGEKSIXYYKA5I/arhGo1aw7+G/QsVKuYdnMeGgg1N3lOl0RD90ov4jBuLYjKRffsd1O3Y6ZL2xqQEcdX/DSN5UBiKQ2HD/Ax+eGEjpbnuC7Y6vSeDzr+Im976iAn/vBWfwCCqS4v569P3+XDGTayd+x2mNh68m6JSq/BMCiDosm5E/XsYQVen4JkSBGqw5hqp/D2dghfWU/TeVoxr8rAb28eaQEII0RJOuefmnXfe4d5778VgMBAfH8/mzZtRq9W89dZbzJ07l6VLl7ZUW12iLfbcLN1TxA2fbSAm0IuVD09Alfo1zLvTuVP4valwxHTnZ9Y8w5x9c0j0T+SHqT/goWl6Jo3DZCL7llup3bABTUAAcZ99imdKisvavn9jIcu/2Yu5xoZaq2LY1C70nxLX6lPGj2azWNixdBEbfp1LVbFztpfO04t+U85l0HkXYghqve0lWpLdaKFuewm1W4uxZBwxRKgGfXIg3n1D8eodjNqzfRZaCyHEIS0+W2rTpk1kZWUxZcoUDAbn3j/z588nICCAUaNGnV6rW0lbDDc1Zhv9//MnVrvC8ofGE++nhldTwFQB0+ZAt7Mbrq2yVHHBTxdQaiplRv8Z3NbvtpPe3240knXjTZi2bUPj7+8MOC6c2VZTaWbZl3vI2F4KQEQXPyZN70lAuPvXanHY7exds5L1836gJCsDAI1WS8+xExk89VKCoqLd20AXslWYqdtWTO3W4kaFyGhUeHYPwrt/KJ4pQag9ZMaVEKL9kXVumtAWww3AFe+vYX16Gc9e1Jtrh8fDH4/Dmreh61lwzfeNrv097XceWfkIHmoP5l4497j7Th3NXlVF1i23YNq6DbW/P3GffIxXr14ua7+iKOxZU8Dfc/ZhMdnR6NQM/Uci/SbHurUW58j2pW/ZyPp535O7Z5fzoEpFt6EjGXrR5YR3SXZvA13MWlJH3dZiarcWYSuqaziu8lDj2TMY776heHYLRKV1/9+NEEI0h4SbJrTVcPPWkv28umgfU3qG8+H1g6H0ILw1EFA5h6YCExquVRSF2xffzuq81QwMG8gnZ3+Cphkr9dqrq8m++Rbqtm5F7edH3Cef4NXbdQEHoLrMxNIvdpO921nUGxJrYMK1KYTFt50/65w9O9kw7wfSNh+uW4rt2YdB/7iILgOGoFJ3nDd8RVGwFtQ6g862YuxlpoZzKi8tXr2C8eoTgmdSgAQdIUSbJuGmCW013OzIreQfb/2Nl07Dliem4KnTwBcXw8G/YNR9MOXpRtfnGnO5ZN4l1Npqm7X2zSF2o5HsW26lbssW1L6+xH34AV79+7v0a1EUhb3rCvj7+/2Ya2yoVNBvchxDpyaia0NDIiVZGaz/5Uf2rl6Bw+6cfRQYGcXA8y6i17iJ7X6G1dEURcGSXV0fdEpwHLEpqspTi1fPIGfQ6So9OkKItsctu4KfrtmzZ5OQkICnpyfDhg1j/fr1TV7/xhtv0L17d7y8vIiNjWXmzJmYTKYmX9Me9IryI9LfkzqrnTUHnbUrDLnZ+eumz8DceKZPtCGah4Y8BMCszbNIq0hr1nM0BgOxH36I16BBOKqrybzxJoyrVrnqywBApVKRMjySaU8Op+uQcBQFUhdl8e1/1pG9u+k1elpTSFwC5814gJtmfcSQCy5F7+1DeX4eSz5+hw/uvIG/v/0cY3nbae+ZUqlU6OP8CJiaRORjQwm5pQ8+IyJR++pQTDZqNxdR+r9d5D2zlrLv9lK3sxTF6jj5jYUQoo05pZ4bm83Gf//7X2688UZiYmLO+OHfffcd119/Pe+99x7Dhg3jjTfe4Pvvv2fv3r2EhR27vP/XX3/NjTfeyCeffMLIkSPZt28f//znP7nqqqt47bXXmvXMttpzA/D4T9v5al0W1wyL47mL+4DDDm8PhrI0OOdFGH57o+sVReGOJXewKncVvYN788V5X6BVN29WjKO2lpy776Fm1SrQ6Yh++WX8zjn75C88DRnbS1j+9V6M5WYAUoZHMPLSZLx829aeSRZTHTuWLmbzgnlUFhYAoNZo6TF6HAPPu5CwhC5ubmHLUBwKlswq56yrHSU4qo7o0fHQ4NkjCO8+IXh2D5TtH4QQbtOiw1K+vr5s376dhISEM2kjAMOGDWPIkCG8/fbbADgcDmJjY7n77rt59NFHj7l+xowZ7N69myVLljQce+CBB1i3bh1//338VXjNZjNms7nh86qqKmJjY9tkuDk0JTzCz5M1j0107uq94WOYfz8ExMHdW0DTOLwU1hRy8S8XU22p5u4Bd3Nr31ub/TyHxULew49QvXAhqNVEPP0UgZdf7uovC3Buwrl2Xhrbl+WAAnpvLcMvSqLn6Ci3Txs/msNh5+DGdWya//Ph4mMgrnc/Bp53AYkDBrfL3cibQ3HUD11tK6ZuRwn2yiODjhrPlPqhq25BqN209YYQonNq0WGpiRMnsnz58tNu3CEWi4VNmzYxefLkw41Rq5k8eTJr1qw57mtGjhzJpk2bGoau0tLS+P333znvvPNO+Jznn38ef3//ho/Y2NgzbntLGZEUjJdOQ0GViZ159WuW9J8G3sFQkQW7fj7mNeE+4Tw29DEA3k19l63FW5v9PLWHB9GvvkLA5ZeDw0HB/z1B6UcfueJLOYaHp5axV3bj0ocGERJrwFzr3HH8xxc3Upjhni0cTkSt1tB16Eiuevolpj33Kt1HjEGlVpO1Yys/v/QMn9x7Kxt+nUtd/cadHYlKrUIf7xy6inhkKKF39sMwJhpNgB7F4qBuWwllX+0h75m1lPxvJzUbC7DXtM9tLoQQHdcp99y89957PP3001xzzTUMGjQIHx+fRucvuOCCZt0nLy+P6OhoVq9ezYgRIxqOP/zwwyxfvpx169Yd93WzZs3iwQcfRFEUbDYbt99+O+++++4Jn9Oeem4Abv18I3/uKuS+yV25b3I358FlL8Cy5yGyH9y6HFSNezoUReHhFQ+zMGMh0YZo5kydg59H8782RVEofu1152abQOB11xH+6COoNC3zk7nDobBjeS7rfknDUmcDFfQaHcXwi5Lw9GmbG15WFRex5Y/f2PHXn5hqnPVPWp0HKaPHM+Ccf3TYIatDFEXBmmukdnsJddtLGs26QgUeCf7OmVc9g9EGdaxCbCFE29Ciw1LqJqbJqlQq7Hb7Cc8f6XTCzbJly7jqqqt49tlnGTZsGAcOHODee+/llltu4f/+7/+a9dy2XHMD8P3GbB76YRspEb4svG+s82BNKbzeE2wmuP4X6DLumNdVW6q5/NfLyTXmclb8Wbwy7hXnsNYpKP3kU4peegkAw8SJRL/yMmrvlluIr7bKwuofD7B3nbO+xdNHx4hLkugxIrLN7nhtNZvYs3oFWxb+RnHG4SLuqO49GXD2+XQdNrJd70jeHIqiYCuspW5nKXU7S7Dm1TQ6r4v0watXMJ69QtBFeJ/yv0MhhDiedjEV3GKx4O3tzQ8//MBFF13UcHz69OlUVFQwb968Y14zZswYhg8fzssvv9xw7Msvv+TWW2/FaDQ2GbwOaevhprLWyuDnFmG1Kyy+fyzJYb7OE/MfhA0fQvxouGH+cV+7vXg71y+4Hpti44kRT3B5t1Ovn6lauJC8hx9BsVjw7NWL2PfeRRsaeiZf0knl7S9n+Tf7KKt/kwyN82X05V2J6hrQos89E4qikLd3N1v++I3961Y1TCX3CQyi76Rz6Dv5HAyBQW5uZeuwlZmo21VK3c5SLBmVcMR3FE2Qp7NHp1cwHnF+bTa0CiHavnYxFdzDw4NBgwY1Kg52OBwsWbKkUU/OkWpra48JMJr6oZOOslyPv7eO0ckhAPy2Lf/widEzQeMBmX9D+srjvrZPaB/uHXgvAC+uf5G9ZXtP+fl+55xD3GefoQkMxLRzJ+lXXol5//5T/0JOQVTXQK54fAijLkvGw1NDcVY1P726mYUf7KCqpO7kN3ADlUpFdEpP/nHvw9wy+1NGXDYNn4BAasrLWPPD13x41w389saLZO3Y1mH+bZ6INsgT39HRhN3Wl8h/Dyfwsq549ggCrQp7mQnjylyK39tG/n/XUf7jfup2leKwNK+HVwghTsdp9dwsX76cV155hd27dwPQs2dPHnroIcaMGXNK9/nuu++YPn0677//PkOHDuWNN95gzpw57Nmzh/DwcK6//nqio6N5/vnnAXjqqad47bXX+OCDDxqGpe644w4GDRrEd99916xntvWeG4AfN+XwwPdb6RpmYNH9RwxBNfTejIJ/zj+m9gbAoTi4a8ld/J37N9GGaL77x3f46/1PuQ2WrCyyb7kVS2Ymal9fol9/HcPolt83rLbKwvpf09j1dx6KAhqtmv6TYxl4TjwebXzzR7vNyv51q9nyx3zy9h6eZRUYGU3fSWfTc9wkvP1O/e+ivXKY7Zj2lWPaVUrd7jIUk+3wSa0az+QAPHsE4ZUShMZf776GCiHahRYdlvryyy+54YYbuOSSSxo2yVy1ahU//fQTn332GdOmTTulxr799tu8/PLLFBQU0L9/f2bNmsWwYcMAGD9+PAkJCXz22WeAc52d5557ji+++ILc3FxCQ0OZOnUqzz33HAEBAc16XnsIN1UmK4OfWYzF7uDPmWPpFl4/NFWZC7P6g90C03+FxLHHfX2luZIrf7uSXGMuo6JGMXvS7GZtz3A0W3k5OTPupm7TJlCrCXvoIYL+Ob1VaihKcoz8/f1+cvc6t3Hw9vNg+EVJpAyPaBdDG0UZaWxbvIBdK5dhNTl7nzRaLV2HjaLv5HOI6dG7U9WiKHYH5rRK6naVYtpdhr3C3Oi8LsoHzx7BePUIQhdlaBd/x0KI1tWi4aZHjx7ceuutzJw5s9Hx1157jQ8//LChN6etag/hBuDm/21k8e5C7pmYzP1ndT984lDvTdxIuOH34/beAOwt28u1v1+LyW7i5j43NwxXnSqHxULBU09TOXcuAH4XTCXyP/9B7dnyM2IURSF9awmrfjxAVbEzIITEGhhxcRKxPYLaRTiwmOrYs2o52xYvpDDtQMPxoKgY+k4+h57jJuFl8HVjC1tfQ0HybmfQsWRXN6rTUft64NUjCM+UIPTJAbKLuRACaOFwo9fr2blzJ8nJjXdRPnDgAL17927zWyG0l3Dz85Zc7vsulcQQH/56YNzhN/KqPHizP9jNMG0OdDvxqsKHdg8HeG38a0yJn3JabVEUhfIvv6LwhRfAbsezd29i3n4LXUTEad3vVNmtDrYtzWHj7+lYTM5ajZiUQEZcnNSmNuQ8mcK0A2xdvIA9fy/Hanb+P9HodHQbPpo+E8/qdL05h9iNFkx7yjHtLsW0vwLlyHqcI4avPFOC0MrwlRCdVouGm+TkZB566CFuu+22Rsffe+89Xn31Vfa3cPHpmWov4cZotjHk2cXUWe3MvXMkA+MCD5/88/9g9SwITYHbVx2zavGRXt7wMp/v+hwvrRdfnPsF3YO6n/Dak6lZu5bce+/DXlmJJiSEmDffwHvQoNO+36kyGa1sXJDB9uU5OGzOf7bJg8MYfmEX/ENbbsq6q5lra9mzahlbFy9sNJ08IDySXuMm0XPcJPxCWnaGWlul2OqHr3Y3MXzVPQjP7oF4xPqh0nS+MChEZ9Wi4ebdd9/lvvvu48Ybb2TkyJGAs+bms88+48033zwm9LQ17SXcANz/XSpzt+QybVgc/724z+ETdRXO2pu6cpg6CwadeEdwm8PG7YtvZ13+OsK8w/j6vK8J9wk/7TZZcnLIufMuzPv2gUZD2P33E3TjDa3a41BVUsf6X9PZu74AFFCrVfQaG83g8xLw9mtb+1U1RVEUCg7uY/uSP9i7ZiWWuvqZYSoVCX0H0HvCFJIGD0er69jr5pzIyYavVF5aPLsG4NnNGXY0bWyvMiGEa7X4Ojc//fQTr776akN9TY8ePXjooYe48MILT6/Frag9hZvVB0qY9tE6fD21bHh8Mp5Hblq45h344zEwRMA9m8HD54T3qTRXct2C60ivTKdHUA8+O+czvHWn39PhqKkh/4knqZrvXG/HMGkSUc//F00r/3mW5FSz5qeDZO107tyt02voPzmWfpPj0Hu17ZlVR7OaTOxbt4odyxaRs2tHw3FPgy8po8bRe8IUwhOT3NhC97MbLZj2lmPaW+YcvqqzNTovvTpCdGztYhE/d2lP4cbhUBjz0lJyK+p486r+XNg/+vBJmxneHgIVmTDhcRj3cJP3yq7O5trfr6XMVMb4mPG8MeGN05pBdYiiKFR8+y2F/30exWpFFxND9Btv4NW712nf83Tl7CljzU8HKcp07vWk99bSf0ocfSfEtPnp48dTXpDHzmVL2Ll8Mcay0objoQld6D1+Cj1Gj8PLt23/221pil3BklPtDDp7y7HmGhudV3nW9+p0D8SzWxCadtSjJ4Q4vlYJNxs3bmy0zs2gVqy9OBPtKdwAvLZoH7OW7GdM1xC+uGlY45M7foQfbgSdD8zYAP7Rx79JvdSiVG764yYsDgtXp1zNY0MfO+PhpLodO8m97z6sOTmodDrCH/8XAVde2eqFsYqicHBzMet/TaO8oBZwbucw4Kw4+oyPQdcOd7B2OOxkbUtl+7LFHNywBrvN2VOh1mjpMnAwPcdMJHHgkE47bHUke7XFuabOvnLM+8tx1B7VqxN5RK9OnPTqCNEetWi4ycnJ4eqrr2bVqlUNa8tUVFQwcuRIvv32W2JiYk674a2hvYWbzNIaxr28DJUK/n5kItEBXodPKgp8cg5kr4VeF8Pln530fgszFvLQ8ocAmNF/Brf1O/MaKXtlJXmP/QvjX38B4HvWWUT+52k0zVx7yJUcDoUDGwtZ/1s6lUXOGhYvXx0Dz46n99hotO10WnFddRW7/17OjmWLGhUhe/oY6DZiND3HTCSqe49OOdvqaIpDwZJd36uzr75X58haHU8NnskB6LsG4tk1UDb6FKKdaNFwc84551BRUcH//vc/und3zrzZu3cvN9xwA35+fixcuPD0W94K2lu4Abj6g7WsSStlxoRkHjz7qNlOBdvh/bGgOOC6nyFpwknv99Xur3hh/QsA/HvYv7ky5cozbqOiKJR9+hlFr78OViva8HCiXnwRn+HDTv7iFuCwO9i3vpAN89OpKnFOu/b282DQufH0HB2FVtc+Qw5ASVYGu1YuZfffyxoNW/mHR9Bj9AR6jhlPYGTTvXidid1owbS/AtPeMsz7ju3V0QR74tk10Bl4kgJQt7N6LSE6ixYNN15eXqxevZoBAwY0Or5p0ybGjBlDbW3tqbe4FbXHcPP79nzu/GozIQYPVj06Eb32qDfm3x+G9e9DSDfn1HDtyesL3t7yNu9vex8VKl4a9xLnJJzjkrbW7dhJ3oMPYsnIAJWK4JtvIvTuu1F5uKfmwW53sHdtARvnZ1Bd5gw5PgF6BkyJo+eYKHTttCcHnMNW2Tu3s3vlUvatW92wEjJAZNfu9Bwzke4jx3T6+pwjKQ5nrY55fwWm/eVYsqrBceQKguAR41vfqxOAR6wvKo3btuATQhyhRcNNt27d+PLLLxk6dGij4+vXr2fatGkcOHDgBK9sG9pjuLHaHYx+8S8Kq8zHFhaDc2r424OhphgmP+XcZPMkFEXhuXXP8d3e79Cqtbw98W1GRbtm7yhHbS2Fz79AxfffA+DZqxdRr7yMPjHRJfc/HXabg92r89m0IANjuXPtFE+Djn6TYukzPqbdza46mtVk4sDGtexauZTMrVtQFAfgrM9JHDCIlJFjSRo0DF0rrCzdnjhMNsxplZj2l2PeX4HtqI1aVXoN+qQAPLs6h7G0wZ4y9CeEm7RouJk3bx7//e9/mT17NoMHDwacxcV33303jzzyCBdddNFpN7w1tMdwA/Dm4v28vngfg+MD+eGOkcdekPo1/HwHaD3hjtUQfPJpw3aHnUdXPsrCjIXoNXrenvQ2wyOHu6zNVYsWUfDv/8NeWYnKy4uwhx4k8KqrUKnd95Ow3epgz9p8Nv+R2TBc5eGlpc/4aPpNisXL0P5n1dRUlLNn1XJ2rvirUX2OVq8nadAwUkaOJaH/IClEPg5bucnZq3OgHPOBimOHsAL1eHYNRJ8UgD7JH00H+PciRHvh8nATGBjY6KeVmpoabDYbWq3zp91Dv/fx8aGsrOwMm9+y2mu4KaoyMfKFv7A5FH6/Zww9o45qu6LA5xdC+nKIH+3cWLMZIcJqtzJz2UyW5yzHU+PJ7EmzGRo59KSvay5rYSF5jz5K7Zq1AHgPG0bkc8/i4ebCc4fdwf6NRWxakNEwu0rroabX2GgGTI7DJ6BjLPNfkpXBntUr2LN6BZWFBQ3H9d4+JA8dQcrIscT17oda036H51qK4lCw5hkbenXMmVVgb/ztUhfhgz7J3xl2uvijbodLDwjRXrg83Pzvf/9r9sOnTz/xarltQXsNNwB3fb2Z+dvyuXJwLC9e1vfYC8rS4d2RYK2Ff7wOg29s1n0tdgv3Lb2Plbkr8dJ6MXvSbIZEDHFZuxWHg/Kvv6Ho1VdR6upQeXsT/tCDzinjbuzFcbZNIW1rMZsWZFKc5VwnR61VkTI8kv6TYwmMOPHiiO2JoigUHtzPntXL2bt6Jcbywz+EePn50234aFJGjiG6e0+3/520VQ6zHXN6Jeb95ZgPVmAtOKq+UA0e0b7ok529Ovp4P1TtuHBdiLZGFvFrQnsONxszyrjsvTV4aNT8/egEwnyPUz9xaOViD1+4ay34N6+HxGw3c+/Se1mVuwovrRfvTHqHwRGDXdp+S1YW+f96nNqNGwHwHj6cyGefxSPG/TN7FEUha1cZmxZkkH+gsuF4Qt8QBpwVR2SSf4eptVAcDnL37GLP6uXsW7uKuuqqhnOGoGC6jxhDysixhCd17TBfc0uwGy2Y0yoxH6jAfLACW+lRmwZrVejj/Jy9OskBeMQYpDhZiDPQauHGZDJhsVgaHWvrgaE9hxuAS99dzabMcu4cn8TD56Qce4HDDp+cDTkbIHkyXPMDNPMNymw3c89f97A6bzVeWi9mTZzl0hocqO/F+fIril57DcVkQu3tTVgb6cU5JO9ABamLskjfVtKwPkp4oh8DpsSR2D8UtbrjvOHbbTayd2xlz+qV7F+/Gkvd4d4Iv9Bwug4bSbdhI4lM7t5m/n7aKluFCfOBSswHKzAdrMBR1fh7o0qvQZ/o3zCMpYvwQdWB/i0J0dJaNNzU1NTwyCOPMGfOHEpLS485b7fbT621ray9h5s/dhZw2xeb8PXUsuaxSRj0xxnjL9rjXPvGboZzX4Zhtzb7/iabiXuX3svqvNXo1DpeGfcKE+MmuvArcLJkZpL3r8ep27QJAK8BA4h4+ik8u3Vz+bNOV3lBDalLstm7pgC7zTn7yC/Ui/6TYkkZGdmup5Efj81iIX3rJvauWsHBzeuxmQ/vyG0ICnYGnaGjiErpgfoMtu7oDBRFwVZS19CrY06rPKY4WeWlRZ/gh76LP/ouAegiJewI0ZQWDTd33XUXS5cu5ZlnnuG6665j9uzZ5Obm8v777/PCCy9wzTXXnFHjW1p7DzcOh8Lk15aTVlLDv8/vwc1juhz/wrXvwcJHnLOnbl0OYcfp5TkBi93CIyseYXHWYjQqDc+MeoapSVNd9BUcdqgXp/iNN3DU1oJWS/BNNxFyx+2o29CU5doqC9uX5bB9eQ7mGucblKePjt7jouk9NrrDFB8fyWo2kZG6mX3rVpG2ef3hHcsBb/8Aug4dQddho4jt2UeKkZtBcShY82ucQedgBeb0KhRL4x8EVZ4a9An+zrCT6I8uyiDbRAhxhBYNN3FxcXz++eeMHz8ePz8/Nm/eTHJyMl988QXffPMNv//++xk1vqW193AD8O36LB6du51If0+WPzQBD+1xhgsUBb68FA4ugfA+cMsS0Db/TdjmsPHU6qeYd3AeAI8NfYxpPaa56ktoxJqfT8Gzz2FcsgQAXVwckU89ic/I40x5dyOr2c6eNfmkLs5qmEauVqtIGhhK34mxhCf6dcgaFZvFQub2Lexft5oDG9dirqlpOOfp60fy4OF0GzaSuD790GhlenlzKHbnTCxzWqWzSDm9EsV8VNjRaxp6djwS/fGIlpod0bm1aLgxGAzs2rWLuLg4YmJimDt3LkOHDiU9PZ0+ffpgNBpPfhM36gjhxmS1M/alpRRVm3n2ot5cOzz++BdWFzhnT9WWwsi74axnT+k5DsXByxte5svdXwJwV/+7uK3vbS32Bl69eDEFzzyLrbAQAL8LphL+0ENoQ0Nb5Hmny+FQSE8tZtvSHPL2VzQcD4v3pe+EGJIHhaPRdcw3IbvNSvaObexbt4oDG9Y2KkbWe/uQNGgoycNGktB3ADp92+l9a+sOTTs3p1fWB54qFNNRw1geajwSnL06+i71Yed4P9gI0UG1aLjp27cvb731FuPGjWPy5Mn079+fV155hVmzZvHSSy+Rk5NzRo1vaR0h3AB8uiqdp3/dRaS/J8seGn/slgyH7Pkdvr3a+ftrfoCuU07pOYqi8N7W93hn6zsAXNr1Uh4f/jg6dcv8hG43Gil+cxblX34JioLax4eQu2cQdM01qNrgonPF2dVsX5rDvvWFDXU5Xn4e9B4TRa+x0fj4d7whq0Mcdjs5u3ewb91qDqxfTU1FecM5rc6D+H4DSBo8jKRBw/D283djS9ufhmGshrBTiVJ3VNjRqfGI98Mj3g99oh8esX6o9TJEKDquFg03r7/+OhqNhnvuuYfFixczdepUFEXBarXy2muvce+9955R41taRwk3JqudcS8vpbDKzDMX9uK6EQknvnj+A7DhI/AKhNtWQEDcKT/vmz3f8ML6F3AoDkZFjeLV8a/io2u5NWDqtm+n4D/PYNq+HQCP5CQiHn8cnxEjWuyZZ6LOaGHnyjx2LM+lpsJZiKvWqEgeFEaf8TEddsjqEIfDTt6+Pc6hqw1rqSoubDinUqmJ6p5C0uDhJA8ZTmBElBtb2j4pDgVrYS2WNGdxsjmjEkdN47CDGnRRBmfdToIz9Gh8ZQVl0XG06jo3mZmZbNq0ieTkZPr2Pc7Ccm1MRwk3AP9bncGTv+wkws/Ze+N5ogXDbGb45BzI2wxRA+DGP06p/uaQpVlLeXjFw5jsJlKCUpg9aTZh3mFn+FWcmOJwUDl3LkWvvoa93Nkr4Hv22YQ/8jC6qLb5Bmm3O0jbUsz2pTnkHzy8Xk5wtIHeY6PoNjQCj3a+j9XJKIpCSVYGBzas5cDGtRSlH2x0PjgmjuQhw0kaPIyILl1livlpUBwKtuJazOlVWDIqMWdUYa8wH3OdNsQLjwQ/Z+1Ogj8a2RtLtGNuWcQvJyeH//znP3zwwQeuuF2L6UjhxmS1M/7lZRRUmXhqak/+OaqJjSkrspzTw+vKYfBN8I/XTuuZO0p2cNeSuygzlRHuHc7sSbPpHtT9NL+C5rFXVlL81tuUf/01OByoPD0JvuVmgm+8EbWXV4s++0wUZVaxfVkO+zcWYbc6h6y0eg3dhobTe0w0oXG+bm5h66gqKeLgxnUc2LiOnF3bcRyxXIRPYBBJg4aSNHgYsb36ovPouMN4Lc1WYcKSUYU5wxl4rIW1Des0HaI26Jy9OvW9O7pImZEl2g+3hJutW7cycOBAWeemlX2xNpP/+3kHIQYPlj44Hl/PJupS9i+Gry4DFLj4A+h35Wk9M6c6hzsW30FGVQZeWi+eHfUsZyWcdXpfwCkw7d1L4TPPNqxwrA0PJ/S++/C/8II2/dO/qcbK3rUF7FyZ27CPFUBYgh+9xkTRdUh4h1sz50RMNUbSt2zkwMZ1ZKRubDTFXOuhJ653X7oMHELigCH4hbStQvL2xlFrxZxV7ezZSa/CklN9zN5YKg8NHvG+6OtrdzzifFEfb+0sIdoACTdN6GjhxmJzcPYbK0gvqWHGhGQePPskvShL/wvLX3Suf/PP3yFm0Gk9t9JcyUPLH2JN/hoAbu93O3f0uwO1qmVDhqIoVC9YQNErr2LNywNA36MH4Y88jM9w166m7GqKopC3v4KdK3I5uKUYR/0bjYeXlu7DI+g1JorgKIObW9l6bFYr2Tu3cXDjWtI2b6S6tLjR+dC4BLoMGkqXgUOISO4mCweeIcXqwJJbfXgoK7MKxXTU92sV6MJ98Ij3xSPOGXi0MpQl2ggJN03oaOEGYOGOAm7/chN6rZplD40n0r+JoRqHHb69BvYtAEM43LIU/E9vbyebw8Zrm17ji11fADApbhLPjX6uRQuND3GYzZR/+SUl772Po9q54aVh3DjCHn4IfVJSiz//TNVWWdizJp+dK3Mb1swB5zYPPUZG0nVweIevzTmSoiiUZGeStmk9aVs2kr9vD4riaDjv5etHYv9BJA4cQkK/gXj6dJ4Q2FIaipTra3Ysmcev21H7aJ1BJ84Pfbwvuhhf1J2kp1G0LRJumtARw42iKFz5/lrWZ5Rx6cAYXr2iX9MvMFfDx2dB0S6I6As3LgSP0w8kPx/4mf+s+Q9Wh5XkgGReH/86Cf4Jp32/U2ErL6dk9juUf/st2Gyg0RBw2WWE3HUnurCWK3Z2FcWhkL27jB0rcsnYXoricP531HqoSR4YRo9RkUQmB3S6n5zrqqvISN3Ewc0byNi6qdHCgSq1muiUnnQZMITE/oMIjo3vdH8+LcVeZcGSVYU5swpLVjWW3GqwHV24A7pIAx5x9cNZcX5oAvXydyBaXIuEm0suuaTJ8xUVFSxfvlzCjZukZldw0exVqFTw64zR9I4+yboi5Znw4USoLYEeF8Dl/4MzqFtJLUpl5rKZlNSV4KPz4T8j/9MqdTiHmNPTKX7tNaoXLQZA5elJ0LXXEHTTTWgDA1utHWeiptLM3nUF7F6VT0Xh4doc/1AvUkZGkjI8AkNg51sYz2G3k7d3N2lbNpC2eQOlOVmNzhuCgknoN4jE/gOJ69NfenVcSLE5sOQZsWRWY8mq7905akNQALWvrr5nx1m34xHti6qDLmQp3KdFws0NN9zQrId/+umnzbrOXTpquAG455st/LI1jyEJgcy5bcTJf5LKXAP/mwoOKwy/C8757xk9v6i2iIeWP8Tmos0AXNvjWu4fdD86Testvle7cSNFr75G3ZYtAKgNBoJuvIGg66ejMbT8cJkrKIpCYXoVu1flsX9jEdb6ZflVKojtGUyPkZEk9g3psKsgn0xlUQFpmzeQtmUjObt2YLMcHkpRqdVEdk0hod8AEvsNIrxLcpsuNm+PbBVmLJlVzh6erGqsuUZwHPU2olGhi/TBI9a34UMb7CUbg4oz4pZhqfaiI4ebvIo6Jr+2nFqLnVcu78dlg2JO/qJtc2DuLc7fn/Wsc5uGM2B1WHlr81t8utMZcvuG9uXVca8S4RNxRvc9FYqiULNiBUWvv4F5zx4ANIGBBN96K4FXX9WmNuU8GavZzsHNRexend9oqwdPHx1dh4bTfWgEYQm+nXZIwGaxkLNnJxmpm8jYuvmYXh0vXz/i+w4gsf8g4vsOwCegffTitSeK1Y4l19m7Y64PPQ6j9ZjrVJ5aPGINzrAT44tHnC8agywyKJpPwk0TOnK4AXh/+UGeX7CHYB8PljwwjgDvZnzzWDULFv2f8/eXfAh9rzjjdizNWsrjfz9OtbWaAH0Az41+jrExY8/4vqdCcTio/uMPit+chSUjA3BOHw+54w4CLrkYlUf7+sZaUVjLnjX57FmTT03l4aGBgHBvug0Np9vQCPxD2+66P62hqqSIjK2byUjdTOb2VCx1tY3OhyUkkdB/IAn9BhLZNQVtG9zSo71TFAV7uRlLdhWWbCOW7GosuUawOY65VhOgdw5j1YcdXZRBipXFCUm4aUJHDzdWu4Pz3lzJ/iIj1wyL47mL+5z8RYoCf/wL1r4Dah1cMweSJp5xW7Krs3lg2QPsLtsNwFXdr+KBwQ/gqW3dnhPFZqNy3jyK356NLT8fAG1kJME330TAZZeh1revheMcDoXsXWXsXVdAemoxNuvhN42ILv50HxZO8qBwPA2d+43bbrORf2AvGambydi6icK0A43Oa/V6Ynr0Jr5Pf+L79CckNl6GsFqIYndgLah1Bp36D1vxsYsMoq6fin7kcFaYtwxnCUDCTZM6ergBWJtWylUfrEWlgp/uHEX/2ICTv8jhgB9vgp1zQecN1/0EcWe+bozZbubNzW82TBdPDkjmhTEvtPiqxsfjsFio+PY7Sj/8EFuxc00VbWioM+RccUWbXu34RCwmG+mpxexdX0jO7jIO/W9Wq1XE9Q6m+7AIEvoEo5WfhqmtrCBj2xYyUjeRuT2V2sqKRue9/QOI692P+D79ievTXxYRbGEOkw1LjhFLTrVzZlZ2NY7qY4uVVR4aPGIMDWFHF21AEyCzszojCTdN6AzhBuD+71KZuyWXlAhffpkxGg9tM34itZnhm6vg4F/g4QvXzzvtRf6Otip3FY///TilplI81B7MHDSTaT2mtfiif8fjMJup+OEHSj/8CFtBAQCa4GCCb7yRwKuuRO3TPgqPj1ZTYWb/xkL2riugJNvYcNzDU0PSwDC6DYsgqmsAavkpuGFdnaztqWRuTyVn1w6sZlOjawIjo4nr05/4Pv2I7dVXZmG1AlulGWt2NebsaqzZ1VhyqlEsxw5nqX206KJ98Yg24BFjQBfti8bfQwJPByfhpgmdJdyUGM2c9foKymos3DOpK/dP6da8F1pq4esrIGMlePrD9N8g0jUbopaZynhi1RMsz1kOwKioUTw18qlWLTY+ksNiofKnnyn94AOsubkAaAICCLrhBgKvmYbG0H7fzErzjOxbX8i+9QUYyw7PJvL28yBpUBhdB4UR0cVfuvvr2W1W8vftJXOHM+wUHNiH4jj8pqpSqYlI6toQdiK7pqBtZzVb7ZHiULAVHTGclVONtaD22NlZOPfN8og2oIs24BHti0eMAbWfBJ6ORMJNEzpLuAH4bVseM77eglat4ue7Rp187ZtDzEb48hLIXgdeQfDP+RDe0yVtUhSFOXvn8PLGlzHbzRh0Bh4e8jAXJV/ktm9CitVK5S+/UvLB+1gznbNt1AYDgVddSeB116MLb/uLAZ6I4lDIP1jB3rUFHNxSjLnW1nDOEKivDzrhnXrG1fGYa2vI3rmdzO2pZG1PpSwvp9F5rc6DyG4pxPbqQ2yvvkQmd0Oj7dw1Tq1FsTqwFtRgya3GkmPEmmvEWlgDx3bwONffiXYOZXnEOEOPxk9CaXsl4aYJnSncKIrCnV9tZsGOglMbngIwVcLnF0LeFvAOget/hohmFCc3U1plGv+36v/YVrwNgFHRo3hqhPt6ccBZeFz1+++UvP8BloMHnQd1OvynTiX4xhvQJye7rW2uYLc5yN5Vxv5NhaRvLcF6xL5CfiGeJA8KI3lQOCGxBgk6R6kqKSZrx1aytqeStWMrNRXljc5rPfREde9BbE9n2IlI6opG23m2z3A3xWrHkl+DNddYH3iqj7srOoDaz8M5nBVtQBfjHNrS+ErgaQ8k3DShM4UbaDw8dffEZB446xQKeWvL4IuLIH8reAbAtXNdVoMDYHfY+XzX57y95W0sDgsGnYGHhjzExckXu/XNVXE4MC5fTunHH1O3cVPDccOECQTffBNeAwe2+zd/m9VO1g5n0MnYVoLtiLoG/zAvug4OJ2lgKMHREnSOpigKZXk5ZO/cTvau7WTv3EZdVWWja3R6T2fY6dWXuF59Ce+SjFojRd2tyWGxY82vwZrjnIpuyTViKzp+4NH4eaCLNqCLMuARZUAX5SNFy22QhJsmdLZwAzB/Wz53fb0ZtQq+vmU4w7sEN//FdRXw1eWQs95ZZHzNHIgf6dL2HdOLEzWKfw//NzG+zViEsIXVbtlC2SefUL14CYemInn160fQzTfhO2lSh5g6bDXbydhewoFNRWTuKMV+xNRyv1AvkvqH0mVgKOHxflKjcxyKolCak9UQdLJ37cBUXdXoGp2nFzEpPYnt1ZfYnn0IS0ySsOMGDrMda76xYTjLkluNrbju+D083lp0kT6NAo82VKalu5OEmyZ0xnAD8ND3W/l+Uw6R/p4suHdM8xb3O8RsdM6iylgJWi+4+muXrINzpKN7cTw1ntzW7zam95qOTu3+WgZzejpln35G5c8/o1ic01V1cXEEXXsN/hdfjMbX180tdA2LyUb6VmfQyd5d1ijo+ATo6TIglKT+oUTKrKsTUhwOSnKynEFn5zZydu3AVGNsdI2HlxdR3XoQ06M30Sk9iUjqJgXKbuIw27Dm1mDJM2LNM2LNq8FadPyiZZVOjTbCB4+oI0JPhDcqnQTV1iDhpgmdNdzUmG1Mfetv0kpqOLtXOO9dO+jUulytdTDnetj/J2g84OL3oPelLm9nemU6z6x9hg0FGwDnujhPjHiCAWEDXP6s02ErKaHsyy8p//obHFXOn87V3t74X3wxgddcg75Loptb6DoWk42snWUc3FJE5vbShj2uALx8dST2DaHLwDBiugeiaW4tVyekOBwUZ2XU9+psJ2fXDsy1NY2u0eh0RCR1I6ZHL6JTehHVrQd6b283tVgoVgfWwhqs+YdCTw3WfONxp6WjBm2oNx71vTzO0OOD2tv9P5R1NO0q3MyePZuXX36ZgoIC+vXrx1tvvcXQoUNPeH1FRQWPP/44c+fOpaysjPj4eN544w3OO++8Zj2vs4YbgB25lVz8ziqsdoVnLurNdcPjT+0GNotzH6pdPzs/P+s5GDnD5e1UFIXf0n7j5Q0vU252Fm5e2vVSZg6aib++mTO+WpijtpbKX36l7MsvsBw42HDcZ8wYgq67Fp/RozvEkNUhNqud7N3lpG0pIn1rSaNZVx5eWhL6BpPYN5S4XkF4eEohbVMcDjslWZnk7N5B7u6d5OzZecyCgiqVmtCERGJSehHdoxcxKb3w9g9wS3uFk+JQsJXWOYNOnrEh9Dhqjt1HC5xbSxwKOodCj6zFc2baTbj57rvvuP7663nvvfcYNmwYb7zxBt9//z179+4lLOzY6bcWi4VRo0YRFhbGv/71L6Kjo8nMzCQgIIB+/fo165mdOdwAfLQyjWfn78ZDo2bO7SOat3rxkRx251YN695zfj78TmfIaYE38kpzJa9vep0f9/8IQKA+kJmDZnJh8oVuWfzveBRFoXbNGsq++BLjsmUNdTke8fEEXnutc8iqnexG3lx2u4O8fRWkbSkmLbWY2qrDq8qqtSpiugWS0DeEhL4h+Aa1n01K3UVRFCoK8sjZvZPcPc6wU1lYcMx1gVExxKT0rB/K6oVfaJi8UbqZoig4qi1Y8pwztax5Riz5NdjLTMe9XuWlRRfh4+zlifBBF+mDNtxb9tNqpnYTboYNG8aQIUN4++23AXA4HMTGxnL33Xfz6KOPHnP9e++9x8svv8yePXvQneaGd5093DgcCrd/uYk/dxUS6e/Jr3ePJsRwinsrKQqsfuvwZps9L4KL3wddy7yRbS7czDNrn+FAhXNvoF7BvXh06KP0D+vfIs87XZasLMq/+pqKH3/EYXTWWKh9fPC/6CICrrwCz27NXEixHXE4FArTKklLLSZ9awmVxXWNzofEGkjsG0Jiv1CZYn4KqstK6nt1dpG7ZyclWRnHXOMbHEpU9x5EdetBdPcehMQlyPTzNsJRZ3MWLtf38jRVx4MKtMFe6CK8GwKPLsIHTaCnFC8fpV2EG4vFgre3Nz/88AMXXXRRw/Hp06dTUVHBvHnzjnnNeeedR1BQEN7e3sybN4/Q0FCmTZvGI488guYEMw/MZjNm8+EVWquqqoiNje204Qag2mTlwrdXkVZSw4guwXxx01C0mtPoCdn+A/x0OzisEDscrvwCDC2z4J3VbuWr3V/x3rb3qLE66xXO73I+9w28z61r4xyPo6aGinnzKP/iSyzp6Q3HvQYOJPDKK/A9+2zUnh2vR0NRFCoKa0nfWkLGthLy0yobzUIxBOpJ6BNCQr8QYroFotG1jd639qDOWE3e3l0NvTuFaQdw2O2NrtHq9UQkdSWqW4/6jxS8fDvn97i2SLE5sBbVYi2ocX7kO391VB9/WEvloXEGniN6eXQRPqg78bBvuwg3eXl5REdHs3r1akaMGNFw/OGHH2b58uWsW7fumNekpKSQkZHBNddcw5133smBAwe48847ueeee3jyySeP+5ynnnqKp59++pjjnTncAOwvrOai2auosdi5dWwX/nVej9O7UfoK+PZaMFeCXwxc9RVE9XdpW49UUlfCW1ve4qf9P6Gg4KX14qbeNzG91/RW3238ZBSHg5o1a6j4bg7VS5ZA/ZuRxt+/vjfnyg5VgHy02ioLmTtKydhWQtau0kZr6ej0GmJ7BhHfO5j4XsH4BLSvndndzWoykX9gL3n79pC3bzd5+3Zjrqk55rrAqBiiuqU09O4ERcV0qFqwjsButBwOO/WBx1pYC/bjvzVrAvWNwo4u0gdtsFen6OXpsOGmW7dumEwm0tPTG3pqXnvtNV5++WXy8/OP+xzpuTmxBdvzueOrzQC8cnk/Lht0muvKlOx3ThUvPeCcKn7RO9D7Ehe29Fi7Snfx4voX2VzkbH+UTxQzB83krISz2kw9zpGsRUVUzp1L+Zw52PIO/1v1HjqUgCuvwHfKFNQdeCqwzWonZ085GdtKSN9WQm1l492fQ2INxPcKJr53MOGJfqhPpyexE1McDsrychuCTt7e3cdsGQGg9/EhsmtKQ+CJTO6Gh5fMymprFLuCraS+lye/tiH82CvNx3+BVn14WCvCx/n7cB/UBl2HGgpuF+HmdIalxo0bh06nY/HixQ3HFixYwHnnnYfZbMajGW8Onb3m5mgv/7GH2UsPotOo+PzGYYxIOoUF/o5UVwE/3gQH6v9uxjwIEx5vkULjQxRFYWHGQl7d+CqFtYWAsx5n5qCZDIsc1mLPPROK3Y5x5UoqvpuDcflyqN+cUePvj9/UqQRcegmePU6zF62dUBwKRVnVZO4oJXNHKUWZVY2Gr/Te2oZenbiewXjLXkCnpa66ivz9exvCTv7BfdjMjd8cVSo1IfEJRHVNIbJrdyK7dicwIkp6d9ooR60Va8GxQ1uK9ThT1HEuRKgN90EX7t0QeHTh3u12mnq7CDfgLCgeOnQob731FuAsKI6Li2PGjBnHLSj+17/+xddff01aWhrq+v98b775Ji+++CJ5eXnNeqaEm8YcDoW7v9nC/O35+HvpmHvnSJJCT3M3bIcdFj/pLDYG6HYOXPQueAe5rsHHUWer47Odn/HZjs+otdUCzlWOZw6aSfegU9huopVZ8/Op+P4HKn78EVthYcNxfc8eBFxyKf7/OB9NQID7GthKaqssZO9yBp2sXWWNppkDhMX7OoNO72DC4v1k8cDT5LDbKc5Mr+/dcQ5nVRUXHXOd3seHiKRuRCZ3IyK5G5HJ3WUaehumOBRsZabDQ1r5NdiKarGVHn/lZQC1r4cz7IQ5e3u04d7O0KNv2/U87SbcfPfdd0yfPp3333+foUOH8sYbbzBnzhz27NlDeHg4119/PdHR0Tz//PMAZGdn06tXL6ZPn87dd9/N/v37ufHGG7nnnnt4/PHHm/VMCTfHMlntXP3hWrZkVRAf7M1Pd44iyOcMflre+i38cg/YzeAfB5d/5tI9qU6ktK6U97e9z/d7v8em2FCh4vwu5zNjwAyiDdEt/vzTpdjt1KxeTcWPczEuWYJidRYYqnQ6DJMnEXDJpfiMHIGqEyzX77A7KMyoJnNHCZk7SinJbryyr6dBR2yPoIYPQ6DU6pyJ6rIS8uuDTv6B/RSlHcBmtRxznV9oeH3QcYadsMQu6PRtq8ZNNKZY7ViL6rAW1mArrMVa6OzxsVecYGiL+rV5jgg7unAfdGFebWYF5nYTbgDefvvthkX8+vfvz6xZsxg2zDmkMH78eBISEvjss88arl+zZg0zZ84kNTWV6OhobrrppiZnSx1Nws3xlRjNXPzOKrLL6hgYF8CXNw/D2+MMUnz+VpgzHcrTQa2Ds5+DobdCK4z/ZldlM2vLLBZmLARAq9ZyaddLuaXPLYT7hLf488+Erbycqt/mUzF3LubduxuOayMi8L/wQvwvmIo+KcmNLWxdNZVmsnY6e3Wyd5VhMTWeIRQY6UNcjyBiewYR1TUAnb5tfBNur+w2GyVZGRQc3Ef+/n3kH9jrrN056m1CpVYTGpdIZNduzl6ert2lWLmdcJhtWAtrnYGnoKZ+BlctjupjQy3QMFVdG3Yo8Hg7fx/a+qGnXYWb1ibh5sQOFFVzyTurqTLZGNM1hI+mD0avPYN/vKZKmHcX7P7V+XnPi+CCt8Czdf7cd5bs5PXNr7Mu31mc7qH24PLul3Nzn5sJ8QpplTacCdOuXVTM/YnKX3/FUXl412nPXr3wv2AqfuedhzY01I0tbF12u4PCtEqydpWRvbv8mFodtVZFZJI/sT2CiOsZTEiMoVPMIGlp5toaCg7up+CAM+zk7997zIrK4NwvKyKpKxHJ3YlM7k5EUlcMQadZwydanaPW6uzdKaxx1vUU1mIrrMFx1DBxAxVogjydQ1uHAk+Y89eWWpRQwk0TJNw0bVNmOdd+tI46q53z+kTw1tUD0ZzJG4SiOFcz/vPf4LBBUBe49COIbvlhqkM2FGzg7S1vN8ys8tR4cmX3K7mh9w0Ee7X9b74OiwXjX39ROe8XjCtXgq3+m41ajc/IkfhfMBXfSZNQ+3SslZBPxlRjJWdPOdm7y8jeVUb1UavCehp0xKYEEtvz0BCWDKO4gqIoVJcWk79/X30Pz14K0w8cU6wM4BMQSHiX5PqProR3ScYQ2LI1eMJ1FEXBYbQ2BB5bUa2zp6ewFqXuBKEH53R1faI/QVe4tuZRwk0TJNyc3Mr9xdz02UYsdgdXDo7lhUv7nPl0wuwN8P0/oSoH1FoY/yiMvh/UrdOtqSgKa/PXMjt1NluLtwLgpfXiqu5XcX2v69tFTw7UD1v9/jtVv/xK3datDcdVXl74Tp6M/wVT8RkxAlUnW6lWURQqi+rI3l1G1q4ycveVYz16CCvCm+jugUR3CyS6ewBeBpmF5SoOu52S7MxGvTtluTkoyrGzeAyBQYR1SSaiPuyEd0nGJyDQDa0Wp6sh9BTVB57Cw78e2mtL38Wf0Fv7uvS5Em6aIOGmeRbuyOfOrzbjUODGUYn83z96nHnAqS2D+ffDzp+cn8cOh0veh8CEM25vcymKwqq8VczeMpsdpTsA0Gv0XJx8MTf0voEoQ1SrteVMWTIzqfz1Nyp/+QVrVlbDcU1wML5nTcHv3HPxHjSoUxQiH81ud1CYXkX2rjKyd5dRlFF1dNkIwTEGYroFEp0SSFTXAPRenSsQtjSryURRZjqFafspTDtAYdoBSnOzj6nfATAEBdf37CQ1hB6ZodU+2Y0WbEV1oAZ9gms3OpZw0wQJN803Z2M2D/+wDYAbRiXwxD96nnnAURTY9h3MfxAs1eDhC+e+CP2ntUqx8eFmKKzMXckH2z5o6MnRqrSc3+V8buxzI138u7RaW86UoiiYtm6l8pdfqfr9d+wVFQ3ntKGh+J5zDn7nnotX/36dtuDTVGMlb38FuXvLydlbTlle49V8VSoIjfMlJiWQ6O6BRCZJcXJLsJjqKMpIoyjtAAX1ged4Bcvg3DsrvEtSw3BWeJdkvP1c+2Yp2hcJN02QcHNqvl6Xxb9+2g7AdcPjefqCXq5ZZ6Q8E366DbLWOD/vejb843Xwb90p24qisLFwIx9s+4C1+WsBUKFicvxkbu5zMz2De7Zqe86UYrVSs3YtVb8voHrxYhzV1Q3ntJGR+J1zDn7nnYtn794dauXSU1VbZSF3X3lD2Kksarzhp1qjIjzRj+jugcR0CyS8ix/aNjIdtqOx1NVSlJHW0LtTkHaA8vzcEwaesMQuhCV0ITShC+EJSfiGhHbqf8udiYSbJki4OXVzNmTzyNxtKApcPTSO5y7q7ZqA47DDqjdh2fNgt4DezzllfMB1rdqLc8j24u18uP1DlmYvbTg2NGIo03tNZ3T06Da5rUNTHBYLNX+vomrBAoxLluCorW04p4uJwe/cc/A9+xw8e7mgR66dM5abGoJOzt5yjGWNi2M1WjXhiX5EdQ0gqmsAEV38pWenBZlraynKONgQeAoPBZ7j8PQxEJrQhbCERELjuxCWmERQVIzskN4BSbhpgoSb0/PDphwe+mErigJXDI7h+Uv6ntksqiMV7XFOGc/d6Py8y3iYOgsC411z/1O0v3w/H23/iD8y/sCuOItSu/h34bqe1zE1aSp6TftbOM5hMmFcuZLqBQuoXroMpe5wT4U2KhK/KVPwnTwZr4EDO2WNzpEURaGq5HDYyd1bTm1V4zVA1GoVofG+RCXXh50kfzx92ueS9u2FubaG4ox0ijIOUlT/a2lO1jG7owNodDpCYuPrw04XwuK7EJqQiIenlxtaLlxFwk0TJNycvnmpucz8LhWHAuf0iuCNq/rj6aqueocd1r4Dfz0LNhPofGDCv2DY7aBxz09g+cZ8vtr9FT/u/xGj1blSbpBnEFd1v4orU64kyLN9Tml11NZiXL6cqgULMa5c2SjoaIKC8J00Cd+zpuAzbBiqDryZZ3MpikJFYS15+yvIO1BB3r4KjOVHTXtWQXC0wdmzUx94ZE+slmezWinNyaI4I81Zy5ORRnFmGpa6umMvVqkIjIgkNCGJsPhEwhKTCEvoIjO12hEJN02QcHNmFmzP595vU7HYHQxNDOLD6wfj7+XCn1hLDsAvMw7X4oT3cdbixA5x3TNOkdFi5Mf9P/LV7q/Ir3Hu6K3X6Dm/y/lcnXI1KUEpbmvbmXLU1VGzejXVfy6ieulSHFVVDefUBgOG8ePxnTIFw5jRqL1l9+hDqkrryN9fUR94KqkorD3mmoBwb6KS/YnqGkBk1wD8gqXXoDUoDgeVRYWNeniKM9Iwlpcd93qfgEBCE7oQGp9IaFwCoXEJBMqwVpsk4aYJEm7O3JqDpdz6+UaqzTZSInz5341DCfdz4QJpDgekfgmLnoC6ckAFg/4Jk58EL/f9lGVz2FiUuYj/7fwfO0t3NhwfEDaAq1OuZnLcZHSa9js0oVit1G7YQNWiRVQvXoy9uKThnEqvx2f0aHwnjMcwblynWhm5OWoqzeQfqHT27OyvoDTXeMymhYZAPRFd/J0fSf6ExBrQaNpXHVd7VltZ0dC7c+jjRIXLao2W4OgYQuISCKkPPCHxCRgCgzt9fZo7SbhpgoQb19iVV8X0T9dTXG0mOsCLT/45hO4Rvq59SE2JM+CkfuX83DsEpvwH+l0NbpzSrCgKW4q28M2eb1icuRib4lypM8QrhMu7Xc5l3S4jzDvMbe1zBcXhoG7rVqoXLaZ60SKs2dmNznv26YNhwnh8J0xAn5Ii3/CPYqqxUnCwsmEoqyizGsXR+FutVqcmLMGPiCR/IutDj6eh/Ybj9shqMlGclUFRRholWekUZ2ZQkp1x/GEtnMXLIfEJhMYlEhIXT2hcIsGxcVLL00ok3DRBwo3rZJfVcv0n60kvqcGg1/LW1QOYkNICb+oZq5yL/xXvcX4eNQDOeRHihrn+WaeoqLaIH/b9wPf7vqekztnToVVpmRw/mSu7X8mg8EHt/o1fURTMe/dS/ddfGJcuw7R9e6Pz2shIDOPH4Tt+PN7Dh6PWt7+C65ZmNdspyqgiP62SgrRKCg5WYj7Onj2BEd4NPTsRXfwJDPeW/bFamaIoVBUXUZKd4Qw7WRkUZ2VQnp+L4jh2xWWAgPBIQuLiCYlLJLT+14CICNSttAJ7ZyHhpgkSblyrvMbCHV9tYm1aGWoV/Pv8ntwwKsH1b+g2C6x7F5a/7Fz8D6D3ZTDlafCPce2zToPVbmVJ1hK+2fNNwx5WAAl+CVzW7TKmJk1ttwXIR7MWFWFcvhzjsuXUrF7dqCBZ5eWFz8iRMnx1EopDoaKolvyDzqBTkFZJecGxdTt6H23DUFZkF3/CEvxkCrqb2CwWSnOzG8JOSf1HTUX5ca/XeugJjokjND6BkNgEZ/iJjcfbP6Dd/8DjLhJumiDhxvUsNgf/9/MOvtvoHLqYNiyOp6b2wkPbAkNHxiL46xnY/AWggNYLRt8HI+8Bj7ZR8LqnbA/f7vmW39N/p87mfOPXqrVMipvEpV0vZVjksHa3Zs6JOEwmateto3rpUozLlmMrKGh03rNnT3zGjMEwZjRe/fqh0smwy4mYjFYK0p1hJ/9gJUUZVdisjXsKVGoVQVE+hCf6EZ7g/AiM9HHNulPitNRWVTYEnYbQk52FzXLsRqIAngZfgmPiCImNIzgmjuCYeEJi42S7iWaQcNMECTctQ1EUPlqZzn8X7EZRYGBcAO9cM4gI/xbaiTkvFRY+BlmrnZ8bImD8I84FANtIUW+NtYbf03/nx30/NipAjjHEcEnXS7go+SJCvTtOz4aiKJh376Z62bLjDl+pDQZ8RozAZ+wYDKNHo4uMdFNL2we73UFpjtHZu1M/lHXMFHRAp9cQFu9bH3icvTuGQBkadCeHw05lYUFD2DlUy1NRWHDcAmYAL18/gmPrw05MXP3v42TLiSNIuGmChJuW9deeQu77NpUqk40QgwdvXT2QEUnBLfMwRXFuwrn4Saio3zgyOBkm/h/0vNAtqxyfyJ6yPfyw7wfmp81vWDNHo9IwJnoMU5OmMj52PB6ajrUuiq2khJpVqzCu/Juav/9utOcVgL5rMj6jx2AYOwavQYNQy5o6J2UsN1OUUUVhRiWF6VUUZVZjNR+7iJ1PgN7Zs1PfwxMa74uHp0xtdjerxUxZbg6lOVmUZmdSkpNFaU4WlUWFJww93v4B9T089b090c7g4+Xb+d6/JNw0QcJNy8ssreH2LzezO78KjVrFo+ekcPOYxJYbZ7aZYeOnsOIlqC11Hosa6KzHSRzbMs88TXW2Ov7M+JMf9//IlqItDcf9PPw4N/FcLki6gD4hfTrcmLxit2PauRPjypXUrPybum3bnFP+66m8vPAZNgyfMaPxGTESj8QWqNvqgBwOhfL8Ggozqpwf6VWU5RqPeZ9UqSAw0udw4En0IyjSB7VMRW8TrGYTZbk5lGRnOoNPThYl2VlUFRee8DWHQk9QdCzB0TH1v8biExjUYf/vSLhpgoSb1lFnsfP4T9uZu8W5H8zkHuG8fFlfAn1a8KdzUxWseRtWvw3W+l2fu0xwrnQcO7Tlnnua0irS+OXgL/ya9itFtUUNxxP8Ergg6QKmJk0lwifCjS1sObbycmrXrMG48m+Mf69stKYOgDYiwjmENWI43sOHowtr31PrW5PVbKc4q5rC9PoenoyqY/bKAudU9OAYA2FxvoTG+xIa50dQpLcEnjbEYqqjLCe7oYfnUG9PdUnxCV/j4eVNUHQMwdGxBB36iIohIDwCdTvfWkXCTRMk3LQeRVH4cm0mz/y2G4vdQYSfJ69f2b/lhqkOMRbB8pdg06fgqJ9umzQJxj/aJkOO3WFnfcF6fjn4C4szF2OymwDn7uRDI4cytctUJsVNwuBhcHNLW8ahqebGFSup+ftv6rZsQbFaG12j75qM9/AR+IwYgffQIWgMHfPPoqXUVJqdw1j1PTxFGVVYTMcOZx0deMLi/QiMkMDT1ljqainNyaY0N5uy3GzK8nIoy82moqAARTn+dHWNVktARJQz9MQ4A48z+ESj07dQbaSLSbhpgoSb1rczr5K7v9lCWnENKhXMmJDMvZO6om3pb5hl6bDyVUj9Guo3wHSGnMfcup1DU2qsNfyZ8Se/pv3KhoINDcc91B6MjRnLuYnnMjZmLJ7a9vHN6HQ46uqo3byZ2jVrqFm9BtPu3Y3rETQavPr2xWfEcHxGjHDOwpJ6nVOiOBQqi+soyqqiOLOaosxqirOrsZ408PgRFu8rgaeNslmtVOTnUpaXUx98nL+W5+WecPYWKhV+IWH1vT31gScyhsCo6DY3bV3CTRMk3LhHrcXG07/sapguPjAugFev6E9iiE/LP7wsHVa+AqnfHA45yZNhzIMQP6Lln3+aco25/HrwV35P/530yvSG495abybGTeTcxHMZETUCnbptzA5rKbbycmrXradmzRpq1q7BmpnV6LzKywvvwYPxHjoEnyFD8OzVS6acn4aGwJNZRVFWNcXNCTzxfoTG+RIW70tAhLdsJ9FGKQ4HVSXFlOXW9/bU9/SU5uZgqq464ev0Pj4ERkYTFBlNYFQMQVHOXwMjotC64QcKCTdNkHDjXr9uzeNfc7dTbbbhqVPzyDkpTB+R0DrrdBwv5MQOh9EzoetZbt3SoSmKorCvfB+/p//OwvSF5NXkNZzz1/szJX4K5yWex8CwgWg6wYqolpxcatc6e3Vq1q7FXtZ4Q0SVtzfeAwbgPXQo3kOG4NW7l/TsnKZDiw0WZ1UfDjxZx5+hpdGqCYryISTWQEiMr/PXaAMeXjJLqy2rrap0Dm3l5hwxzJVLVUnRCWdwNfT2REUTGBlNYFR0Q2+Pb3BIi/X2SLhpgoQb98spr+WRH7ex6oBzZtOwxCBeubwfsUGttAhfWRr8/Tps/RbsFuex0B7OxQB7X9pm1sk5HkVR2Fq8lQXpC/gj4w9KTaUN50K8QpgUN4nJ8ZMZHD4Yrbrjv6koDgfm/fupXbeOmvXrqduwEXtlZaNrVF5eeA/oj/eQIXgPHYpnnz4y7fwMNAo89WHnRIEHwC/Ui9AYQ6PQ4xOgb1PDHeJYVouZioJ8yvNyKM/Poywvh/K8XMryczDX1JzwdVq9nsDIaKK69WDyTXe4tE0Sbpog4aZtcDgUvlqXyX9/30Od1Y63h4bHzuvBNUPjWm+11ap8WPuOcxr5oS0d/GNhxAwYeB14tMKQ2RmwOWxsKNjAwoyFLMpcRPWhrwEI0AcwIXYCk+MnMzxyeIdbQ+dEGsLO+g3Url9P7YYNx6yvo9Lr8RowAO8hg/EZOhTPvn1lP6wzpDgUqkrrKMk2UpJjpCS7mpIc43EXHQTw9NHVhx0DIbG+hMQYpI6nnVAUhbqqSufQVl4u5fnOj7K8XCoL83HYnSE3pkdvrnzqBZc+W8JNEyTctC1ZpbU8+MNW1qc7hxYGxQfy34v7uH6H8abUVcDGj2Htu1BTP8XS0x8GToeht0JAbOu15TRZ7VbW5q9lcdZi/sr6iwpzRcM5g87A2JixTImfwqjoUXhpO88OxorDgfnAAWo3bHAGng0bjh3G0unw7NMH74ED8Bo4EK8BA9AGBrqpxR1LndFSH3aMlORUU5JtpLyg9pgd0uH4w1rB0Qb0MqzVbthtNiqLCinPz0Gj1ZHQb6BL7y/hpgkSbtoeh0Ph8zUZvPzHXmosdrRqFbeN68LdE7viqWvFGhJrnXNm1eq3oLy+gFelgR7/gGF3QNzwNrXq8YnYHDY2FW5iceZilmQtobju8JoYXlovRkePZkLsBMZEjyHAM8B9DXUDRVGwHDxI7YYN1KxfT+2GjdhLSo65zqNLF7wHDcRrwEC8Bw5AFx8vwyguYrPaKcurOSb0nGhYyxCkJzjaQHCUgeBoH4KjDQSEe6Npib3rRJsm4aYJEm7arryKOp76ZSd/7nKuyhkX5M2zF/VmbLdW3n/JYYf9fzqHrNJXHD4e2R+G3wG9LgFt+xjmcSgOthVvY1HmIhZnLm5UjKxWqRkQNoDxMeMZHzueBP8E9zXUTRRFwZqVRe2mzdRt2Uztps1Y0tKOuU4THFzfszMI74ED8OzRQ4qUXeh4w1rF2UZqKo4/rKVWqwiI8CY4yoegaEN9+PHBN9hTQmgHJuGmCRJu2r4/dhbw1C87ya90LmZ3bu8I/nVej9YrOD5S4U7ncNW2OWCv/0brEwYDr4dB0yEgrvXbdJoURWFX2S6WZC5hec5y9pXva3Q+wS+B8bHOoNMvtF+nKEg+Hlt5OXVbtlC3eTO1m7dg2r79mEUFVZ6eePXpUz+M1R+vfv1kKKsFmGqslOUZKc2toTSvhrJcI6W5xuMuQAig89QcDjxRzsATHG3A09B2JwmI5pNw0wQJN+2D0Wzj1T/38vmaTOwOBQ+tmtvGduGO8Ul4e7jhTbem1Lni8YaPoDq//qDKOYV88I3QdQq0s2nYucZclmUvY3n2cjYUbsB2aDVnnFPMx0aPZVzsOEZFjeqwqyP/f3v3Hd1WmeeP/61ebUm2LMmW5RqXNDtOTEwIC8ySpQy7DMwsJRsgw8wuXxjqsEvbXdqZ7xDazjAQFlhOfsN3DwwJMEPL0JKQBAKpTpzmxI57kWW5yerF0vP740qyFduKQxzLkj+vc+65su6V/DxOIr/z1KkI+XzwHj/OhZ3ag/AcOjRukDIAiPLyIKuogKyyErLKCkjLy6l15zxgjME55MNAOOgMdLswaObG8oSCk20+KY627mSGW3rUBjlE4uT6NzvXUbiJg8JNcmmwOPD0p8fxfTM35dmQLsVjPy7HtZU5iWl+DgaAhs+AA/8f0LJj9Pn0XGDZz7lZVmnJtx+U0+/Ed+bvsKNzB77p+gZ2/+jCXkKeEJW6SlxsvBgXGy9GmaZsTjf9M8bgb22Fu7YWnoOH4DlyBP7m5nH38cRiSOfPh2xJJWSVlZBWVEJkTNDf2zkgGAzB1uvGYLeLCz1m7uwY8E78Ah6QnimFJluBDIMCmmx59DGtzTM7UbiJg8JN8mGM4av6Xvzfv9ajc9ADgFvh+LEfz8cFBRmJK9hAM9eac+gdwBOegcMTAOU/Bqpu5bZ6ECTfh+RIaAR11jquVadrJ9rsbTHXtTItVuasxMXGi7EiZwVUElVCyjmbBO12eI4chefIYXgOH4b38JEJW3cEWm1s686ixRAoZ/eSA8nO7xnBYM9o4BkMn73OwKSvUWokMaEnI1sBTbYCUgV1byUShZs4KNwkL28giA27WvHq9ia4/Vyf+6r5Ojx0ZfnMTh0/XcALnPiEa83p2D36vFIPVNwEVN0CZJUlrnznqNPRie+6v8Ou7l3YZ9kHz4gneo3P42OxdnG0VWdB5gLweTSLJTJQ2XP4MDyHj3CB5+RJYGQk9kYeD5J58yBdvBjSRQshW7QIkrIyWndnBngcfgxZXBjscWOwx4WhHhcGe1xwD/snfY0sXYyMbHk49CiioUeWJqIWuRlA4SYOCjfJz2r34qVtp7BpfyeCIQYeD/hpVS4evKIURnWC13DprQcOvQ0c2QS4x0wxNi4DlqzhVkCWqRNWvHPlD/pR21uL77q/w3fm79Bka4q5rpFocGHOhViRvQI12TXIUeYkqKSzT8jrhbf+REzrTsBsHn+jUAhJaQlkCxdBunAhpIsWQVpaQuN3ZojXFcCQxR0NO0M9LgxaXHAOTrLxJLhFCcd2a2VkK6A2yKFUS8CbqUVJ5wAKN3FQuEkdzX1O/NdXDfjsqAUAIBbyceuF+fg/lxZBl5bgXbNH/Nx08ro/Aae+BCKDdQUSbt2cyn8Cii5Lym6rsXqcPfjOzLXq7OnZA1cgdln2vLQ81GTX4MLsC7HcsHzOratzJiN9ffAcOcINWD52DN6jxxAcGhp3H08kgqSsLNq6I120CJLiYtogdAb5vSPjQ0+PC/YBLzDJb1GhmA+1Xg6NXg61Xg61QQ6NXgG1Xg6RhAYzny0KN3FQuEk9hzqG8NwXJ7GnhRv3IhXxcUtNPu6YDSEHAJxWbip53TuAtX70ebkWWHg9sPgGwLQ8KRYIjCcQCuCw9TD29OzBnp49ONZ/DEE2OmWXBx7KM8pxYc6FuNBwIar0VXNqteSpYIxhpKeHCzrHjsN77Bi8x4+P2y8L4AYsS+aXcy08i7hWHklxEXjC5A7MySbgD8JmCXdtWVwYCndz2fs8CE2wEnOEUiMZDT4GRfhMrT3xULiJg8JNamKM4ZtT/fj9lkbUddoAABIhH7fMlpYcgNtht6eOa8059mfAPbrpJdR5wKJ/5IKOfkHCijidnH4nDvQewN6evdjTs2dcF5aIL8IS3ZJoq87CzIUQzeJNSxOFMYZAdzcXdI4dg+fYcXiPH0fI4Rh3L08shqS0FNL55ZDMnw9p+XxIy0rBV9Cg5ZkWDIbg6PdygafXDVuvGzaLG0O97riDmSOtPaPBh2vtUelkEEvndnClcBMHhZvUFgk5L21txKEOGwAu5PxTTR7uuKQI2apZ0lIQDAAtO4Gj7wMnNwN+5+g13UJg8c+48TmagoQVcbr1ufuw17I3GnYsLkvMdalAikpdJar11ajWV2Nx1mJIBDSwdiIsFEKgszO2hae+HqGJdmvm8SDOz4dkfjmk8xdAOr8c0vJyCLNmeOVvEuV1BsKBx4UhCxd8hizuM7b2yFViqHVyqHSy2HOWDMI5sGYPhZs4KNzMDYwxfBsOOQfDIUck4OEnS4z4P5cUoUSfwNlVp/O7gcYvgKMfcON0QmP+V5e9BFjwE+7ILE5YEacbYwwdjg7sMe/BXste1PbWYtAbu6GlmC/G4qzFXNgxVKMyq5K6seJgoRACXV3w1p+A9+QJ+E6chPfECYxYrRPeL8jSci075eWQLpgPSXk5xPn54PFptlui/NDWHoDr5lLp5FDrZFDr5dHH6VpZyuzDReEmDgo3c0sk5Ly6vQl7W0d/eV5ersOdlxWjOl8zu6ZweoaA+k+4Fp327wAWGr2mX8SFnPnXArryxJXxPGCMoWW4BQcsB3Cglzv6PbEbWgr5QizKXIRqA9eyU6WrglyUgC05kszIwAC8J07Cd/JEOPichL+1lesmPQ1PLoe0rIzr1iotg6S0FJLSEgiUc3eF6tnC6wpg2OqBzerGsNUNm9UTPfs9I5O+jscD0jKl4Zae2Faf9Ewp+ILkCT4UbuKgcDN3HeoYwhs7W/BlvSX6ub40T407LinG3y3QQzDbBvE5rVyXVf0n3AaeYwbnQlsWbtG5lgs9symgTQPGGNrt7dGgc8ByAL3u3ph7BDwBSjWlqNJVoUpXhSW6JTAokm916EQIud3wNTbCe/JkNPD4GhrAfBNPdxbl5ISDTikkZaWQlpZCXFBAs7VmAcYYvM7AmLDjhq3Xg+E+LviMTLLbOsBtQKrMlEKVJYNKK0N6lox7nMU9nm3bU1C4iYPCDWnpc+LNb1vx54Nd8I9wLSOmDBluvTAfN1XnQSWfhR/Y7kFu24f6j4Hm7bFdV5oCoOzHQNnVQN4KIAUH5TLG0OXsirbs1PbWotvZPe4+g8KAqqwqVOoqUaWrQqmmdM5uAHq22MgI/G1t8Ia7s3yNjfA1Nk7arcUTiSAuKoq27kjD4UdoMMyu1tA5jDEGt93PhZ7eSKtP+NznQTAQivt6uUo8LvhEzlLFzC9cSOEmDgo3JMLq8OL/fd+Gd/Z2wObmwoJMJMB1VUb8/KKCxK56HI/HBjR+yQWdpq2ju5UDgFQFzPs7LujMW5XUCwaeicVlQZ21Doesh1DXV4eGwYaYqecAIBPKUKGtwBLdElTpqlCRVYE08Sz9c52lgjYbvI2N8DWeigYe36lTEw9eBsBPT48JO5LSUkhKSiBIo5/7bMJCDK5hH4b7PNHDHjn3e+BzT97VBQBiqWBMS488Jvgo1BLwz0NLeNKFm1dffRUvvPACLBYLKisr8corr2D58uVnfN3GjRuxevVq/OQnP8FHH300pe9F4YaczhsI4uO6brz1fTtO9IxuGLmiKBNrLyrAqvk6CGdrv7TPCbRsBxo+5wYlj51ezhcC+Su5oFN2dUrNvJqIO+DG0f6j0bBzxHoEjkDsdGkeeJinmYfKrEpUaCuwSLsIRaoiCJJsR/dE46anm0fDTmMjfKca4WttG7/FRJgwOxuS4mJIioshnlcMSfE8SIqLIFDR3mSzkdcViAk8w33u6NeuOFtUAABfyIOxRI1r76+a1jIlVbjZtGkTbrvtNrz++uuoqanBSy+9hPfffx8NDQ3Q6XSTvq6trQ0XX3wxioqKkJGRQeGGnDPGGPa1DuL/7W7Dl8d7EQxPydSnS3BjtQk3VptgypjFA1hDQaBrPxd0Gj4H+htir2fNB0r+jmvRybsQEKb2NOsQC6HJ1oQ6a120hafL2TXuPoVIgYWZC7FIuygaePQKfQJKnPxCfj/8ra3wNTRwY3rCLT4jFsukrxFmZY2GnXmR8DMPQo1mBktOzkbAH4S9f0xLT58Hw/0eDFs9cAx4EQoxmOZr5na4qampwQUXXID169cDAEKhEEwmE+699148+uijE74mGAzikksuwS9+8Qt8++23sNlsk4Ybn88H35hBcna7HSaTicINicts8+DtPe3YuL8Tgy7ufyk8HnDxPC1WL8/Dqvl6iGf79MqB5tEWnfbvYwckixRA4SXAvMu5sJNRmLhyzqB+Tz/qrHU40n8ER/uO4vjA8ZiNQCN0cl006FRkVWBB5gIoRLQQ3g8VHB6Gr7kFvuYm+Jua4WvmjpGenklfI8jIGG3lKSqGZF4xxMXFEGZl0ZieWSwUDME55ENwJASNYXr/zSRNuPH7/ZDL5fjggw9w3XXXRZ9fu3YtbDYbPv744wlf9+STT+LIkSP48MMP8fOf/zxuuHnqqafw9NNPj3uewg2ZCt9IEFvqe7FxXyd2NY1OTdYqxfjZ0lzcdIEJRVlJME3WPQg0fw00bePG6bhOGySaOY8LOfNWcV1Z4lncQjWNgqEgmoebcbTvKI72c0eTrQkhFjvQks/jo0hVhMXaxVictRgLMhegVF1KKyqfo6DTCX9LC3xNzVzwaW6Br7kZga6uCaeqA+ExPcWjYUdSWAhxYSFERiN4AupeTGVJE27MZjOMRiO+//57rFixIvr8ww8/jJ07d2Lv3r3jXrNr1y7cfPPNqKurg1arPWO4oZYbMl3aB1zYtL8T79d2oc8x+ndqWb4GP11qxN8vzpmdM61OFwoBvUe5kNO0DejcO7qxJ8Bt7lmwktvYs/BSwFABzKGF3dwBN+oH6nGs/xjXwtN/dNxqygC37k6JugQLMhdEjxJNCa2qPA1CHg/XvdXcPBp8mprh7+jg/v5OgCcSQZSfx4WdAi7wiAsLICkshECtntkKkPMiZcONw+FARUUF/vu//xtXX301AJwx3JyOxtyQcxUIhvD1SSs27uvAzsY+RFZLFwv4uHy+DtdXGXFZmW72d1tFeIe5dXSatgKntgL208alyDRAwd8ARZcChZdxKyXPsW6BPncfjvYfxbH+YzjafxT1A/Ww++3j7hPyhJinmYcFmQswP2M+18KjKYVUOAv2NksBIZ8P/rZ2+JubwqGnGf7WVvjb2yddowcABBpNTNgRRw6TidbqSSJJE27Otluqrq4OVVVVEIxpegyFUzyfz0dDQwOKi+MvUU/hhkynXrsXH9d14y8Hu3HSMjozRyMX4drKHFy/NBeVuarkGSPAGNDfyLXotO4E2nbF7nsFAOlGrkWn6FLunJ6dmLImEGMMZpcZ9QP1MYfNZxt3r4AnQLG6OBp2FmQuQFlGGW0lMY1YKISAuYcLOq2t8Le1wtfaCn9rW9zBzBAIIM7NHQ07Y8KPIDMzef7dzhFJE24AbkDx8uXL8corrwDgwkpeXh7uueeecQOKvV4vmppidxb+z//8TzgcDvzhD39AaWkpxGJx3O9H4YacL/VmOz481IWP6swx3VYFmXJcU5GNaxbnYH52WnJ9YAYDgPkQt8ln606uCyt42jRQbSkXcgpWAnkXAWlzc6YRYwwWlwX1A/U4PnAc9YP1ODFwYtyeWQA3hicvLQ9lGWUo05ShLKMMpZpS6OX65Pr7kQRCbjf8bW3RsBMJQL62NjC3e9LX8dPTIc7PhzgvD+L8PIjy8iDOy4e4IB8CzSzbtmWOSKpws2nTJqxduxZvvPEGli9fjpdeegnvvfceTp48Cb1ej9tuuw1GoxHr1q2b8PXULUVmm5FgCN81D+AvB7vw5XELvGNWAS3KUuDvF2fj7ytzUDqbNu+cKr8b6NwzGnbMdQBO+wjJnMcNSs5fCeRfBKhNiSjprMAYQ6+7d1wLz4B3YML7VRJVNOxEzkWqIogF8f/TRs4eYwwjVuto2BkTfgLd3ZMOaAYAvlIJcV4eRPnhwJOXB3EBdxZotRR8zpOkCjcAsH79+ugifkuWLMHLL7+MmpoaAMBll12GgoICvPXWWxO+lsINmc1cvhFsO2nFX4+Ysb2hL7rdAwCU6JT4+4ocXFORjXm6JJhxNRHPENd11foN0L4b6D2GcWFHlceFnPyLuMAzB8fsnK7f04+GwQY0DDVw58EGtNnbxq2wDHDjeArVhVzY0ZShNKMUZZoyZMoyE1DyuSHk88Hf3o5ARwf87R3wd3TA394Of0c7RnoscYMPTy7nwk64xUecn8+1+uTnc9PY59Dg/OmWdOFmJlG4IYni8Aaw7YQVm4+YsbOxD4Hg6D+9eTolrligx5ULDVhsVJ2XpctnhGcI6NjL7Wje/j3XpXX6L2yFbjTs5F4AGBan5H5YZ8sX9KHJ1oTGwcaY0HP6KssRWpkWpZpSzFPPix7F6mLaKf08C/l8CHR1cWGnvQP+jnYEwgEoYDZPOpsLAHhSKcQmE8QF4cBjyoPIlAuxyQRRdjYNbj4DCjdxULghs8GwJ4At9b3YfMSMXaf6MRIa/WdoSJfi7xboccVCPWoKM5Nn1tVEfE6gax8XdNq/B7oOxO6FBQBCGWBcBpguAEw1QO5yQEGtEgDXddLj6om28jQONaJhsAEdjo5JX2NUGkcDj2YeStQlKFAV0BT1GRDy+xHo6uYCT0cHN7OrIxx8uruB4OQ7dIPPh8hggMhkgijXyAUeYy7EplyITCYIMjLmfHcXhZs4KNyQ2WbYE8COBiu+Ot6LHQ1WuPyjH4BpUiH+tlyHKxYYcGlZFpSSJN/hOuAFzAeBtu+4wcld+7ip6KfLKOaCTiTwZJUDtP9TlDvgRuNQI5psTaPHUNOkY3kiA5hLNCXRFp4SdQlM6SaI+NRaMBNYIICA2TymxSfc6tPVjUBXV9yp7ADAk8kgzs2FKDeXa+3JNUGUGw4/RiP48tRvsaNwEweFGzKbeQNB7G4ewFf1Fmyp70W/c3RmkkjAwwUFGfhRmQ4/Ks9CcZYy+f8nFwpxU8+79nFhp3P/+D2xAECSHm7dqeHOxqWAQjvz5Z3lBr2DaLY1R8NOk60Jp2yn4PBP3LUl4otQqCpEsboYRaqi6JGXnkeDmGcQC4Uw0t+PQFcX1+XV2YlAZ/hxVxdGenvjjvMBAIFWC7HRyLX8mHLDQcgEca4RQoMhJVZvpnATB4UbkiyCIYa6ziF8dbwXX9X3orXfFXM9VyPDZWVZ+FGZDiuKMyEXJ3mrToR7EOiuDYedvUD3wfFr7QCAOg/IWcoFHeMyILsSkCThDLTzjDGGPk8fmoa4oNNka4oGoIn21QK4tXly03JRmF6IQnUhilRFKFRx5zQx/YxnWsjvR6C7O9zK0wl/VxcCnV3wd3EhKOSYOLxGiUQQ6fUQ5eRAZDRy55wciIzhs8EA3hmWUZkNKNzEQeGGJKvWfhd2NFixvaEPe1oGYmZeiYV8XFiUiR+VZeHS0iwUahXJ36oTERwBrPXh1p39XLdWf+MEN/KArDIu6ORUcaFHvyjldz//oUIsBLPTHO3Wah1uRetwK1qGW+AKuCZ9nVamjYadSOApVBXSGj0JFBwejgaeQHe45aerG4HOTvjNZiAQiP8GPB6EWVnjQ8+Yg69I/MaxFG7ioHBDUoHbP4LdzQPY3mDF9pN96LbF/g/cqJZh5bxMrJynxcp5WmiVKfYL3jvMrbFjPsi18nQfGr9tBAAIxFzAMS7lAo+hghu/I5z9/0tNlEhLT8twCxd2bC1otbei1dYKq8c66evkQnlM2ClQFSA/PR95aXm0/UQCsWAQI1YrAmYzd3RHzt3cuacHzOs94/sIVCoIx4QesdEI4ZjwI1Crz3u4pXATB4UbkmoYY2juc2L7yT5sb7DiQNsQ/MHY6ajlhjT8TQkXdJYXZqROF9ZYjt5w2Dk4Gno8Q+PvE4gB3XyuG8tQAWQvAfQL58xO6OfC4XegbbhtNPiEz52OzgnX6IkwKAzIT8vnwk56HgrSC5CXnodcZS7trJ5gjDEEBwdjg89pR8g+fh+10/HkcohysqNhR1Jaiox/+qdpLSuFmzgo3JBU5/EHsa9tEN819WPXqX7U98R+MIkEPCzN0+DieVqsKM5ERa46uaebT4YxYKhtNPD0HAZ6jgC+CWZn8fhAZgkXeLIrwsFnMbdpKDmjQDCATkdnTOjpsHeg1d466WBmgBvbY1QaYwJPfjoXggxyAwQ0Q25WCDqd4eDTPWH4Cfb1j3uNtLIChZs2TWs5KNzEQeGGzDUDTh++ax7Ad6f6saupf1wXllTEx9I8DWoKM1FTlIElJjWkohT9pRIJPJYjo2Gn5zDgmqS7RZ3PhR1DJde6o1/IDWSmsSVTwhiDzWdDu7193NHh6Jh0QDMAiPlimNJM0bATafUxpZmgk+vA56VgIE9SIZ8PIz093FT3cHeXUKtFxpo10/p9KNzEQeGGzGWMMbQPuPFtUz++O9WPfW2DGHTFboQpFvJRZVKjpigTFxZmoCpPA5k4RcNOhMPCBR3L4dHQY2uf+F5xGqBfMBp2dAu5r6WqmS1zkmOMweq2osPRgTZ7G9qH29Hu4IJPp6MTI6GRSV8r5othTDPClGaCKc2EXGVu9LExzUgLFqYoCjdxULghZFQoxNDU58TelgHsaR3E3pZB9DtjFxMTCXiozFVjeWEGluVrsDRPA41iDgzI9QwBlqPh0HME6K3n1uA5fVf0CFXe+NCTOQ8QpOD4pvNsJDSCHlcPOuzh4BNp7bF3oMfVE3d8DwDo5Lpo2Dk9AKkkKprVlaQo3MRB4YaQyTHG0NLvwt6WQextHcDelkFY7ONnUhRnKbAsXxM9irTK5N0P62wEA8BAE9B7PPaYaKYWAAgk3PR0/UJuEHNWOfe1Kg+gDRR/kEjw6XR0osvRhS5HFzodndHDPeKO+/o0URpy03KRm5YbG37ScqGX6yHkUxidrSjcxEHhhpCpY4yhY9CNvS2DONA+iNr2ITT3jV8DRS0XYWmeJtqyU2lSpeaMrMl4hgDridjAY62fePFBABDJAW0JkDWfCzuR0KMpoG0mzgFjDEO+oWjQiQSfyLnP0xf39QKeAHq5HjnKHOQoc2BUGqNno9IInVxH4SeBKNzEQeGGkHMz6PLjUMcQatu543CXDd5A7NRzAZ+H+dlpWGJSozJXjUqTGsVZSgjmQutORCgEDHeMhp2+k0BfA7cA4WRdW0JpOPSUjwk95YCmkLq3poFnxINuR/do+HGOhp9uZzcCofiL3Ql4AhgUBi78KEbDT44yB7nKXGTJsyj8nEcUbuKgcEPI9AoEQ6g327mw0zGE2rahCbuyFGIBFueqomGnIlcFo1o298Y/BEe4GVt9J0cDT98JoP8UMDLJYmoCMTdVPauUO2tLuPE82hLacmKahFgI/Z5+mJ1mdDu7Y85mlxlmp/mM4UfIE0Kv0MeEHqPSGA1CFH7ODYWbOCjcEHL+mW0eHOwYwpGuYdR12nCsexhu//hBoFqlGJW5alTkqlFp4oLPnBisPJFQkJuh1dfAdXH1NXDhp78RCMQZR6I0xIadzBJAO4+bxk5dXNMmxELoc/fB7BoTek4LQPFmeAHc7uw6uQ4GuQHZimwYlIbRxwruTAOeJ0fhJg4KN4TMvGCIocnqxOFOG+q6bDjSZcPJHgdGQuM/foxqGRbkpGNRjgoLc9KxyKiCPl0ydz/wI91b1nDQGTgF9DdxZ1ecMSQCCZBRxAWdaGtPOPjQ4oTTLhgKos/TNy7wRB73OHswwuKHHwCQCWXQy/XIVmQjW5kNg9zABZ8xj+fqdhYUbuKgcEPI7OANBFHfY8fhThsOd9pwpGsYLf0Tb9iYqRBjoZELOwvDwScvQz43ZmjF47Fxs7f6T4VDzynu64FmIOib/HVyLZBZzIWf6FHInSn4nBfBUBAD3gFYXBb0uHpgcVliHve4ejDoHZzSe2VIM8YHIGW4BUhugFamTcnVnSncxEHhhpDZy+4NoN5sx7HuYdSb7ThutuOU1YEJGniglAixIBx2FuaoUG5IwzydMnVXVz4boSAw3DnawhMNP02Awxz/tTLNaaFnzCHPpNWZzyNf0IdeVy96XD2TBqB4qzpH8Hl8aGVa6OV66OS66Fkn18GgMEQfy4SyGajV9KFwEweFG0KSizcQxEmLA8e6h3HcbMdx8zBOWhzwj4TG3Svg81CoVaDMkIb5hjSUG9JRZkhDrmYODlyejM8JDDYDgy1jjlbu7OiJ/1pJ+mgLz+mHUk/B5zxjjMHut48LPD2unmgosrqtZ1zkMCJdnB4NP3rFaADSy/XRQKSWnP/dvqeKwk0cFG4ISX6BYAhNVieOh1t5TvTYcdLiwLBn4tksaRIhygxpKDOkoTw7HeXhx+lS2pE6ht/FzeSKCT7h8DPcBSDOrwuhjNt3S5PPDWbWFIx5nE/bU8yQYCiIQe8get296HX3wuq2otfFna1ua/T5qbQAAdxWF9HQo9CPaw3Sy/XQyrQzsrs7hZs4KNwQkpoYY+i1+3DCYkeDxYGT4cDT3OdEIDjxx5xRLUOZIQ0lOiXm6ZQo0XNdW0oJTdcdJ+DlZnONCz4tgK0DYONb0mJI1eMDj7qAe05tAoS0H9RMYYzBEXDA6ooNPJHHkSA01TFAADcOSCfXIUuWBZ1ch2J1MW5dcOu0lpvCTRwUbgiZW/wjIbT0O9FgceBEjwMNFi709AxPsqYMgByVFPP0XOgp0SlRoldiXlYaVHJq6ZlQMMCN8Rlq5wLQUNuYx+2Au/8Mb8AD0rLHt/qoTFzwSTcCM9AyQGL5g/5xgcfissS0AvV5+iacAl+ZVYm3f/z2tJaHwk0cFG4IIQAw7A7gpMWORqsTTb0OnLI6ccrqRJ9j8llGujQJSvRKlOi4Fp4SnRJFWUpoleJZMy5hVvI5R4NO5DzUNvo4MPEsuVHh8KM2Aarc0dCjMo0+psUMEyLEQrD5bOhz98HqtqLPw50zpBm4sezGaf1eFG7ioHBDCInH5vajKRx0TvU6ccrqQJPVGbelJ00qRFGWEkVaBXdkKVGoVaBQq4BMTLO34mIMcA+EA09rbAiydXJjfeJNa4+QqrgNSVW5Y4JPLjcOSJULKHS0WWmSo3ATB4UbQsgP4fAGoqGnyerEqXBrT7fNg3ifojkqKRd8sriwEwlBOWrZ3Npr64cKhbhuLVsn1/U13DkaeoY7uMde25nfRyDmurciwSfdCKTnjDnncNPgqQVu1qJwEweFG0LIdPIGgmgfcKOlz4mWfhda+lxo6Xeipc816ewtABAL+SjM5AJPgVaB/Ex5+FAgO11KCxSeDZ8jHHa6uMHNw+HwEwlEjp4zD3gGuN3aI0FnbOhJzx19Tp5BAShBKNzEQeGGEDJTBl3+mNDTGg497QNu+IOT/7IVC/nIy5AjP4MLO5HgU5CpgFEjg0hA3StnJRgA7OZwAAoHHrs5fHRzZ/fA1N5LIBkNOqoJWn/SjdwK0NQFNu0o3MRB4YYQkmjBEEP3kAfN/U609rnQPuBC+6Ab7QNudA66J9xzK0LA58Golo229GQooi0+pgwZ5GKaxv6DBDxjAs+Y0GPvHn0cby+vsfgiIM0w5sie+CxVUyvQWaBwEweFG0LIbDYSDKFn2Iu2Aa6Fpz16dqN90AVvIH73SqZCjNwMOUwaGXI1cpgyZDBp5MjVyGDUyCAR0gDnH2zEx3Vx2c3AcPdpASgcipy9iLvY4VhCafzwowyHI0kahSBQuImLwg0hJFkxxmB1+NDWH2npcaFtwI2OcAiye+PvOs3jAfo0KXI1MpjGBKDccADKVkkhpC6vczPiB5wWwNHLBSGHZeLzVAZBR4gUp4WfsQFIx219ochK+QHRFG7ioHBDCElVw54AOgfd6Bpyo2vIg85BNzqHPOgacqNz0ANPIP6eQwI+D9kqKUwaOYwaGXLUMhjVUuSoucc5KhlNbZ8uAQ/XyjNZ+HFYuMNnn/p7CsTclPdI4FFmhc/6Mc/puHskyvNXt/OEwk0cFG4IIXMRYwwDLn84/HjQGQ48kSDUPeSJO8g5IlMhDocdaTj8yEbDj1oKrUJCM72mk88ZDkFjAo+jhzucVu6asxfwDp/d+4oUsYEnej7tOUXWrNkag8JNHBRuCCFkvFCIodfhjbb49Axzj8027ui2eeD2n3m3abGQjxzVmNaecOtPtkqGbJUUepUUaRIhreg83QJebsDz2MATeeyyjj529AJT3DQzSqoeDTrKLO6s0AEKbfi5yGMdIFact64xCjdxULghhJCzxxiD3TOC7nDYMQ97wo+96B5yw2zzotfhjbugYYRCLIBeJUW2SgpDugwGlQQGlQyG9PBzKiky5GJqATofGAP8znDYscaGoJhA1MedJ9g3Ki6hjAtAxmrghj9Oa9HP5vc3zRkkhBByRjweDyq5CCq5CAtyJv7FEgiGYBn2RsOP2eZFt43r8rIMe2GxezHsCcDlD3KLHfZNvqeUSMCDPl0KQzoXdrJVUujTuRagSBjSpUlozZ+zxeNxs68kaUBmcfx7QyFu4HMk+Lj6R1uHXH2jh7OPax0a8XKtQrYObiuMBKJwQwghZFqIBHxuFlaGfNJ73P6RaNAZe+4Z9qLXzp37nT4EggxdQx50DU3ehcLjcWOAdGlS6NIl0KVJoE+XQpcmgW7MOUspgVhIIeis8fnciszyDEA3P/69jAF+FxdyXP0AP7EDz6lbihBCyKwSCIZgdfhgGfagZzgcgk4LQlaHF4Hg1H99ZSjEMaFHny7hQlFMEJLQOkCzGHVLEUIISVoiAR/G8EysyYRC3Owvq8MLq90XPfdGzz702b3oC7cCDbr8GHT5cdLiiPu91XIRF3TSpMhKkyArTQKtUgytMvKYOzIUYtr4dBajcEMIISTp8Pm8aPhYmDP5faEQw5DbD6vDB6vDh167F30OH6x2L3ojocjhg9Xugz8Ygs0dgM0dQGOvM/735wEZCi74REIPBaHZg8INIYSQlMXn85CplCBTKcH87MnvY4xh2BOIBiCr3Yc+pw/9Dh/6nZHHfvQ7fRh0+xFiQL+Tu3am1qB4QShDIUGmUoxMhRgZCi4YSUXUNXauZkW4efXVV/HCCy/AYrGgsrISr7zyCpYvXz7hvW+++Sb+93//F8eOHQMALFu2DM8888yk9xNCCCFnwuPxoJaLoZaLUapPi3vvSDCEQZefCzxOP/rCAajfEQ5B4SDU5/Rh6CyDEADIxQJkRoKPIhx8wgEoUyFBhlIMbficqRBTGJpAwsPNpk2b8OCDD+L1119HTU0NXnrpJVx55ZVoaGiATqcbd/+OHTuwevVqXHTRRZBKpXjuuedwxRVX4Pjx4zAajQmoASGEkLlEKOBzg5DTpWe8d2wQ4kIQ1/oTCUSDLj8GnNx4oAEXNz7I7Q/CPehB5+DUFttTiAXICIchbbgFKBqAxgQjjVwMjUIMhViQ8osoJny2VE1NDS644AKsX78eABAKhWAymXDvvffi0UcfPePrg8EgNBoN1q9fj9tuu+2M99NsKUIIIbMRYwwO3wgGnVzQGQ09kQDkG/N4NAydLZGAB42cC0FquSh8FiNDPvp1JAhlyMVQK0SzYlXppJkt5ff7UVtbi8ceeyz6HJ/Px6pVq7B79+4pvYfb7UYgEEBGRsaE130+H3w+X/Rru/0sNiEjhBBCZgiPx0O6VIR0qQgFWsUZ748NQ34MRFqCJghDNrcfg24/vIEQAkEWHWA9VUI+122XoRBFg5BGIRoTkmKvZSjFSJeKzuXHcU4SGm76+/sRDAah1+tjntfr9Th58uSU3uORRx5BTk4OVq1aNeH1devW4emnnz7nshJCCCGzydmGIQDw+IMYcnMtPzZ3AIPucPCJfO3yY8gdPlwBDLn9cPuDGAmx6LihqViQnY7P7v+bc6neOUn4mJtz8eyzz2Ljxo3YsWMHpNKJ+z4fe+wxPPjgg9Gv7XY7TCbTTBWREEIImTVkYgFkYm5D06nyBoLR4BNpARpy+TEU81wgJiRlKMTnsRZnltBwo9VqIRAI0NvbG/N8b28vDAZD3Ne++OKLePbZZ7F161ZUVFRMep9EIoFEMju2ayeEEEKSjVQkgEElgEF15gHUEcFQYjc/SOhmG2KxGMuWLcO2bduiz4VCIWzbtg0rVqyY9HXPP/88fvOb3+CLL75AdXX1TBSVEEIIIVOU6EULE94t9eCDD2Lt2rWorq7G8uXL8dJLL8HlcuH2228HANx2220wGo1Yt24dAOC5557DE088gT/96U8oKCiAxWIBACiVSiiVyoTVgxBCCCGzQ8LDzU033YS+vj488cQTsFgsWLJkCb744ovoIOOOjg7w+aMNTK+99hr8fj/+8R//MeZ9nnzySTz11FMzWXRCCCGEzEIJX+dmptE6N4QQQkjyOZvf3wkdc0MIIYQQMt0o3BBCCCEkpVC4IYQQQkhKoXBDCCGEkJRC4YYQQgghKYXCDSGEEEJSCoUbQgghhKQUCjeEEEIISSkUbgghhBCSUijcEEIIISSlJHxvqZkW2W3CbrcnuCSEEEIImarI7+2p7Bo158KNw+EAAJhMpgSXhBBCCCFny+FwQKVSxb1nzm2cGQqFYDabkZaWBh6PN63vbbfbYTKZ0NnZOSc25aT6pjaqb2qba/UF5l6dU62+jDE4HA7k5OSAz48/qmbOtdzw+Xzk5uae1++Rnp6eEn+Rporqm9qovqltrtUXmHt1TqX6nqnFJoIGFBNCCCEkpVC4IYQQQkhKoXAzjSQSCZ588klIJJJEF2VGUH1TG9U3tc21+gJzr85zrb5jzbkBxYQQQghJbdRyQwghhJCUQuGGEEIIISmFwg0hhBBCUgqFG0IIIYSkFAo30+TVV19FQUEBpFIpampqsG/fvkQXaVqsW7cOF1xwAdLS0qDT6XDdddehoaEh5h6v14u7774bmZmZUCqV+NnPfobe3t4ElXh6Pfvss+DxeHjggQeiz6Vafbu7u3HLLbcgMzMTMpkMixcvxoEDB6LXGWN44oknkJ2dDZlMhlWrVuHUqVMJLPEPFwwG8fjjj6OwsBAymQzFxcX4zW9+E7NXTbLX95tvvsE//MM/ICcnBzweDx999FHM9anUb3BwEGvWrEF6ejrUajV++ctfwul0zmAtpi5efQOBAB555BEsXrwYCoUCOTk5uO2222A2m2PeI1Xqe7o777wTPB4PL730UszzyVTfH4rCzTTYtGkTHnzwQTz55JM4ePAgKisrceWVV8JqtSa6aOds586duPvuu7Fnzx5s2bIFgUAAV1xxBVwuV/SeX//61/j000/x/vvvY+fOnTCbzfjpT3+awFJPj/379+ONN95ARUVFzPOpVN+hoSGsXLkSIpEIn3/+Oerr6/Ff//Vf0Gg00Xuef/55vPzyy3j99dexd+9eKBQKXHnllfB6vQks+Q/z3HPP4bXXXsP69etx4sQJPPfcc3j++efxyiuvRO9J9vq6XC5UVlbi1VdfnfD6VOq3Zs0aHD9+HFu2bMHmzZvxzTff4I477pipKpyVePV1u904ePAgHn/8cRw8eBB/+ctf0NDQgGuvvTbmvlSp71gffvgh9uzZg5ycnHHXkqm+Pxgj52z58uXs7rvvjn4dDAZZTk4OW7duXQJLdX5YrVYGgO3cuZMxxpjNZmMikYi9//770XtOnDjBALDdu3cnqpjnzOFwsJKSErZlyxZ26aWXsvvvv58xlnr1feSRR9jFF1886fVQKMQMBgN74YUXos/ZbDYmkUjYu+++OxNFnFbXXHMN+8UvfhHz3E9/+lO2Zs0axljq1RcA+/DDD6NfT6V+9fX1DADbv39/9J7PP/+c8Xg81t3dPWNl/yFOr+9E9u3bxwCw9vZ2xlhq1rerq4sZjUZ27Ngxlp+fz37/+99HryVzfc8GtdycI7/fj9raWqxatSr6HJ/Px6pVq7B79+4Eluz8GB4eBgBkZGQAAGpraxEIBGLqX15ejry8vKSu/913341rrrkmpl5A6tX3k08+QXV1NW644QbodDpUVVXhzTffjF5vbW2FxWKJqa9KpUJNTU1S1veiiy7Ctm3b0NjYCAA4fPgwdu3ahauvvhpA6tX3dFOp3+7du6FWq1FdXR29Z9WqVeDz+di7d++Ml3m6DQ8Pg8fjQa1WA0i9+oZCIdx666146KGHsHDhwnHXU62+k5lzG2dOt/7+fgSDQej1+pjn9Xo9Tp48maBSnR+hUAgPPPAAVq5ciUWLFgEALBYLxGJx9IMiQq/Xw2KxJKCU527jxo04ePAg9u/fP+5aqtW3paUFr732Gh588EH8+7//O/bv34/77rsPYrEYa9eujdZpor/fyVjfRx99FHa7HeXl5RAIBAgGg/jtb3+LNWvWAEDK1fd0U6mfxWKBTqeLuS4UCpGRkZH0PwOv14tHHnkEq1evjm4kmWr1fe655yAUCnHfffdNeD3V6jsZCjdkyu6++24cO3YMu3btSnRRzpvOzk7cf//92LJlC6RSaaKLc96FQiFUV1fjmWeeAQBUVVXh2LFjeP3117F27doEl276vffee3jnnXfwpz/9CQsXLkRdXR0eeOAB5OTkpGR9yahAIIAbb7wRjDG89tpriS7OeVFbW4s//OEPOHjwIHg8XqKLk1DULXWOtFotBALBuNkyvb29MBgMCSrV9LvnnnuwefNmbN++Hbm5udHnDQYD/H4/bDZbzP3JWv/a2lpYrVYsXboUQqEQQqEQO3fuxMsvvwyhUAi9Xp9S9c3OzsaCBQtinps/fz46OjoAIFqnVPn7/dBDD+HRRx/FzTffjMWLF+PWW2/Fr3/9a6xbtw5A6tX3dFOpn8FgGDcZYmRkBIODg0n7M4gEm/b2dmzZsiXaagOkVn2//fZbWK1W5OXlRT+/2tvb8a//+q8oKCgAkFr1jYfCzTkSi8VYtmwZtm3bFn0uFAph27ZtWLFiRQJLNj0YY7jnnnvw4Ycf4uuvv0ZhYWHM9WXLlkEkEsXUv6GhAR0dHUlZ/8svvxxHjx5FXV1d9KiursaaNWuij1OpvitXrhw3tb+xsRH5+fkAgMLCQhgMhpj62u127N27Nynr63a7wefHfuwJBAKEQiEAqVff002lfitWrIDNZkNtbW30nq+//hqhUAg1NTUzXuZzFQk2p06dwtatW5GZmRlzPZXqe+utt+LIkSMxn185OTl46KGH8OWXXwJIrfrGlegRzalg48aNTCKRsLfeeovV19ezO+64g6nVamaxWBJdtHN21113MZVKxXbs2MF6enqih9vtjt5z5513sry8PPb111+zAwcOsBUrVrAVK1YksNTTa+xsKcZSq7779u1jQqGQ/fa3v2WnTp1i77zzDpPL5eztt9+O3vPss88ytVrNPv74Y3bkyBH2k5/8hBUWFjKPx5PAkv8wa9euZUajkW3evJm1trayv/zlL0yr1bKHH344ek+y19fhcLBDhw6xQ4cOMQDsd7/7HTt06FB0dtBU6nfVVVexqqoqtnfvXrZr1y5WUlLCVq9enagqxRWvvn6/n1177bUsNzeX1dXVxXyG+Xy+6HukSn0ncvpsKcaSq74/FIWbafLKK6+wvLw8JhaL2fLly9mePXsSXaRpAWDC449//GP0Ho/Hw371q18xjUbD5HI5u/7661lPT0/iCj3NTg83qVbfTz/9lC1atIhJJBJWXl7O/ud//ifmeigUYo8//jjT6/VMIpGwyy+/nDU0NCSotOfGbrez+++/n+Xl5TGpVMqKiorYf/zHf8T8okv2+m7fvn3Cf7Nr165ljE2tfgMDA2z16tVMqVSy9PR0dvvttzOHw5GA2pxZvPq2trZO+hm2ffv26HukSn0nMlG4Sab6/lA8xsYszUkIIYQQkuRozA0hhBBCUgqFG0IIIYSkFAo3hBBCCEkpFG4IIYQQklIo3BBCCCEkpVC4IYQQQkhKoXBDCCGEkJRC4YYQQgghKYXCDSGEEEJSCoUbQkjC7d69GwKBANdcc82Mfc+nnnoKS5YsmbHvRwiZORRuCCEJt2HDBtx777345ptvYDabE10cQkiSo3BDCEkop9OJTZs24a677sI111yDt956K3ptaGgIa9asQVZWFmQyGUpKSvDHP/4RAOD3+3HPPfcgOzsbUqkU+fn5WLduXfS1NpsN//zP/4ysrCykp6fjb//2b3H48GEAwFtvvYWnn34ahw8fBo/HA4/Hw1tvvQXGGJ566ink5eVBIpEgJycH991334z+PAgh506Y6AIQQua29957D+Xl5SgrK8Mtt9yCBx54AI899hh4PB4ef/xx1NfX4/PPP4dWq0VTUxM8Hg8A4OWXX8Ynn3yC9957D3l5eejs7ERnZ2f0fW+44QbIZDJ8/vnnUKlUeOONN3D55ZejsbERN910E44dO4YvvvgCW7duBQCoVCr8+c9/xu9//3ts3LgRCxcuhMViiQYiQkjyoHBDCEmoDRs24JZbbgEAXHXVVRgeHsbOnTtx2WWXoaOjA1VVVaiurgYAFBQURF/X0dGBkpISXHzxxeDxeMjPz49e27VrF/bt2wer1QqJRAIAePHFF/HRRx/hgw8+wB133AGlUgmhUAiDwRDzngaDAatWrYJIJEJeXh6WL18+Az8FQsh0om4pQkjCNDQ0YN++fVi9ejUAQCgU4qabbsKGDRsAAHfddRc2btyIJUuW4OGHH8b3338ffe3Pf/5z1NXVoaysDPfddx+++uqr6LXDhw/D6XQiMzMTSqUyerS2tqK5uXnS8txwww3weDwoKirCv/zLv+DDDz/EyMjIeao9IeR8oZYbQkjCbNiwASMjI8jJyYk+xxiDRCLB+vXrcfXVV6O9vR2fffYZtmzZgssvvxx33303XnzxRSxduhStra34/PPPsXXrVtx4441YtWoVPvjgAzidTmRnZ2PHjh3jvqdarZ60PCaTCQ0NDdi6dSu2bNmCX/3qV3jhhRewc+dOiESi8/ATIIScDzzGGEt0IQghc8/IyAhyc3Px8MMP44orroi5dt111+Hf/u3fcOedd8Y8/8Ybb+Chhx6C3W4f935ffvklrrrqKgwMDKC2thZXX301mpqaYrqyxnrmmWfw7rvv4ujRo5OWsaGhAeXl5aitrcXSpUvPvpKEkISglhtCSEJs3rwZQ0ND+OUvfwmVShVz7Wc/+xk2bNgAs9mMZcuWYeHChfD5fNi8eTPmz58PAPjd736H7OxsVFVVgc/n4/3334fBYIBarcaqVauwYsUKXHfddXj++edRWloKs9mMv/71r7j++utRXV2NgoICtLa2oq6uDrm5uUhLS8O7776LYDCImpoayOVyvP3225DJZDHjeQghsx+NuSGEJMSGDRuwatWqccEG4MLNgQMHIBQK8dhjj6GiogKXXHIJBAIBNm7cCABIS0vD888/j+rqalxwwQVoa2vDZ599Bj6fDx6Ph88++wyXXHIJbr/9dpSWluLmm29Ge3s79Hp99HtcddVV+NGPfoSsrCy8++67UKvVePPNN7Fy5UpUVFRg69at+PTTT5GZmTmjPxtCyLmhbilCCCGEpBRquSGEEEJISqFwQwghhJCUQuGGEEIIISmFwg0hhBBCUgqFG0IIIYSkFAo3hBBCCEkpFG4IIYQQklIo3BBCCCEkpVC4IYQQQkhKoXBDCCGEkJRC4YYQQgghKeX/B0u517kiUCEWAAAAAElFTkSuQmCC",
      "text/plain": [
       "<Figure size 640x480 with 1 Axes>"
      ]
     },
     "metadata": {},
     "output_type": "display_data"
    }
   ],
   "source": [
    "plt.plot(ss0.internals['hh']['a_grid'], ss0.internals['hh']['n'].T)\n",
    "plt.xlabel('Assets'), plt.ylabel('Labor supply')\n",
    "plt.show()"
   ]
  },
  {
   "cell_type": "markdown",
   "metadata": {},
   "source": [
    "## 4 Linearized dynamics using Jacobians\n",
    "Recall that we reduced the model to an implicit equation\n",
    "$$\n",
    "H(\\pi, Y, w; r^*, Z) =\n",
    "\\begin{pmatrix}\n",
    "\\kappa \\left(\\frac{w_t}{Z_t} - \\frac{1}{\\mu} \\right)  + \\frac{1}{1+r_{t+1}} \\frac{Y_{t+1}}{Y_t} \\log(1+\\pi_{t+1}) - \\log(1+\\pi_t)\n",
    "\\\\\n",
    "\\mathcal{A}_t(\\{r_s, w_s, \\tau_s, d_s\\})  - B\n",
    "\\\\\n",
    "\\mathcal{L}_t(\\{r_s, w_s, \\tau_s, d_s\\}) - L_t\n",
    "\\end{pmatrix}\n",
    "= \\begin{pmatrix} 0 \\\\ 0 \\\\ 0\\end{pmatrix},\n",
    "$$\n",
    "\n",
    "to be solved for $U=(\\pi, w, Y)$ given any $Z=(Z, r^*)$. The rest of the endogenous variables are be obtained as explicit functions of $(\\pi, w, Y; Z, r^*)$ along the DAG, but it would be tedious to write them out.\n",
    "\n",
    "Keep in mind that the implicit function theorem implies that the response of unknowns is\n",
    "\n",
    "$$\n",
    "dU = \\underbrace{-H_U^{-1}H_Z}_{G_U} dZ \\tag{1}\n",
    "$$\n",
    "\n",
    "Recall that we already solved for a steady state and stored is as `ss`. Furthermore, we will use a 300-period truncation horizon. "
   ]
  },
  {
   "cell_type": "markdown",
   "metadata": {},
   "source": [
    "### 4.1 Set up the DAG\n",
    "\n",
    "Let's set up the second (main) DAG. We just have to replace `nkpc_ss` with a full Phillips curve."
   ]
  },
  {
   "cell_type": "code",
   "execution_count": 12,
   "metadata": {},
   "outputs": [
    {
     "name": "stdout",
     "output_type": "stream",
     "text": [
      "<SimpleBlock 'monetary'>\n",
      "<SimpleBlock 'nkpc'>\n",
      "<SimpleBlock 'fiscal'>\n",
      "<SimpleBlock 'firm'>\n",
      "<HetBlock 'hh' with hetinput 'make_grid_transfers' and with hetoutput `labor_supply'>\n",
      "<SimpleBlock 'mkt_clearing'>\n"
     ]
    }
   ],
   "source": [
    "@simple\n",
    "def nkpc(pi, w, Z, Y, r, mu, kappa):\n",
    "    nkpc_res = kappa * (w / Z - 1 / mu) + Y(+1) / Y * (1 + pi(+1)).apply(np.log) / (1 + r(+1))\\\n",
    "               - (1 + pi).apply(np.log)\n",
    "    return nkpc_res\n",
    "\n",
    "\n",
    "blocks = [hh_ext, firm, monetary, fiscal, mkt_clearing, nkpc]\n",
    "hank = create_model(blocks, name=\"One-Asset HANK\")\n",
    "\n",
    "print(*hank.blocks, sep='\\n')"
   ]
  },
  {
   "cell_type": "markdown",
   "metadata": {},
   "source": [
    "- Recall that `create_model` performs a topological sort to put the blocks in a (not necessarily unique) correct order of evaluation. Here, `monetary` must be first, then `nkpc`, `fiscal`, `firm` in any order, then `hh`, and finally `mkt_clearing`. Note that `hank.blocks` is a list in such an order."
   ]
  },
  {
   "cell_type": "markdown",
   "metadata": {},
   "source": [
    "Before we proceed, let's make sure that `ss0` is consistent with the second DAG. Just evaluate the `hank` at `ss0` and verify that the equilibrium conditions hold as expected."
   ]
  },
  {
   "cell_type": "code",
   "execution_count": 13,
   "metadata": {},
   "outputs": [],
   "source": [
    "ss = hank.steady_state(ss0)\n",
    "\n",
    "for k in ss0.keys():\n",
    "    assert np.all(np.isclose(ss[k], ss0[k]))"
   ]
  },
  {
   "cell_type": "markdown",
   "metadata": {},
   "source": [
    "### 4.2 Obtain GE Jacobian \n",
    "\n",
    "With the model object `hank` in hand, we can get the general equilibrium Jacobians by using its `solve_jacobian` method."
   ]
  },
  {
   "cell_type": "code",
   "execution_count": 14,
   "metadata": {},
   "outputs": [
    {
     "name": "stdout",
     "output_type": "stream",
     "text": [
      "0.4823179244995117\n",
      "Winding number: 1\n",
      "Winding number: 1\n",
      "The economy is INDETERMINATE (NO SOLUTION)\n"
     ]
    },
    {
     "data": {
      "image/png": "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",
      "text/plain": [
       "<Figure size 640x480 with 1 Axes>"
      ]
     },
     "metadata": {},
     "output_type": "display_data"
    }
   ],
   "source": [
    "# setup\n",
    "import math\n",
    "import sequence_jacobian\n",
    "import time\n",
    "\n",
    "T = 300\n",
    "exogenous = ['rstar', 'Z']\n",
    "unknowns = ['pi', 'w', 'Y']\n",
    "targets = ['nkpc_res', 'asset_mkt', 'labor_mkt']\n",
    "\n",
    "H_U = hank.jacobian(ss, unknowns, targets, T=T)\n",
    "\n",
    "start = time.time()\n",
    "onatskiMatrix = functions.onatski(targets = targets, endogenous = unknowns, scale = 'A', T =T, ss0=ss0, H_U = H_U)\n",
    "end = time.time()\n",
    "print(end - start)\n",
    "\n",
    "windingNumber = functions.onatskiWindingNumber(onatskiMatrix)\n",
    "\n",
    "windingNumber = functions.onatskiWindingNumber(onatskiMatrix)\n",
    "print(\"Winding number: \" + str(windingNumber))\n",
    "print(functions.checkSolutions(windingNumber))\n",
    "\n",
    "functions.plot(onatskiMatrix)\n"
   ]
  },
  {
   "cell_type": "markdown",
   "metadata": {},
   "source": [
    "Under the hood, the `solve_jacobian` method performs the following steps:\n",
    " - computes the partial Jacobians $\\mathcal{J}^{o,i}$ for all blocks (if their Jacobian is not supplied already), only with respect to the inputs that actually change: unknowns, exogenous shocks, outputs of earlier blocks\n",
    " - forward accumulates partial Jacobians $\\mathcal{J}^{o,i}$ to form total Jacobians $\\mathbf{J}^{o,i}$\n",
    " - packs $\\mathbf{J}^{o,i}$ to form $\\mathbf{H_U}$ and $\\mathbf{H_Z}$\n",
    " - solves for the GE Jacobians for unknowns $\\mathbf{G_U} = \\mathbf{H_U}^{-1}\\mathbf{H_Z}$\n",
    " - forward accumulates GE Jacobians to obtain $\\mathbf{G}$ for other endogenous variables "
   ]
  },
  {
   "cell_type": "markdown",
   "metadata": {},
   "source": [
    "### 4.3 Results\n",
    "\n",
    "Now let's consider 25 basis point monetary policy shocks with different persistences and plot the response of inflation."
   ]
  },
  {
   "cell_type": "code",
   "execution_count": null,
   "metadata": {},
   "outputs": [],
   "source": [
    "rhos = np.array([0.2, 0.4, 0.6, 0.8, 0.9])\n",
    "\n",
    "drstar = -0.0025 * rhos ** (np.arange(T)[:, np.newaxis])\n",
    "dpi = G['pi']['rstar'] @ drstar\n",
    "\n",
    "plt.plot(10000 * dpi[:21])\n",
    "plt.title(r'Inflation responses monetary policy shocks')\n",
    "plt.xlabel('quarters')\n",
    "plt.ylabel('bp deviation from ss')\n",
    "plt.show()"
   ]
  },
  {
   "cell_type": "markdown",
   "metadata": {},
   "source": [
    "## 5. Nonlinear dynamics\n",
    "Conceptually there's nothing new in this section compared to the Krusell-Smith notebook. We're going to implement a quasi-Newton algorithm to solve for the unknown sequences $U=(\\pi, w, Y)$ given some sequences of shocks $(r^*, Z).$ We initialize the algorithm by the naive guess that the variables in $U$ stay constant at their steady-state level. Then we evaluate the DAG and update the guess using the inverse Jacobian $H_U^{-1}.$ The algorithm converges in a few steps, despite the presence of substantial nonlinearities."
   ]
  },
  {
   "cell_type": "markdown",
   "metadata": {},
   "source": [
    "### 5.1 A typical monetary policy shock\n",
    "Note that the linearized solution ignores price adjustment costs. For a monetary policy shock of typical size and persistence, this does not really matter.   "
   ]
  },
  {
   "cell_type": "code",
   "execution_count": null,
   "metadata": {},
   "outputs": [],
   "source": [
    "rho_r, sig_r = 0.61, -0.01/4\n",
    "rstar_shock_path = {\"rstar\": sig_r * rho_r ** (np.arange(T))}\n",
    "\n",
    "td_nonlin = hank.solve_impulse_nonlinear(ss, unknowns, targets, rstar_shock_path)\n",
    "td_lin = hank.solve_impulse_linear(ss, unknowns, targets, rstar_shock_path)\n",
    "\n",
    "dC_nonlin = 100 * td_nonlin['C']\n",
    "dC_lin = 100 * td_lin['C']\n",
    "\n",
    "plt.plot(dC_lin[:21], label='linear', linestyle='-', linewidth=2.5)\n",
    "plt.plot(dC_nonlin[:21], label='nonlinear', linestyle='--', linewidth=2.5)\n",
    "plt.title(r'Consumption response to 1% monetary policy shock')\n",
    "plt.xlabel('quarters')\n",
    "plt.ylabel('% deviation from ss')\n",
    "plt.legend()\n",
    "plt.show()"
   ]
  },
  {
   "cell_type": "markdown",
   "metadata": {},
   "source": [
    "### 5.2 A very large monetary policy shock\n",
    "However, the nonlinearities may become substantial for very large or persistent monetary policy shocks. Reassuringly, the Jacobian still works well as an updating rule. The quasi-Newton method for a 10% monetary policy shock (extremely large!) still converges below in just 9 iterations, despite nonlinearities evident in the results."
   ]
  },
  {
   "cell_type": "code",
   "execution_count": null,
   "metadata": {},
   "outputs": [],
   "source": [
    "rho_r, sig_r = 0.61, -0.10/4\n",
    "rstar_shock_path = {\"rstar\": sig_r * rho_r ** (np.arange(T))}\n",
    "\n",
    "td_nonlin = hank.solve_impulse_nonlinear(ss, unknowns, targets, rstar_shock_path)\n",
    "td_lin = hank.solve_impulse_linear(ss, unknowns, targets, rstar_shock_path)\n",
    "\n",
    "dC_nonlin = 100 * td_nonlin['C']\n",
    "dC_lin = 100 * td_lin['C']\n",
    "\n",
    "plt.plot(dC_lin[:21], label='linear', linestyle='-', linewidth=2.5)\n",
    "plt.plot(dC_nonlin[:21], label='nonlinear', linestyle='--', linewidth=2.5)\n",
    "plt.title(r'Consumption response to 10% monetary policy shock')\n",
    "plt.xlabel('quarters')\n",
    "plt.ylabel('% deviation from ss')\n",
    "plt.legend()\n",
    "plt.show()"
   ]
  }
 ],
 "metadata": {
  "kernelspec": {
   "display_name": "Python 3",
   "language": "python",
   "name": "python3"
  },
  "language_info": {
   "codemirror_mode": {
    "name": "ipython",
    "version": 3
   },
   "file_extension": ".py",
   "mimetype": "text/x-python",
   "name": "python",
   "nbconvert_exporter": "python",
   "pygments_lexer": "ipython3",
   "version": "3.9.18"
  }
 },
 "nbformat": 4,
 "nbformat_minor": 2
}
                                                                                                                                                                                                                                                                                                                                                                                                                                                                                                                                                                                                                                                                                                                                                                                                                                                                                                                                                                                                                                                                                                                                                                                                                                                                                                                                                                                                                                                                                                                                                                                                                                                                                                                                                                                                                                                                                                                                                                                                                                                                                                                                                                                                                                                                                                                                                                                                                                                                                                                                                                                                                                                                                                                                                                                                                                                                                                                                                                                                                                                                                                                                                                                                                                                                                                                                                                                                                                                                                                                                                                                                                                                                                                                                                                                                                                                                                                                                                                                                                                                                                                                                                                                                                                                                                                                                                                                                                                                                                                                                                                                                                                                                                                                                                                                                                                                                                                                                                                                                                                                                                                                                                                                                                                                                                                                                                                                                                                                                                                                                                                                                                                                                                                                                                                                                                                                                                                                                                                                                                                                                                                                                                                                                                                                                                                                                                                                                                                                                                                                                                                                                                                                                                                                                                                                                                                                                                                                                                                                                                                                                                                                                                                                                                                                                                                                                                        