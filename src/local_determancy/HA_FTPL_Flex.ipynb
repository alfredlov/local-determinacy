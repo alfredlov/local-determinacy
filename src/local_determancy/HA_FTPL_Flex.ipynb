{
 "cells": [
  {
   "cell_type": "markdown",
   "metadata": {},
   "source": [
    "# Example 5: HA model with flexible prices and FTPL tax rule\n",
    "\n",
    "In this notebook we \n",
    "\n",
    "- 1. solve a modified version of the one-asset HANK model from Auclert, Bardóczy, Rognlie, Straub (2021): \"Using the Sequence-Space Jacobian to Solve and Estimate Heterogeneous-Agent Models\" ([link to paper](https://www.bencebardoczy.com/publication/sequence-jacobian/sequence-jacobian.pdf)) For model details please see their paper\n",
    "\n",
    "     Modifications:\n",
    "      \n",
    "         - Flexible Prices\n",
    "    \n",
    "         - Endowment Economy\n",
    "\n",
    "         - Government Bonds are Nominal\n",
    "\n",
    "         - Fiscal Policy follows a passive/active FTPL tax rule\n",
    "    \n",
    "- 2. Using the Jacobian from step 1 to compute the winding number to check determinacy following Hagedorn (2023) \"Local Determinacy in Incomplete-Markets Models\"\n",
    "\n",
    "For more examples and information on the Local Determimnacy toolkit, please visit our [GitHub page](https://github.com/shade-econ/sequence-jacobian)."
   ]
  },
  {
   "cell_type": "code",
   "execution_count": 57,
   "metadata": {},
   "outputs": [],
   "source": [
    "import numpy as np\n",
    "import matplotlib.pyplot as plt\n",
    "import local_determancy as ld\n",
    "\n",
    "from sequence_jacobian import simple, create_model  # functions\n",
    "from sequence_jacobian import hetblocks, grids      # modules\n"
   ]
  },
  {
   "cell_type": "markdown",
   "metadata": {},
   "source": [
    "## 2 The Model\n",
    "\n",
    "We follow Auclert, Bardóczy, Rognlie, Straub (2021) and define\n",
    "\n",
    "- Inputs for the heterogeneous household block \n",
    "\n",
    "- Other model (non-household) parts (steady state)\n",
    "\n",
    "- Compute and Calibrate the Steady state\n",
    "\n",
    "- Other model (non-household) parts (transition)"
   ]
  },
  {
   "cell_type": "markdown",
   "metadata": {},
   "source": [
    "### 2.1 Hetinputs\n",
    "\n",
    "We use the hetBlock`hh_sim` (standard incomplete markets model) from the SSJ toolkit located in `sequence_jacobian/hetblocks`.\n"
   ]
  },
  {
   "cell_type": "code",
   "execution_count": 58,
   "metadata": {},
   "outputs": [],
   "source": [
    "hh = hetblocks.hh_sim.hh\n",
    "\n",
    "def make_grids(rho_e, sd_e, n_e, min_a, max_a, n_a):\n",
    "            e_grid, pi_e , Pi = grids.markov_rouwenhorst(rho_e, sd_e, n_e)\n",
    "            a_grid = grids.asset_grid(min_a, max_a, n_a)\n",
    "            return e_grid, pi_e, Pi, a_grid\n",
    "\n",
    "def income(w, Tax, pi_e, e_grid):\n",
    "            tax_rule = e_grid\n",
    "            tax = Tax / np.sum(pi_e * tax_rule) * tax_rule\n",
    "            y = w * e_grid - Tax \n",
    "            return y\n",
    "\n",
    "hh1 = hh.add_hetinputs([make_grids, income])\n"
   ]
  },
  {
   "cell_type": "markdown",
   "metadata": {},
   "source": [
    "### 2.2 Model Blocks \n",
    "\n",
    "We substitute lagged values to simplify the comuputation of the winding number.\n",
    "Lagged Inflation pi(-1) -> piL\n",
    "\n",
    "$\\underline{\\text{Monetary policy rule}}$ for nominal interest rate $i_{t+1}$\n",
    "$$\n",
    "\\frac{1+i_{t+1}}{1+r^*} = 1 +\\phi  \\frac{P(-1)-P_{ss}}{P_{ss}} = 1 +\\phi  \\frac{PL-P_{ss}}{P_{ss}},\n",
    "$$\n",
    "where $PL$ is the lagged price level, $P_{ss}$ is the steady-state price level and $r^*$ is the steady-state interest rate.\n",
    "\n",
    "$\\underline{\\text{FTPL tax rule}}$ \n",
    "$$\n",
    "\\tau_t = \\tau_{ss} + \\gamma (r_t b_t - \\tau_{ss}),\n",
    "$$\n",
    "where $\\tau_{ss}$ is steady-state taxes, $b_t$ is real bonds, $r_t$ is the real interest rate and $\\gamma \\geq 0$ desscribes the tax response to interest rate payments.\n",
    "\n",
    "- $\\gamma \\in (0,1):$  active fiscal policy (Leeper, 1991)\n",
    "\n",
    "- $\\gamma > 1:$  passive fiscal policy (Leeper, 1991)\n"
   ]
  },
  {
   "cell_type": "code",
   "execution_count": 59,
   "metadata": {},
   "outputs": [],
   "source": [
    "@simple\n",
    "def monetary(piL, rstar, rscale, phi):\n",
    "        rN = (1 + rstar + rscale* phi * piL) -1 \n",
    "        return rN\n",
    "\n",
    "@simple\n",
    "def monetaryReal(piL, rN):\n",
    "        r = (1 + rN) / (1 + piL(+1)) - 1  \n",
    "        return r\n",
    "\n",
    "\n",
    "@simple\n",
    "def fiscal(rN, B, piL, tss, gamma):\n",
    "        Tax = tss  + gamma*(((1 + rN) / (1 + piL(+1)) - 1 ) * B - tss)  \n",
    "        return Tax\n",
    "\n",
    "@simple\n",
    "def debt(rN, piL, B, Tax):\n",
    "        budget = -B(+1) + (((1 + rN) / (1 + piL(+1))) * B  -  Tax )    \n",
    "        return budget\n",
    "\n",
    "@simple \n",
    "def mkt_clearing(A, B):\n",
    "        asset_mkt = A - B(+1)\n",
    "        return asset_mkt\n",
    "\n",
    "\n",
    "@simple\n",
    "def nkpc_ss(mu):\n",
    "        w = 1/mu\n",
    "        return w"
   ]
  },
  {
   "cell_type": "markdown",
   "metadata": {},
   "source": [
    "### 2.3 Steady State and Calibration\n",
    "\n"
   ]
  },
  {
   "cell_type": "code",
   "execution_count": 60,
   "metadata": {},
   "outputs": [],
   "source": [
    "\n",
    "blocks_ss = [hh1,monetary, monetaryReal, fiscal, debt, mkt_clearing, nkpc_ss]\n",
    "\n",
    "ha_ss = create_model(blocks_ss, name=\"One-Asset Simple HANK SS\")\n",
    "\n",
    "calibration =  {'eis': 1, 'rho_e': 0.945,  'sd_e': 0.7, 'n_e': 13,\n",
    "               'min_a': 0.0, 'max_a': 1000, 'n_a': 200, 'Y': 1,  'Yss': 1,  'Bss': 4, 'tss': 0.05,   'piL': 0.0,\n",
    "               'mu': 1.1, 'rstar': 0.0125, 'rscale': 1.0125 , 'phi': 1.1, 'gamma': 1.1, 'B': 4}\n",
    "\n",
    "unknowns_ss = {'beta': 0.986}\n",
    "targets_ss = {'asset_mkt': 0}\n",
    "\n",
    "\n",
    "ss0 = ha_ss.solve_steady_state(calibration, unknowns_ss, targets_ss, solver=\"hybr\")\n"
   ]
  },
  {
   "cell_type": "markdown",
   "metadata": {},
   "source": [
    "### 2.4 Transition\n",
    "\n",
    "- No further blocks need to be added: All steady-state blocks are valid in transition since prices are flexible. "
   ]
  },
  {
   "cell_type": "code",
   "execution_count": 61,
   "metadata": {},
   "outputs": [],
   "source": [
    "blocks = [hh1,monetary, monetaryReal, fiscal, debt, mkt_clearing, nkpc_ss]\n",
    "\n",
    "ha = create_model(blocks, name=\"One-Asset FTPL Flex HA\")\n",
    "\n",
    "ss = ha.steady_state(ss0)"
   ]
  },
  {
   "cell_type": "markdown",
   "metadata": {},
   "source": [
    "### 3 Obtain Jacobian and Compute Winding Number \n",
    "\n",
    "\n",
    "-  Linearizing the asset market clearing condition, $A(\\pi_{t-1},\\pi_t, \\pi_{t+1}, \\ldots, \\pi_{t+k}, \\ldots; b_{t},b_{t+1},b_{t+2}, \\ldots) - b_{t+1} = 0$ with respect to  $x_{t+k} = [\\pi_{t+k-1} , b_{t+k}]'$ delivers infinite number of leads. There are no lags since we use $piL = pi(-1)$.\n",
    "\t\t\t$$\n",
    "\t\t\\sum_{k=0}^{\\infty} A_k E_t x_{t+k} = \\sum_{k=0}^{\\infty} A_k E_t \\begin{bmatrix}\n",
    "    \\pi_{t+k-1} \\\\\n",
    "    b_{t+k} \\\\\n",
    " \\end{bmatrix} = 0,  \n",
    "\t\t\t$$\t\n",
    "\n",
    "-  The SSJ package delivers the derivatives of the asset market clearing condition, $A(P_{t-1}, P_t, P_{t+1}, \\ldots, P_{t+k}, \\ldots) - B = 0$,\n",
    "\t\t\t$$\n",
    "\t\tA_k = \\frac{\\partial (A(\\ldots) - B)}{\\partial x_{t+k}} =  \\frac{\\partial (A(\\ldots) - B)}{\\partial \\pi_{t-1+k}}, \\text{\\hspace{0.2cm} for \\hspace{0.1cm}} k=0,1,2,\\ldots\n",
    "\t\t\t$$\t\n",
    "\twhere $x_{t+k} = P_{t+k-1} \\hspace{0.1cm}$ for $ k=0,1,2,\\ldots$\n",
    "-  Onatski (06) defines the complex function\n",
    "\t\t\t$$\n",
    "\t\t\t{\\color{red} \\Theta(\\lambda)} = det \\sum_{k=0}^{\\infty} A_k e^{-i k \\lambda},\n",
    "\t\t\t$$\n",
    "- ${\\color{red} \\text{Winding number}}$ is defined as  the number of times the graph of $\\Theta(\\lambda)$ rotates around zero counter-clockwise when $\\lambda$ goes form $0$ to $2 \\pi$.\n",
    "\n",
    "- Ontaski (2006) shows\n",
    "\t\n",
    "\t- ${\\color{red} \\text{Determinacy}}$  (=unique bounded solution) if the ${\\color{green} \\text{winding number }}$  of $\\Theta(\\lambda)$ is equal to ${\\color{green} \\text{zero}}$.\n",
    "\n",
    "\t- ${\\color{red} \\text{ Multiple Solutions}}$    if winding number is ${\\color{green} \\text{less than zero}}$.\n",
    "\n",
    "\t- ${\\color{red} \\text{ No Solution}}$ if winding number is ${\\color{green} \\text{larger than zero}}$.\n",
    "\n",
    "\t\t \n",
    "\t\t "
   ]
  },
  {
   "cell_type": "code",
   "execution_count": 62,
   "metadata": {},
   "outputs": [
    {
     "name": "stdout",
     "output_type": "stream",
     "text": [
      "Winding number: 0\n",
      "The economy is DETERMINATE\n"
     ]
    },
    {
     "data": {
      "image/png": "[encoded data removed]",
      "text/plain": [
       "<Figure size 640x480 with 1 Axes>"
      ]
     },
     "metadata": {},
     "output_type": "display_data"
    }
   ],
   "source": [
    "T = 300\n",
    "\n",
    "unknowns = ['piL','B']\n",
    "targets = ['asset_mkt','budget']\n",
    "\n",
    "H_U = ha.jacobian(ss, unknowns, targets, T=T)\n",
    "\n",
    "onatski = ld.onatski(targets = targets, endogenous = unknowns, scale = 'A', T =T, ss0=ss0, H_U = H_U)\n",
    "\n",
    "windingNumber = ld.onatskiWindingNumber(onatski)\n",
    "\n",
    "windingNumber = ld.onatskiWindingNumber(onatski)\n",
    "print(ld.checkSolutions(windingNumber))\n",
    "\n",
    "ld.plot(onatski)\n"
   ]
  }
 ],
 "metadata": {
  "kernelspec": {
   "display_name": "Python 3",
   "language": "python",
   "name": "python3"
  },
  "language_info": {
   "codemirror_mode": {
    "name": "ipython",
    "version": 3
   },
   "file_extension": ".py",
   "mimetype": "text/x-python",
   "name": "python",
   "nbconvert_exporter": "python",
   "pygments_lexer": "ipython3",
   "version": "3.12.3"
  }
 },
 "nbformat": 4,
 "nbformat_minor": 2
}
